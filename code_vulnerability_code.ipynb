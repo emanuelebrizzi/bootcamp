{
  "nbformat": 4,
  "nbformat_minor": 0,
  "metadata": {
    "colab": {
      "provenance": [],
      "collapsed_sections": [
        "vwxvuUJnjbIH"
      ],
      "authorship_tag": "ABX9TyMi81rfUrEp4TqLcBlavPoO",
      "include_colab_link": true
    },
    "kernelspec": {
      "name": "python3",
      "display_name": "Python 3"
    },
    "language_info": {
      "name": "python"
    }
  },
  "cells": [
    {
      "cell_type": "markdown",
      "metadata": {
        "id": "view-in-github",
        "colab_type": "text"
      },
      "source": [
        "<a href=\"https://colab.research.google.com/github/emanuelebrizzi/bootcamp/blob/main/code_vulnerability_code.ipynb\" target=\"_parent\"><img src=\"https://colab.research.google.com/assets/colab-badge.svg\" alt=\"Open In Colab\"/></a>"
      ]
    },
    {
      "cell_type": "markdown",
      "source": [],
      "metadata": {
        "id": "-N87C1O-kzwD"
      }
    },
    {
      "cell_type": "markdown",
      "source": [],
      "metadata": {
        "id": "jxlIfwJkk2IT"
      }
    },
    {
      "cell_type": "code",
      "source": [
        "!pip install datasets"
      ],
      "metadata": {
        "id": "XCJT8cLSu_la"
      },
      "execution_count": null,
      "outputs": []
    },
    {
      "cell_type": "markdown",
      "source": [
        "# **Data upload**\n"
      ],
      "metadata": {
        "id": "vwxvuUJnjbIH"
      }
    },
    {
      "cell_type": "code",
      "execution_count": 43,
      "metadata": {
        "id": "TXYDvCvi5XZq",
        "colab": {
          "base_uri": "https://localhost:8080/"
        },
        "outputId": "765c5d9b-7b67-48cb-fc0e-496a166628c5"
      },
      "outputs": [
        {
          "output_type": "stream",
          "name": "stdout",
          "text": [
            "Drive already mounted at /content/drive; to attempt to forcibly remount, call drive.mount(\"/content/drive\", force_remount=True).\n"
          ]
        }
      ],
      "source": [
        "#from google.colab import files\n",
        "#import zipfile\n",
        "#import os\n",
        "\n",
        "from google.colab import drive\n",
        "drive.mount(\"/content/drive\")"
      ]
    },
    {
      "cell_type": "code",
      "source": [
        "import os\n",
        "import glob\n",
        "\n",
        "# Directory path\n",
        "drive_path = \"/content/drive/MyDrive/bootcamp_file\"\n",
        "\n",
        "libpng_path = os.path.join(drive_path, \"LibPNG\")\n",
        "\n",
        "libpng_vuln_path = os.path.join(libpng_path, \"Vulnerable_functions\")\n",
        "libpng_non_vuln_path = os.path.join(libpng_path, \"Non_vulnerable_functions\")\n",
        "\n",
        "vlc_path = os.path.join(drive_path, \"VLC\")\n",
        "\n",
        "vlc_vuln_path = os.path.join(vlc_path, \"Vulnerable_functions\")\n",
        "vlc_non_vuln_path = os.path.join(vlc_path, \"Non_vulnerable_functions\")\n",
        "\n",
        "pidgin_path = os.path.join(drive_path, \"Pidgin\")\n",
        "\n",
        "pidgin_vuln_path = os.path.join(pidgin_path, \"Vulnerable_functions\")\n",
        "pidgin_non_vuln_path = os.path.join(pidgin_path, \"Non_vulnerable_functions\")\n"
      ],
      "metadata": {
        "id": "9bSkiYW8bdvj"
      },
      "execution_count": 44,
      "outputs": []
    },
    {
      "cell_type": "code",
      "source": [
        "\n",
        "def load_files_from_folder(folder, label):\n",
        "    files = glob.glob(os.path.join(folder, \"*.c\"))\n",
        "    data = []\n",
        "    for file in files:\n",
        "        with open(file, \"r\", encoding=\"utf-8\", errors=\"ignore\") as f:\n",
        "            data.append((f.read(), label, os.path.basename(file)))\n",
        "    return data\n"
      ],
      "metadata": {
        "id": "LuhDeKSyd9Gf"
      },
      "execution_count": 45,
      "outputs": []
    },
    {
      "cell_type": "markdown",
      "source": [
        "# **Replace Function names and Variable names**"
      ],
      "metadata": {
        "id": "GrfMYRimjn3v"
      }
    },
    {
      "cell_type": "markdown",
      "source": [],
      "metadata": {
        "id": "WZXEwCQ0k4br"
      }
    },
    {
      "cell_type": "code",
      "source": [
        "import re\n",
        "import random\n",
        "import string\n",
        "from pathlib import Path"
      ],
      "metadata": {
        "id": "PfJOtGKtW-q3"
      },
      "execution_count": 46,
      "outputs": []
    },
    {
      "cell_type": "code",
      "source": [
        "# Removes comments from C code\n",
        "def remove_comments(code):\n",
        "    code = re.sub(r'//.*', '', code)\n",
        "    code = re.sub(r'/\\*.*?\\*/', '', code, flags=re.DOTALL)\n",
        "    return code\n",
        "\n",
        "# Extracts variable and function names from C code\n",
        "def extract_identifiers(code):\n",
        "    pattern = re.compile(r'\\b([a-zA-Z_][a-zA-Z0-9_]*)\\b')\n",
        "    keywords = set(['int', 'char', 'float', 'double', 'return', 'if', 'else', 'while', 'for', 'do', 'switch', 'case', 'void'])\n",
        "    identifiers = set(pattern.findall(code)) - keywords\n",
        "    return identifiers\n",
        "\n",
        "# Classifies identifiers as variables or functions\n",
        "def categorize_identifiers(identifiers):\n",
        "    var_counter, fun_counter = 1, 1\n",
        "    replacements = {}\n",
        "    for identifier in identifiers:\n",
        "        if re.search(r'\\b[A-Za-z_][A-Za-z0-9_]*\\s*\\(', identifier):\n",
        "            replacements[identifier] = f'fun_{fun_counter}'\n",
        "            fun_counter += 1\n",
        "        else:\n",
        "            replacements[identifier] = f'var_{var_counter}'\n",
        "            var_counter += 1\n",
        "    return replacements\n",
        "\n",
        "# Replaces variable and function names with new names\n",
        "def replace_identifiers(code, replacements):\n",
        "\n",
        "    for old, new in replacements.items():\n",
        "        code = re.sub(r'\\b' + re.escape(old) + r'\\b', new, code)\n",
        "    return code\n",
        "\n",
        "# Reads a C file, replaces names, and saves the new file\n",
        "def process_c_file(filepath, new_filepath):\n",
        "    with open(filepath, 'r', encoding='Latin-1') as file:\n",
        "        code = file.read()\n",
        "\n",
        "    code_no_comments = remove_comments(code)\n",
        "    identifiers = extract_identifiers(code_no_comments)\n",
        "    replacements = categorize_identifiers(identifiers)\n",
        "    new_code = replace_identifiers(code_no_comments, replacements)\n",
        "    with open(new_filepath, 'w', encoding='Latin-1') as file:\n",
        "        file.write(new_code)\n",
        "\n",
        "# Processes all C files in a directory\n",
        "def process_directory(directory, new_directory_path):\n",
        "    for filepath in Path(directory).glob(\"*.c\"):\n",
        "        new_filepath = os.path.join(new_directory_path, os.path.basename(filepath))\n",
        "        process_c_file(filepath, new_filepath)"
      ],
      "metadata": {
        "id": "zqT_F2_Eoh7P"
      },
      "execution_count": 47,
      "outputs": []
    },
    {
      "cell_type": "code",
      "source": [
        "import shutil\n",
        "\n",
        "def create_directory(directory_path):\n",
        "    if os.path.exists(directory_path):\n",
        "        shutil.rmtree(directory_path)\n",
        "    os.makedirs(directory_path, exist_ok=True)\n",
        "\n",
        "# Creation modified directory\n",
        "modified_path = os.path.join(drive_path, \"modified_files\")\n",
        "#create_directory(modified_path)\n",
        "\n",
        "libpng_modified = os.path.join(modified_path, \"LibPNG\")\n",
        "#create_directory(libpng_modified)\n",
        "\n",
        "vlc_modified = os.path.join(modified_path, \"VLC\")\n",
        "#create_directory(vlc_modified)\n",
        "\n",
        "pidgin_modified = os.path.join(modified_path, \"Pidgin\")\n",
        "#create_directory(pidgin_modified)\n",
        "\n",
        "libpng_modified_vuln_path = os.path.join(libpng_modified, \"Vulnerable_functions\")\n",
        "#create_directory(libpng_modified_vuln_path)\n",
        "libpng_modified_non_vuln_path = os.path.join(libpng_modified, \"Non_vulnerable_functions\")\n",
        "#create_directory(libpng_modified_non_vuln_path)\n",
        "\n",
        "vlc_modified_vuln_path = os.path.join(vlc_modified, \"Vulnerable_functions\")\n",
        "#create_directory(vlc_modified_vuln_path)\n",
        "vlc_modified_non_vuln_path = os.path.join(vlc_modified, \"Non_vulnerable_functions\")\n",
        "#create_directory(vlc_modified_non_vuln_path)\n",
        "\n",
        "pidgin_modified_vuln_path = os.path.join(pidgin_modified, \"Vulnerable_functions\")\n",
        "#create_directory(pidgin_modified_vuln_path)\n",
        "pidgin_modified_non_vuln_path = os.path.join(pidgin_modified, \"Non_vulnerable_functions\")\n",
        "#create_directory(pidgin_modified_non_vuln_path)"
      ],
      "metadata": {
        "id": "LyBFy5YFsLh9"
      },
      "execution_count": 48,
      "outputs": []
    },
    {
      "cell_type": "code",
      "source": [
        "process_directory(libpng_vuln_path, libpng_modified_vuln_path)\n",
        "process_directory(libpng_non_vuln_path, libpng_modified_non_vuln_path)\n",
        "process_directory(vlc_vuln_path, vlc_modified_vuln_path)\n",
        "process_directory(vlc_non_vuln_path, vlc_modified_non_vuln_path)\n",
        "process_directory(pidgin_vuln_path, pidgin_modified_vuln_path)\n",
        "process_directory(pidgin_non_vuln_path, pidgin_modified_non_vuln_path)"
      ],
      "metadata": {
        "id": "CqKnDKBGloVC"
      },
      "execution_count": null,
      "outputs": []
    },
    {
      "cell_type": "markdown",
      "source": [
        "# Dataset preparation"
      ],
      "metadata": {
        "id": "dm5U2rLuQaow"
      }
    },
    {
      "cell_type": "code",
      "source": [
        "import os\n",
        "import numpy as np\n",
        "from collections import Counter\n",
        "from tabulate import tabulate\n",
        "import random\n",
        "import os\n",
        "import re"
      ],
      "metadata": {
        "id": "2SK_9iAc8pI-"
      },
      "execution_count": 49,
      "outputs": []
    },
    {
      "cell_type": "code",
      "source": [
        "# Load and label data\n",
        "def load_data(directory, label):\n",
        "    data = []\n",
        "    for filename in os.listdir(directory):\n",
        "        with open(os.path.join(directory, filename), 'r') as file:\n",
        "            data.append((file.read(), label))\n",
        "    return data\n",
        "\n",
        "vulnerable_files = load_data(libpng_modified_vuln_path, label=1)\n",
        "non_vulnerable_files = load_data(libpng_modified_non_vuln_path, label=0)\n",
        "\n",
        "# Combine and shuffle dataset\n",
        "dataset = vulnerable_files + non_vulnerable_files\n",
        "np.random.shuffle(dataset)\n",
        "\n",
        "texts, labels = zip(*dataset)"
      ],
      "metadata": {
        "id": "T2SHplrUQYu4"
      },
      "execution_count": 50,
      "outputs": []
    },
    {
      "cell_type": "code",
      "source": [
        "# Load and label data\n",
        "def load_data_directoies(directories, label):\n",
        "    data = []\n",
        "    for directory in directories:  # Iteriamo sulle directory della lista\n",
        "        for filename in os.listdir(directory):  # Ora directory è una stringa\n",
        "            with open(os.path.join(directory, filename), 'r') as file:\n",
        "                data.append((file.read(), label))\n",
        "    return data\n",
        "vulnerable_files = load_data_directoies([libpng_modified_vuln_path, vlc_modified_vuln_path, pidgin_modified_vuln_path], label=1)\n",
        "non_vulnerable_files = load_data_directoies([libpng_modified_non_vuln_path, vlc_modified_non_vuln_path, pidgin_modified_non_vuln_path], label=0)\n",
        "\n",
        "# Combine and shuffle dataset\n",
        "dataset = vulnerable_files + non_vulnerable_files\n",
        "np.random.shuffle(dataset)\n",
        "\n",
        "texts, labels = zip(*dataset)"
      ],
      "metadata": {
        "id": "qrqqOl26TYbe"
      },
      "execution_count": 51,
      "outputs": []
    },
    {
      "cell_type": "markdown",
      "source": [
        "### Dataset info"
      ],
      "metadata": {
        "id": "HzUuTtbUxZ05"
      }
    },
    {
      "cell_type": "code",
      "source": [
        "print(\"Vulnerable files: \", len(vulnerable_files))\n",
        "print(\"Non Vulnerable files: \", len(non_vulnerable_files))\n",
        "print(\"Dataset files: \", len(dataset))"
      ],
      "metadata": {
        "colab": {
          "base_uri": "https://localhost:8080/"
        },
        "id": "kwD77zOi3sMu",
        "outputId": "aacf0552-7f03-4976-a714-32ad89cc2d83"
      },
      "execution_count": 52,
      "outputs": [
        {
          "output_type": "stream",
          "name": "stdout",
          "text": [
            "Vulnerable files:  118\n",
            "Non Vulnerable files:  15318\n",
            "Dataset files:  15436\n"
          ]
        }
      ]
    },
    {
      "cell_type": "code",
      "source": [
        "n = len(vulnerable_files) * 8\n",
        "\n",
        "non_vulnerable_files_selected = random.sample(non_vulnerable_files, min(n, len(non_vulnerable_files)))\n",
        "\n",
        "dataset = vulnerable_files + non_vulnerable_files_selected\n",
        "random.shuffle(dataset)\n",
        "\n",
        "texts, labels = zip(*dataset)\n"
      ],
      "metadata": {
        "id": "pCOTAxZP6alL"
      },
      "execution_count": 53,
      "outputs": []
    },
    {
      "cell_type": "code",
      "source": [
        "print(\"Vulnerable files: \", len(vulnerable_files))\n",
        "print(\"Non Vulnerable files: \", len(non_vulnerable_files_selected))\n",
        "print(\"Dataset files: \", len(dataset))"
      ],
      "metadata": {
        "colab": {
          "base_uri": "https://localhost:8080/"
        },
        "id": "nOQkFV1ByMLn",
        "outputId": "51757f20-8ebb-4fef-b3a1-d862bfa7ad45"
      },
      "execution_count": 54,
      "outputs": [
        {
          "output_type": "stream",
          "name": "stdout",
          "text": [
            "Vulnerable files:  118\n",
            "Non Vulnerable files:  944\n",
            "Dataset files:  1062\n"
          ]
        }
      ]
    },
    {
      "cell_type": "markdown",
      "source": [
        "# Models"
      ],
      "metadata": {
        "id": "5HVkeHkAiXiO"
      }
    },
    {
      "cell_type": "code",
      "source": [
        "from sklearn.model_selection import train_test_split\n",
        "from tensorflow.keras.preprocessing.text import Tokenizer\n",
        "from tensorflow.keras.preprocessing.sequence import pad_sequences\n",
        "from tensorflow.keras.models import Sequential\n",
        "from tensorflow.keras.layers import Embedding, Bidirectional, LSTM, Dense, Dropout, GRU\n"
      ],
      "metadata": {
        "id": "I_vpja7HQvXW"
      },
      "execution_count": 84,
      "outputs": []
    },
    {
      "cell_type": "code",
      "source": [
        "# Tokenize the data\n",
        "tokenizer = Tokenizer()\n",
        "tokenizer.fit_on_texts(texts)\n",
        "sequences = tokenizer.texts_to_sequences(texts)\n",
        "word_index = tokenizer.word_index"
      ],
      "metadata": {
        "id": "oXXKaGGbQ1ZN"
      },
      "execution_count": 76,
      "outputs": []
    },
    {
      "cell_type": "code",
      "source": [
        "# Pad sequences\n",
        "max_length = 500  # Adjust based on dataset\n",
        "data = pad_sequences(sequences, maxlen=max_length, padding='post')\n",
        "labels = np.array(labels)"
      ],
      "metadata": {
        "id": "IhPxDh3eJowy"
      },
      "execution_count": 77,
      "outputs": []
    },
    {
      "cell_type": "code",
      "source": [
        "# Split dataset into train, validation, and test sets\n",
        "X_train, X_test, y_train, y_test = train_test_split(data, labels, test_size=0.2, random_state=42)\n",
        "X_train, X_val, y_train, y_val = train_test_split(X_train, y_train, test_size=0.25, random_state=42)"
      ],
      "metadata": {
        "id": "Vo0yCMFYK9oC"
      },
      "execution_count": 78,
      "outputs": []
    },
    {
      "cell_type": "code",
      "source": [
        "embedding_dim = 128\n",
        "batch_size = 32\n",
        "epochs = 5"
      ],
      "metadata": {
        "id": "B2mvNfTxNXhx"
      },
      "execution_count": 79,
      "outputs": []
    },
    {
      "cell_type": "markdown",
      "source": [
        "BLSTM Model"
      ],
      "metadata": {
        "id": "Y1OqNuBpMp9P"
      }
    },
    {
      "cell_type": "code",
      "source": [
        "# Model Creation\n",
        "blstm_model = Sequential([\n",
        "    Embedding(input_dim=len(word_index) + 1, output_dim=embedding_dim, input_length=max_length),\n",
        "    Bidirectional(LSTM(32, return_sequences=False, dropout=0.3, recurrent_dropout=0.1)),\n",
        "    Dense(1, activation='sigmoid')\n",
        "])\n",
        "\n",
        "blstm_model.compile(optimizer='adam', loss='binary_crossentropy', metrics=['accuracy'])\n",
        "\n",
        "# Train BLSTM model\n",
        "print(\"Training BLSTM Model...\")\n",
        "blstm_history = blstm_model.fit(X_train, y_train, epochs=epochs, batch_size=batch_size, validation_data=(X_val, y_val))\n",
        "\n",
        "# Evaluate BLSTM model\n",
        "blstm_loss, blstm_accuracy = blstm_model.evaluate(X_test, y_test)\n",
        "print(f\"BLSTM Test Loss: {blstm_loss}\")\n",
        "print(f\"BLSTM Test Accuracy: {blstm_accuracy}\")\n",
        "\n",
        "# Predict using BLSTM model\n",
        "blstm_predictions = blstm_model.predict(X_test)\n",
        "blstm_y_pred = (blstm_predictions > 0.5).astype(int)"
      ],
      "metadata": {
        "colab": {
          "base_uri": "https://localhost:8080/"
        },
        "id": "ScxPHUSJiZco",
        "outputId": "160b2a00-cd14-4736-eb4f-a1a1d07ab72a"
      },
      "execution_count": 81,
      "outputs": [
        {
          "output_type": "stream",
          "name": "stdout",
          "text": [
            "Training BLSTM Model...\n",
            "Epoch 1/5\n"
          ]
        },
        {
          "output_type": "stream",
          "name": "stderr",
          "text": [
            "/usr/local/lib/python3.11/dist-packages/keras/src/layers/core/embedding.py:90: UserWarning: Argument `input_length` is deprecated. Just remove it.\n",
            "  warnings.warn(\n"
          ]
        },
        {
          "output_type": "stream",
          "name": "stdout",
          "text": [
            "\u001b[1m20/20\u001b[0m \u001b[32m━━━━━━━━━━━━━━━━━━━━\u001b[0m\u001b[37m\u001b[0m \u001b[1m37s\u001b[0m 1s/step - accuracy: 0.8717 - loss: 0.4888 - val_accuracy: 0.9155 - val_loss: 0.2832\n",
            "Epoch 2/5\n",
            "\u001b[1m20/20\u001b[0m \u001b[32m━━━━━━━━━━━━━━━━━━━━\u001b[0m\u001b[37m\u001b[0m \u001b[1m25s\u001b[0m 1s/step - accuracy: 0.8916 - loss: 0.2915 - val_accuracy: 0.9155 - val_loss: 0.2883\n",
            "Epoch 3/5\n",
            "\u001b[1m20/20\u001b[0m \u001b[32m━━━━━━━━━━━━━━━━━━━━\u001b[0m\u001b[37m\u001b[0m \u001b[1m40s\u001b[0m 1s/step - accuracy: 0.8644 - loss: 0.3561 - val_accuracy: 0.9061 - val_loss: 0.2855\n",
            "Epoch 4/5\n",
            "\u001b[1m20/20\u001b[0m \u001b[32m━━━━━━━━━━━━━━━━━━━━\u001b[0m\u001b[37m\u001b[0m \u001b[1m41s\u001b[0m 1s/step - accuracy: 0.8885 - loss: 0.3493 - val_accuracy: 0.9108 - val_loss: 0.2778\n",
            "Epoch 5/5\n",
            "\u001b[1m20/20\u001b[0m \u001b[32m━━━━━━━━━━━━━━━━━━━━\u001b[0m\u001b[37m\u001b[0m \u001b[1m42s\u001b[0m 1s/step - accuracy: 0.9082 - loss: 0.2872 - val_accuracy: 0.8779 - val_loss: 0.2632\n",
            "\u001b[1m7/7\u001b[0m \u001b[32m━━━━━━━━━━━━━━━━━━━━\u001b[0m\u001b[37m\u001b[0m \u001b[1m1s\u001b[0m 153ms/step - accuracy: 0.9069 - loss: 0.2497\n",
            "BLSTM Test Loss: 0.273508220911026\n",
            "BLSTM Test Accuracy: 0.8873239159584045\n",
            "\u001b[1m7/7\u001b[0m \u001b[32m━━━━━━━━━━━━━━━━━━━━\u001b[0m\u001b[37m\u001b[0m \u001b[1m3s\u001b[0m 323ms/step\n"
          ]
        }
      ]
    },
    {
      "cell_type": "markdown",
      "source": [
        "GRU Model"
      ],
      "metadata": {
        "id": "eh8tdaq5Mtx2"
      }
    },
    {
      "cell_type": "code",
      "source": [
        "# GRU Model Creation\n",
        "gru_model = Sequential([\n",
        "    Embedding(input_dim=len(word_index) + 1, output_dim=embedding_dim, input_length=max_length),\n",
        "    GRU(32, return_sequences=False, dropout=0.3, recurrent_dropout=0.1),\n",
        "    Dense(1, activation='sigmoid')\n",
        "])\n",
        "\n",
        "gru_model.compile(optimizer='adam', loss='binary_crossentropy', metrics=['accuracy'])\n",
        "\n",
        "# Train GRU model\n",
        "print(\"Training GRU Model...\")\n",
        "gru_history = gru_model.fit(X_train, y_train, epochs=epochs, batch_size=batch_size, validation_data=(X_val, y_val))\n",
        "\n",
        "# Evaluate GRU model\n",
        "gru_loss, gru_accuracy = gru_model.evaluate(X_test, y_test)\n",
        "print(f\"GRU Test Loss: {gru_loss}\")\n",
        "print(f\"GRU Test Accuracy: {gru_accuracy}\")\n",
        "\n",
        "# Predict using GRU model\n",
        "gru_predictions = gru_model.predict(X_test)\n",
        "gru_y_pred = (gru_predictions > 0.5).astype(int)"
      ],
      "metadata": {
        "colab": {
          "base_uri": "https://localhost:8080/"
        },
        "id": "MfeKtPxYKWBb",
        "outputId": "38c31d39-7e59-42e7-8014-da9e0b162b3b"
      },
      "execution_count": 85,
      "outputs": [
        {
          "output_type": "stream",
          "name": "stdout",
          "text": [
            "Training GRU Model...\n",
            "Epoch 1/5\n",
            "\u001b[1m20/20\u001b[0m \u001b[32m━━━━━━━━━━━━━━━━━━━━\u001b[0m\u001b[37m\u001b[0m \u001b[1m17s\u001b[0m 647ms/step - accuracy: 0.8664 - loss: 0.5063 - val_accuracy: 0.9155 - val_loss: 0.2967\n",
            "Epoch 2/5\n",
            "\u001b[1m20/20\u001b[0m \u001b[32m━━━━━━━━━━━━━━━━━━━━\u001b[0m\u001b[37m\u001b[0m \u001b[1m19s\u001b[0m 559ms/step - accuracy: 0.8713 - loss: 0.3604 - val_accuracy: 0.9108 - val_loss: 0.2920\n",
            "Epoch 3/5\n",
            "\u001b[1m20/20\u001b[0m \u001b[32m━━━━━━━━━━━━━━━━━━━━\u001b[0m\u001b[37m\u001b[0m \u001b[1m21s\u001b[0m 615ms/step - accuracy: 0.9010 - loss: 0.3169 - val_accuracy: 0.9108 - val_loss: 0.2908\n",
            "Epoch 4/5\n",
            "\u001b[1m20/20\u001b[0m \u001b[32m━━━━━━━━━━━━━━━━━━━━\u001b[0m\u001b[37m\u001b[0m \u001b[1m19s\u001b[0m 558ms/step - accuracy: 0.9134 - loss: 0.3056 - val_accuracy: 0.9014 - val_loss: 0.2915\n",
            "Epoch 5/5\n",
            "\u001b[1m20/20\u001b[0m \u001b[32m━━━━━━━━━━━━━━━━━━━━\u001b[0m\u001b[37m\u001b[0m \u001b[1m22s\u001b[0m 621ms/step - accuracy: 0.9186 - loss: 0.2938 - val_accuracy: 0.9014 - val_loss: 0.2913\n",
            "\u001b[1m7/7\u001b[0m \u001b[32m━━━━━━━━━━━━━━━━━━━━\u001b[0m\u001b[37m\u001b[0m \u001b[1m1s\u001b[0m 85ms/step - accuracy: 0.9274 - loss: 0.2723\n",
            "GRU Test Loss: 0.3093907833099365\n",
            "GRU Test Accuracy: 0.9061033129692078\n",
            "\u001b[1m7/7\u001b[0m \u001b[32m━━━━━━━━━━━━━━━━━━━━\u001b[0m\u001b[37m\u001b[0m \u001b[1m1s\u001b[0m 148ms/step\n"
          ]
        }
      ]
    },
    {
      "cell_type": "markdown",
      "source": [
        "### Comparison"
      ],
      "metadata": {
        "id": "HIv5yEs3Mv5y"
      }
    },
    {
      "cell_type": "code",
      "source": [
        "import matplotlib.pyplot as plt"
      ],
      "metadata": {
        "id": "1JxQpghQT3tg"
      },
      "execution_count": 87,
      "outputs": []
    },
    {
      "cell_type": "code",
      "source": [
        "# Accuracy comparison\n",
        "plt.plot(blstm_history.history['accuracy'], label='BLSTM Train Accuracy')\n",
        "plt.plot(blstm_history.history['val_accuracy'], label='BLSTM Val Accuracy')\n",
        "plt.plot(gru_history.history['accuracy'], label='GRU Train Accuracy')\n",
        "plt.plot(gru_history.history['val_accuracy'], label='GRU Val Accuracy')\n",
        "plt.title('Accuracy Comparison')\n",
        "plt.xlabel('Epochs')\n",
        "plt.ylabel('Accuracy')\n",
        "plt.xticks(ticks=range(0, epochs), labels=range(1, epochs + 1))\n",
        "plt.legend()\n",
        "plt.show()\n"
      ],
      "metadata": {
        "colab": {
          "base_uri": "https://localhost:8080/",
          "height": 472
        },
        "id": "9OixV15bN0CO",
        "outputId": "56d3265a-ab07-4c69-c61c-3e1c118a9b61"
      },
      "execution_count": 93,
      "outputs": [
        {
          "output_type": "display_data",
          "data": {
            "text/plain": [
              "<Figure size 640x480 with 1 Axes>"
            ],
            "image/png": "[encoded data removed]"
          },
          "metadata": {}
        }
      ]
    },
    {
      "cell_type": "code",
      "source": [
        "# Loss comparison\n",
        "plt.plot(blstm_history.history['loss'], label='BLSTM Train Loss')\n",
        "plt.plot(blstm_history.history['val_loss'], label='BLSTM Val Loss')\n",
        "plt.plot(gru_history.history['loss'], label='GRU Train Loss')\n",
        "plt.plot(gru_history.history['val_loss'], label='GRU Val Loss')\n",
        "plt.title('Loss Comparison')\n",
        "plt.xlabel('Epochs')\n",
        "plt.ylabel('Loss')\n",
        "plt.xticks(ticks=range(0, epochs), labels=range(1, epochs + 1))\n",
        "plt.legend()\n",
        "plt.show()"
      ],
      "metadata": {
        "colab": {
          "base_uri": "https://localhost:8080/",
          "height": 472
        },
        "id": "n_n7PWPRRgYL",
        "outputId": "44beeb3e-7371-430b-ab60-88b4242a04cc"
      },
      "execution_count": 94,
      "outputs": [
        {
          "output_type": "display_data",
          "data": {
            "text/plain": [
              "<Figure size 640x480 with 1 Axes>"
            ],
            "image/png": "[encoded data removed]"
          },
          "metadata": {}
        }
      ]
    },
    {
      "cell_type": "markdown",
      "source": [
        "## **Cross Validation** with K-Fold"
      ],
      "metadata": {
        "id": "cyrSzBrbyQpu"
      }
    },
    {
      "cell_type": "code",
      "source": [
        "from sklearn.model_selection import KFold\n",
        "\n",
        "# Define K-Fold Cross-Validation\n",
        "k_folds = 5\n",
        "kf = KFold(n_splits=k_folds, shuffle=True, random_state=42)\n",
        "\n",
        "embedding_dim = 128\n",
        "batch_size = 32\n",
        "epochs = 5\n",
        "\n",
        "folds_indices = list(kf.split(data))"
      ],
      "metadata": {
        "id": "kkq_9emGWLNG"
      },
      "execution_count": 96,
      "outputs": []
    },
    {
      "cell_type": "code",
      "source": [
        "blstm_accuracies = []\n",
        "blstm_losses = []\n",
        "\n",
        "for fold, (train_index, test_index) in enumerate(folds_indices):\n",
        "    print(f\"Training on Fold {fold+1}/{k_folds}...\")\n",
        "\n",
        "    X_train, X_test = data[train_index], data[test_index]\n",
        "    y_train, y_test = labels[train_index], labels[test_index]\n",
        "\n",
        "    # Model Creation\n",
        "    blstm_model = Sequential([\n",
        "        Embedding(input_dim=len(word_index) + 1, output_dim=embedding_dim, input_length=max_length),\n",
        "        Bidirectional(LSTM(32, return_sequences=False, dropout=0.3, recurrent_dropout=0.1)),\n",
        "        Dense(1, activation='sigmoid')\n",
        "    ])\n",
        "\n",
        "\n",
        "    blstm_model.compile(optimizer='adam', loss='binary_crossentropy', metrics=['accuracy'])\n",
        "    blstm_model.fit(X_train, y_train, epochs=epochs, batch_size=batch_size, validation_split=0.2, verbose=1)\n",
        "\n",
        "    blstm_loss, blstm_accuracy = blstm_model.evaluate(X_test, y_test, verbose=0)\n",
        "    blstm_accuracies.append(blstm_accuracy)\n",
        "    blstm_losses.append(blstm_loss)\n",
        "    print(f\"BLSTM Fold {fold+1} - Test Loss: {blstm_loss:.4f}, Test Accuracy: {blstm_accuracy:.4f}\")\n",
        "\n",
        "print(f\"Average Accuracy: {np.mean(blstm_accuracies)}\")\n",
        "\n",
        "\n",
        "\n"
      ],
      "metadata": {
        "colab": {
          "base_uri": "https://localhost:8080/",
          "height": 972
        },
        "id": "qQVQ3o_8KBNJ",
        "outputId": "c2a742f9-401e-4765-db12-8e2c36601398"
      },
      "execution_count": 111,
      "outputs": [
        {
          "output_type": "stream",
          "name": "stdout",
          "text": [
            "Training on Fold 1/5...\n",
            "Epoch 1/5\n"
          ]
        },
        {
          "output_type": "stream",
          "name": "stderr",
          "text": [
            "/usr/local/lib/python3.11/dist-packages/keras/src/layers/core/embedding.py:90: UserWarning: Argument `input_length` is deprecated. Just remove it.\n",
            "  warnings.warn(\n"
          ]
        },
        {
          "output_type": "stream",
          "name": "stdout",
          "text": [
            "\u001b[1m22/22\u001b[0m \u001b[32m━━━━━━━━━━━━━━━━━━━━\u001b[0m\u001b[37m\u001b[0m \u001b[1m37s\u001b[0m 1s/step - accuracy: 0.8208 - loss: 0.4697 - val_accuracy: 0.8882 - val_loss: 0.3275\n",
            "Epoch 2/5\n",
            "\u001b[1m22/22\u001b[0m \u001b[32m━━━━━━━━━━━━━━━━━━━━\u001b[0m\u001b[37m\u001b[0m \u001b[1m26s\u001b[0m 1s/step - accuracy: 0.8748 - loss: 0.3306 - val_accuracy: 0.8882 - val_loss: 0.3223\n",
            "Epoch 3/5\n",
            "\u001b[1m22/22\u001b[0m \u001b[32m━━━━━━━━━━━━━━━━━━━━\u001b[0m\u001b[37m\u001b[0m \u001b[1m27s\u001b[0m 1s/step - accuracy: 0.9036 - loss: 0.2989 - val_accuracy: 0.8882 - val_loss: 0.3193\n",
            "Epoch 4/5\n",
            "\u001b[1m22/22\u001b[0m \u001b[32m━━━━━━━━━━━━━━━━━━━━\u001b[0m\u001b[37m\u001b[0m \u001b[1m27s\u001b[0m 1s/step - accuracy: 0.8944 - loss: 0.2996 - val_accuracy: 0.9000 - val_loss: 0.3167\n",
            "Epoch 5/5\n",
            "\u001b[1m22/22\u001b[0m \u001b[32m━━━━━━━━━━━━━━━━━━━━\u001b[0m\u001b[37m\u001b[0m \u001b[1m41s\u001b[0m 1s/step - accuracy: 0.9100 - loss: 0.2898 - val_accuracy: 0.9000 - val_loss: 0.3072\n",
            "BLSTM Fold 1 - Test Loss: 0.2950, Test Accuracy: 0.9014\n",
            "Training on Fold 2/5...\n",
            "Epoch 1/5\n",
            "\u001b[1m22/22\u001b[0m \u001b[32m━━━━━━━━━━━━━━━━━━━━\u001b[0m\u001b[37m\u001b[0m \u001b[1m41s\u001b[0m 1s/step - accuracy: 0.8945 - loss: 0.4802 - val_accuracy: 0.9000 - val_loss: 0.3195\n",
            "Epoch 2/5\n",
            "\u001b[1m22/22\u001b[0m \u001b[32m━━━━━━━━━━━━━━━━━━━━\u001b[0m\u001b[37m\u001b[0m \u001b[1m39s\u001b[0m 1s/step - accuracy: 0.8751 - loss: 0.3502 - val_accuracy: 0.9000 - val_loss: 0.3122\n",
            "Epoch 3/5\n",
            "\u001b[1m22/22\u001b[0m \u001b[32m━━━━━━━━━━━━━━━━━━━━\u001b[0m\u001b[37m\u001b[0m \u001b[1m41s\u001b[0m 1s/step - accuracy: 0.9094 - loss: 0.2856 - val_accuracy: 0.9000 - val_loss: 0.3086\n",
            "Epoch 4/5\n",
            "\u001b[1m22/22\u001b[0m \u001b[32m━━━━━━━━━━━━━━━━━━━━\u001b[0m\u001b[37m\u001b[0m \u001b[1m27s\u001b[0m 1s/step - accuracy: 0.8872 - loss: 0.2995 - val_accuracy: 0.9000 - val_loss: 0.3029\n",
            "Epoch 5/5\n",
            "\u001b[1m22/22\u001b[0m \u001b[32m━━━━━━━━━━━━━━━━━━━━\u001b[0m\u001b[37m\u001b[0m \u001b[1m41s\u001b[0m 1s/step - accuracy: 0.8997 - loss: 0.2890 - val_accuracy: 0.9000 - val_loss: 0.2930\n",
            "BLSTM Fold 2 - Test Loss: 0.3449, Test Accuracy: 0.8592\n",
            "Training on Fold 3/5...\n",
            "Epoch 1/5\n",
            "\u001b[1m22/22\u001b[0m \u001b[32m━━━━━━━━━━━━━━━━━━━━\u001b[0m\u001b[37m\u001b[0m \u001b[1m38s\u001b[0m 1s/step - accuracy: 0.8887 - loss: 0.4523 - val_accuracy: 0.9000 - val_loss: 0.2990\n",
            "Epoch 2/5\n",
            "\u001b[1m22/22\u001b[0m \u001b[32m━━━━━━━━━━━━━━━━━━━━\u001b[0m\u001b[37m\u001b[0m \u001b[1m39s\u001b[0m 1s/step - accuracy: 0.8827 - loss: 0.3168 - val_accuracy: 0.9000 - val_loss: 0.2926\n",
            "Epoch 3/5\n",
            "\u001b[1m22/22\u001b[0m \u001b[32m━━━━━━━━━━━━━━━━━━━━\u001b[0m\u001b[37m\u001b[0m \u001b[1m42s\u001b[0m 1s/step - accuracy: 0.9065 - loss: 0.2865 - val_accuracy: 0.9000 - val_loss: 0.2890\n",
            "Epoch 4/5\n"
          ]
        },
        {
          "output_type": "error",
          "ename": "KeyboardInterrupt",
          "evalue": "",
          "traceback": [
            "\u001b[0;31m---------------------------------------------------------------------------\u001b[0m",
            "\u001b[0;31mKeyboardInterrupt\u001b[0m                         Traceback (most recent call last)",
            "\u001b[0;32m<ipython-input-111-857a490f74a4>\u001b[0m in \u001b[0;36m<cell line: 0>\u001b[0;34m()\u001b[0m\n\u001b[1;32m     17\u001b[0m \u001b[0;34m\u001b[0m\u001b[0m\n\u001b[1;32m     18\u001b[0m     \u001b[0mblstm_model\u001b[0m\u001b[0;34m.\u001b[0m\u001b[0mcompile\u001b[0m\u001b[0;34m(\u001b[0m\u001b[0moptimizer\u001b[0m\u001b[0;34m=\u001b[0m\u001b[0;34m'adam'\u001b[0m\u001b[0;34m,\u001b[0m \u001b[0mloss\u001b[0m\u001b[0;34m=\u001b[0m\u001b[0;34m'binary_crossentropy'\u001b[0m\u001b[0;34m,\u001b[0m \u001b[0mmetrics\u001b[0m\u001b[0;34m=\u001b[0m\u001b[0;34m[\u001b[0m\u001b[0;34m'accuracy'\u001b[0m\u001b[0;34m]\u001b[0m\u001b[0;34m)\u001b[0m\u001b[0;34m\u001b[0m\u001b[0;34m\u001b[0m\u001b[0m\n\u001b[0;32m---> 19\u001b[0;31m     \u001b[0mblstm_model\u001b[0m\u001b[0;34m.\u001b[0m\u001b[0mfit\u001b[0m\u001b[0;34m(\u001b[0m\u001b[0mX_train\u001b[0m\u001b[0;34m,\u001b[0m \u001b[0my_train\u001b[0m\u001b[0;34m,\u001b[0m \u001b[0mepochs\u001b[0m\u001b[0;34m=\u001b[0m\u001b[0mepochs\u001b[0m\u001b[0;34m,\u001b[0m \u001b[0mbatch_size\u001b[0m\u001b[0;34m=\u001b[0m\u001b[0mbatch_size\u001b[0m\u001b[0;34m,\u001b[0m \u001b[0mvalidation_split\u001b[0m\u001b[0;34m=\u001b[0m\u001b[0;36m0.2\u001b[0m\u001b[0;34m,\u001b[0m \u001b[0mverbose\u001b[0m\u001b[0;34m=\u001b[0m\u001b[0;36m1\u001b[0m\u001b[0;34m)\u001b[0m\u001b[0;34m\u001b[0m\u001b[0;34m\u001b[0m\u001b[0m\n\u001b[0m\u001b[1;32m     20\u001b[0m \u001b[0;34m\u001b[0m\u001b[0m\n\u001b[1;32m     21\u001b[0m     \u001b[0mblstm_loss\u001b[0m\u001b[0;34m,\u001b[0m \u001b[0mblstm_accuracy\u001b[0m \u001b[0;34m=\u001b[0m \u001b[0mblstm_model\u001b[0m\u001b[0;34m.\u001b[0m\u001b[0mevaluate\u001b[0m\u001b[0;34m(\u001b[0m\u001b[0mX_test\u001b[0m\u001b[0;34m,\u001b[0m \u001b[0my_test\u001b[0m\u001b[0;34m,\u001b[0m \u001b[0mverbose\u001b[0m\u001b[0;34m=\u001b[0m\u001b[0;36m0\u001b[0m\u001b[0;34m)\u001b[0m\u001b[0;34m\u001b[0m\u001b[0;34m\u001b[0m\u001b[0m\n",
            "\u001b[0;32m/usr/local/lib/python3.11/dist-packages/keras/src/utils/traceback_utils.py\u001b[0m in \u001b[0;36merror_handler\u001b[0;34m(*args, **kwargs)\u001b[0m\n\u001b[1;32m    115\u001b[0m         \u001b[0mfiltered_tb\u001b[0m \u001b[0;34m=\u001b[0m \u001b[0;32mNone\u001b[0m\u001b[0;34m\u001b[0m\u001b[0;34m\u001b[0m\u001b[0m\n\u001b[1;32m    116\u001b[0m         \u001b[0;32mtry\u001b[0m\u001b[0;34m:\u001b[0m\u001b[0;34m\u001b[0m\u001b[0;34m\u001b[0m\u001b[0m\n\u001b[0;32m--> 117\u001b[0;31m             \u001b[0;32mreturn\u001b[0m \u001b[0mfn\u001b[0m\u001b[0;34m(\u001b[0m\u001b[0;34m*\u001b[0m\u001b[0margs\u001b[0m\u001b[0;34m,\u001b[0m \u001b[0;34m**\u001b[0m\u001b[0mkwargs\u001b[0m\u001b[0;34m)\u001b[0m\u001b[0;34m\u001b[0m\u001b[0;34m\u001b[0m\u001b[0m\n\u001b[0m\u001b[1;32m    118\u001b[0m         \u001b[0;32mexcept\u001b[0m \u001b[0mException\u001b[0m \u001b[0;32mas\u001b[0m \u001b[0me\u001b[0m\u001b[0;34m:\u001b[0m\u001b[0;34m\u001b[0m\u001b[0;34m\u001b[0m\u001b[0m\n\u001b[1;32m    119\u001b[0m             \u001b[0mfiltered_tb\u001b[0m \u001b[0;34m=\u001b[0m \u001b[0m_process_traceback_frames\u001b[0m\u001b[0;34m(\u001b[0m\u001b[0me\u001b[0m\u001b[0;34m.\u001b[0m\u001b[0m__traceback__\u001b[0m\u001b[0;34m)\u001b[0m\u001b[0;34m\u001b[0m\u001b[0;34m\u001b[0m\u001b[0m\n",
            "\u001b[0;32m/usr/local/lib/python3.11/dist-packages/keras/src/backend/tensorflow/trainer.py\u001b[0m in \u001b[0;36mfit\u001b[0;34m(self, x, y, batch_size, epochs, verbose, callbacks, validation_split, validation_data, shuffle, class_weight, sample_weight, initial_epoch, steps_per_epoch, validation_steps, validation_batch_size, validation_freq)\u001b[0m\n\u001b[1;32m    368\u001b[0m             \u001b[0;32mwith\u001b[0m \u001b[0mepoch_iterator\u001b[0m\u001b[0;34m.\u001b[0m\u001b[0mcatch_stop_iteration\u001b[0m\u001b[0;34m(\u001b[0m\u001b[0;34m)\u001b[0m\u001b[0;34m:\u001b[0m\u001b[0;34m\u001b[0m\u001b[0;34m\u001b[0m\u001b[0m\n\u001b[1;32m    369\u001b[0m                 \u001b[0;32mfor\u001b[0m \u001b[0mstep\u001b[0m\u001b[0;34m,\u001b[0m \u001b[0miterator\u001b[0m \u001b[0;32min\u001b[0m \u001b[0mepoch_iterator\u001b[0m\u001b[0;34m:\u001b[0m\u001b[0;34m\u001b[0m\u001b[0;34m\u001b[0m\u001b[0m\n\u001b[0;32m--> 370\u001b[0;31m                     \u001b[0mcallbacks\u001b[0m\u001b[0;34m.\u001b[0m\u001b[0mon_train_batch_begin\u001b[0m\u001b[0;34m(\u001b[0m\u001b[0mstep\u001b[0m\u001b[0;34m)\u001b[0m\u001b[0;34m\u001b[0m\u001b[0;34m\u001b[0m\u001b[0m\n\u001b[0m\u001b[1;32m    371\u001b[0m                     \u001b[0mlogs\u001b[0m \u001b[0;34m=\u001b[0m \u001b[0mself\u001b[0m\u001b[0;34m.\u001b[0m\u001b[0mtrain_function\u001b[0m\u001b[0;34m(\u001b[0m\u001b[0miterator\u001b[0m\u001b[0;34m)\u001b[0m\u001b[0;34m\u001b[0m\u001b[0;34m\u001b[0m\u001b[0m\n\u001b[1;32m    372\u001b[0m                     \u001b[0mcallbacks\u001b[0m\u001b[0;34m.\u001b[0m\u001b[0mon_train_batch_end\u001b[0m\u001b[0;34m(\u001b[0m\u001b[0mstep\u001b[0m\u001b[0;34m,\u001b[0m \u001b[0mlogs\u001b[0m\u001b[0;34m)\u001b[0m\u001b[0;34m\u001b[0m\u001b[0;34m\u001b[0m\u001b[0m\n",
            "\u001b[0;32m/usr/local/lib/python3.11/dist-packages/keras/src/callbacks/callback_list.py\u001b[0m in \u001b[0;36mon_train_batch_begin\u001b[0;34m(self, batch, logs)\u001b[0m\n\u001b[1;32m    145\u001b[0m             \u001b[0mcallback\u001b[0m\u001b[0;34m.\u001b[0m\u001b[0mon_epoch_end\u001b[0m\u001b[0;34m(\u001b[0m\u001b[0mepoch\u001b[0m\u001b[0;34m,\u001b[0m \u001b[0mlogs\u001b[0m\u001b[0;34m)\u001b[0m\u001b[0;34m\u001b[0m\u001b[0;34m\u001b[0m\u001b[0m\n\u001b[1;32m    146\u001b[0m \u001b[0;34m\u001b[0m\u001b[0m\n\u001b[0;32m--> 147\u001b[0;31m     \u001b[0;32mdef\u001b[0m \u001b[0mon_train_batch_begin\u001b[0m\u001b[0;34m(\u001b[0m\u001b[0mself\u001b[0m\u001b[0;34m,\u001b[0m \u001b[0mbatch\u001b[0m\u001b[0;34m,\u001b[0m \u001b[0mlogs\u001b[0m\u001b[0;34m=\u001b[0m\u001b[0;32mNone\u001b[0m\u001b[0;34m)\u001b[0m\u001b[0;34m:\u001b[0m\u001b[0;34m\u001b[0m\u001b[0;34m\u001b[0m\u001b[0m\n\u001b[0m\u001b[1;32m    148\u001b[0m         \u001b[0mlogs\u001b[0m \u001b[0;34m=\u001b[0m \u001b[0mpython_utils\u001b[0m\u001b[0;34m.\u001b[0m\u001b[0mpythonify_logs\u001b[0m\u001b[0;34m(\u001b[0m\u001b[0mlogs\u001b[0m\u001b[0;34m)\u001b[0m\u001b[0;34m\u001b[0m\u001b[0;34m\u001b[0m\u001b[0m\n\u001b[1;32m    149\u001b[0m         \u001b[0;32mfor\u001b[0m \u001b[0mcallback\u001b[0m \u001b[0;32min\u001b[0m \u001b[0mself\u001b[0m\u001b[0;34m.\u001b[0m\u001b[0mcallbacks\u001b[0m\u001b[0;34m:\u001b[0m\u001b[0;34m\u001b[0m\u001b[0;34m\u001b[0m\u001b[0m\n",
            "\u001b[0;31mKeyboardInterrupt\u001b[0m: "
          ]
        }
      ]
    },
    {
      "cell_type": "code",
      "source": [
        "gru_accuracies = []\n",
        "gru_losses = []\n",
        "\n",
        "for fold, (train_index, test_index) in enumerate(folds_indices):\n",
        "    print(f\"Training on Fold {fold+1}/{k_folds}...\")\n",
        "\n",
        "    X_train, X_test = data[train_index], data[test_index]\n",
        "    y_train, y_test = labels[train_index], labels[test_index]\n",
        "\n",
        "    print(f\"\\nTraining GRU Model on Fold {fold+1}...\")\n",
        "    gru_model = Sequential([\n",
        "        Embedding(input_dim=len(word_index) + 1, output_dim=embedding_dim, input_length=max_length),\n",
        "        GRU(32, return_sequences=False, dropout=0.3, recurrent_dropout=0.1),\n",
        "        Dense(1, activation='sigmoid')\n",
        "    ])\n",
        "\n",
        "    gru_model.compile(optimizer='adam', loss='binary_crossentropy', metrics=['accuracy'])\n",
        "    gru_model.fit(X_train, y_train, epochs=epochs, batch_size=batch_size, validation_split=0.2, verbose=1)\n",
        "\n",
        "    gru_loss, gru_accuracy = gru_model.evaluate(X_test, y_test, verbose=0)\n",
        "    gru_accuracies.append(gru_accuracy)\n",
        "    gru_losses.append(gru_loss)\n",
        "    print(f\"GRU Fold {fold+1} - Test Loss: {gru_loss:.4f}, Test Accuracy: {gru_accuracy:.4f}\")\n",
        "\n",
        "print(f\"Average Accuracy: {np.mean(gru_accuracies)}\")\n",
        "\n"
      ],
      "metadata": {
        "id": "WC15BepCdVVQ"
      },
      "execution_count": null,
      "outputs": []
    },
    {
      "cell_type": "markdown",
      "source": [
        "### Comparison"
      ],
      "metadata": {
        "id": "TvU1jOSnfArK"
      }
    },
    {
      "cell_type": "code",
      "source": [
        "# Plot accuracy for each fold\n",
        "folds = range(1, k_folds + 1)\n",
        "\n",
        "plt.figure(figsize=(10, 6))\n",
        "plt.plot(folds, blstm_accuracies, marker='o', label='BLSTM Accuracy')\n",
        "plt.plot(folds, gru_accuracies, marker='s', label='GRU Accuracy')\n",
        "\n",
        "plt.title('Accuracy per Fold (BLSTM vs GRU)', fontsize=14)\n",
        "plt.xlabel('Fold', fontsize=12)\n",
        "plt.ylabel('Accuracy', fontsize=12)\n",
        "plt.xticks(folds)  # Ensure x-axis has integer fold numbers\n",
        "plt.ylim(0, 1)  # Accuracy ranges from 0 to 1\n",
        "plt.grid(True)\n",
        "plt.legend(fontsize=12)\n",
        "plt.show()\n"
      ],
      "metadata": {
        "id": "7iN-V3T8fACU"
      },
      "execution_count": null,
      "outputs": []
    },
    {
      "cell_type": "code",
      "source": [
        "# Plot Losses for each fold\n",
        "folds = range(1, k_folds + 1)\n",
        "\n",
        "plt.figure(figsize=(10, 6))\n",
        "plt.plot(folds, blstm_losses, marker='o', label='BLSTM Losses')\n",
        "plt.plot(folds, gru_losses, marker='s', label='GRU Losses')\n",
        "\n",
        "plt.title('Losses per Fold (BLSTM vs GRU)', fontsize=14)\n",
        "plt.xlabel('Fold', fontsize=12)\n",
        "plt.ylabel('Losses', fontsize=12)\n",
        "plt.xticks(folds)  # Ensure x-axis has integer fold numbers\n",
        "plt.ylim(0, 1)  # Losses ranges from 0 to 1\n",
        "plt.grid(True)\n",
        "plt.legend(fontsize=12)\n",
        "plt.show()\n"
      ],
      "metadata": {
        "id": "zqE7or9Jtmtp"
      },
      "execution_count": null,
      "outputs": []
    },
    {
      "cell_type": "markdown",
      "source": [
        "## CVE Details for multi label classification"
      ],
      "metadata": {
        "id": "jjplVO7X9ziY"
      }
    },
    {
      "cell_type": "code",
      "source": [
        "# Lista per salvare i nomi dei file che contengono i cve id\n",
        "cve_files = []\n",
        "\n",
        "# Espressione regolare per trovare i nomi compatibili\n",
        "pattern = re.compile(r\"(?i)(?:^|_)cve-(\\d{4})-(\\d{4,5})\")\n",
        "\n",
        "# Scansiona la directory\n",
        "for file in os.listdir(libpng_modified_vuln_path):\n",
        "    # Cerca nel nome del file\n",
        "    match = pattern.search(file)\n",
        "    if match:\n",
        "        formatted_name = f\"CVE-{match.group(1)}-{match.group(2)}\"\n",
        "        cve_files.append(formatted_name)\n",
        "\n",
        "\n",
        "for file in os.listdir(vlc_modified_vuln_path):\n",
        "    # Cerca nel nome del file\n",
        "    match = pattern.search(file)\n",
        "    if match:\n",
        "        formatted_name = f\"CVE-{match.group(1)}-{match.group(2)}\"\n",
        "        cve_files.append(formatted_name)\n",
        "\n",
        "\n",
        "for file in os.listdir(pidgin_modified_vuln_path):\n",
        "    # Cerca nel nome del file\n",
        "    match = pattern.search(file)\n",
        "    if match:\n",
        "        formatted_name = f\"CVE-{match.group(1)}-{match.group(2)}\"\n",
        "        cve_files.append(formatted_name)\n",
        "\n",
        "\n",
        "\n",
        "print(\"Vulnerable files: (CVE) \", len(cve_files))\n",
        "\n",
        "\n",
        "# Conta tutte le occorrenze\n",
        "occurrences = Counter(cve_files)\n",
        "\n",
        "# Creiamo una tabella con i dati\n",
        "table_data = [(cve, count) for cve, count in occurrences.items()]\n",
        "\n",
        "# Stampa in formato tabella leggibile\n",
        "print(tabulate(table_data, headers=[\"CVE\", \"Occorrenze\"], tablefmt=\"grid\"))\n"
      ],
      "metadata": {
        "colab": {
          "base_uri": "https://localhost:8080/"
        },
        "id": "sduXWVmiXdzg",
        "outputId": "2e05dc3c-f2ac-483f-d632-0449ae2627bf"
      },
      "execution_count": 71,
      "outputs": [
        {
          "output_type": "stream",
          "name": "stdout",
          "text": [
            "Vulnerable files: (CVE)  118\n",
            "+----------------+--------------+\n",
            "| CVE            |   Occorrenze |\n",
            "+================+==============+\n",
            "| CVE-2015-0973  |            1 |\n",
            "+----------------+--------------+\n",
            "| CVE-2004-0599  |            2 |\n",
            "+----------------+--------------+\n",
            "| CVE-2014-9495  |            1 |\n",
            "+----------------+--------------+\n",
            "| CVE-2011-3464  |            1 |\n",
            "+----------------+--------------+\n",
            "| CVE-2011-0408  |            2 |\n",
            "+----------------+--------------+\n",
            "| CVE-2004-0597  |            3 |\n",
            "+----------------+--------------+\n",
            "| CVE-2007-2445  |            1 |\n",
            "+----------------+--------------+\n",
            "| CVE-2006-0481  |            1 |\n",
            "+----------------+--------------+\n",
            "| CVE-2012-3425  |            1 |\n",
            "+----------------+--------------+\n",
            "| CVE-2008-5907  |            1 |\n",
            "+----------------+--------------+\n",
            "| CVE-2018-13785 |            1 |\n",
            "+----------------+--------------+\n",
            "| CVE-2011-3328  |            1 |\n",
            "+----------------+--------------+\n",
            "| CVE-2007-5269  |            2 |\n",
            "+----------------+--------------+\n",
            "| CVE-2015-8126  |            2 |\n",
            "+----------------+--------------+\n",
            "| CVE-2011-2501  |            1 |\n",
            "+----------------+--------------+\n",
            "| CVE-2006-3334  |            1 |\n",
            "+----------------+--------------+\n",
            "| CVE-2007-5629  |            1 |\n",
            "+----------------+--------------+\n",
            "| CVE-2008-6218  |            1 |\n",
            "+----------------+--------------+\n",
            "| CVE-2013-7354  |            2 |\n",
            "+----------------+--------------+\n",
            "| CVE-2015-8472  |            1 |\n",
            "+----------------+--------------+\n",
            "| CVE-2016-10087 |            1 |\n",
            "+----------------+--------------+\n",
            "| CVE-2009-5063  |            1 |\n",
            "+----------------+--------------+\n",
            "| CVE-2013-6954  |            1 |\n",
            "+----------------+--------------+\n",
            "| CVE-2014-0333  |            1 |\n",
            "+----------------+--------------+\n",
            "| CVE-2004-0598  |            1 |\n",
            "+----------------+--------------+\n",
            "| CVE-2007-5267  |            1 |\n",
            "+----------------+--------------+\n",
            "| CVE-2015-7981  |            1 |\n",
            "+----------------+--------------+\n",
            "| CVE-2018-14048 |            1 |\n",
            "+----------------+--------------+\n",
            "| CVE-2015-8540  |            1 |\n",
            "+----------------+--------------+\n",
            "| CVE-2013-7353  |            1 |\n",
            "+----------------+--------------+\n",
            "| CVE-2010-0205  |            1 |\n",
            "+----------------+--------------+\n",
            "| CVE-2006-5793  |            1 |\n",
            "+----------------+--------------+\n",
            "| CVE-2011-3048  |            1 |\n",
            "+----------------+--------------+\n",
            "| CVE-2011-2692  |            1 |\n",
            "+----------------+--------------+\n",
            "| CVE-2009-0040  |            1 |\n",
            "+----------------+--------------+\n",
            "| CVE-2006-7244  |            1 |\n",
            "+----------------+--------------+\n",
            "| CVE-2007-5266  |            1 |\n",
            "+----------------+--------------+\n",
            "| CVE-2011-3045  |            1 |\n",
            "+----------------+--------------+\n",
            "| CVE-2011-3623  |            3 |\n",
            "+----------------+--------------+\n",
            "| CVE-2008-5276  |            1 |\n",
            "+----------------+--------------+\n",
            "| CVE-2008-1489  |            1 |\n",
            "+----------------+--------------+\n",
            "| CVE-2016-3941  |            1 |\n",
            "+----------------+--------------+\n",
            "| CVE-2011-0522  |            2 |\n",
            "+----------------+--------------+\n",
            "| CVE-2010-2062  |            1 |\n",
            "+----------------+--------------+\n",
            "| CVE-2007-6682  |            1 |\n",
            "+----------------+--------------+\n",
            "| CVE-2008-5036  |            1 |\n",
            "+----------------+--------------+\n",
            "| CVE-2011-1684  |            1 |\n",
            "+----------------+--------------+\n",
            "| CVE-2017-8313  |            1 |\n",
            "+----------------+--------------+\n",
            "| CVE-2010-3907  |            2 |\n",
            "+----------------+--------------+\n",
            "| CVE-2017-8310  |            1 |\n",
            "+----------------+--------------+\n",
            "| CVE-2008-1881  |            1 |\n",
            "+----------------+--------------+\n",
            "| CVE-2011-2587  |            1 |\n",
            "+----------------+--------------+\n",
            "| CVE-2018-19857 |            1 |\n",
            "+----------------+--------------+\n",
            "| CVE-2007-0017  |            3 |\n",
            "+----------------+--------------+\n",
            "| CVE-2014-9598  |            1 |\n",
            "+----------------+--------------+\n",
            "| CVE-2014-1684  |            1 |\n",
            "+----------------+--------------+\n",
            "| CVE-2010-1443  |            1 |\n",
            "+----------------+--------------+\n",
            "| CVE-2010-1444  |            1 |\n",
            "+----------------+--------------+\n",
            "| CVE-2008-4654  |            1 |\n",
            "+----------------+--------------+\n",
            "| CVE-2008-3732  |            1 |\n",
            "+----------------+--------------+\n",
            "| CVE-2018-11516 |            1 |\n",
            "+----------------+--------------+\n",
            "| CVE-2010-3124  |            1 |\n",
            "+----------------+--------------+\n",
            "| CVE-2012-0023  |            1 |\n",
            "+----------------+--------------+\n",
            "| CVE-2008-3794  |            1 |\n",
            "+----------------+--------------+\n",
            "| CVE-2013-1954  |            1 |\n",
            "+----------------+--------------+\n",
            "| CVE-2016-5108  |            1 |\n",
            "+----------------+--------------+\n",
            "| CVE-2013-4388  |            1 |\n",
            "+----------------+--------------+\n",
            "| CVE-2009-2484  |            1 |\n",
            "+----------------+--------------+\n",
            "| CVE-2008-0984  |            1 |\n",
            "+----------------+--------------+\n",
            "| CVE-2014-9597  |            1 |\n",
            "+----------------+--------------+\n",
            "| CVE-2011-2588  |            1 |\n",
            "+----------------+--------------+\n",
            "| CVE-2010-2937  |            1 |\n",
            "+----------------+--------------+\n",
            "| CVE-2014-9743  |            1 |\n",
            "+----------------+--------------+\n",
            "| CVE-2008-2430  |            1 |\n",
            "+----------------+--------------+\n",
            "| CVE-2015-5949  |            1 |\n",
            "+----------------+--------------+\n",
            "| CVE-2017-8311  |            1 |\n",
            "+----------------+--------------+\n",
            "| CVE-2016-2380  |            1 |\n",
            "+----------------+--------------+\n",
            "| CVE-2010-1624  |            1 |\n",
            "+----------------+--------------+\n",
            "| CVE-2013-0273  |            1 |\n",
            "+----------------+--------------+\n",
            "| CVE-2013-6481  |            1 |\n",
            "+----------------+--------------+\n",
            "| CVE-2009-1376  |            1 |\n",
            "+----------------+--------------+\n",
            "| CVE-2011-2943  |            1 |\n",
            "+----------------+--------------+\n",
            "| CVE-2016-2375  |            1 |\n",
            "+----------------+--------------+\n",
            "| CVE-2014-3697  |            1 |\n",
            "+----------------+--------------+\n",
            "| CVE-2016-2376  |            1 |\n",
            "+----------------+--------------+\n",
            "| CVE-2011-3184  |            1 |\n",
            "+----------------+--------------+\n",
            "| CVE-2012-3374  |            1 |\n",
            "+----------------+--------------+\n",
            "| CVE-2011-4603  |            1 |\n",
            "+----------------+--------------+\n",
            "| CVE-2014-3698  |            1 |\n",
            "+----------------+--------------+\n",
            "| CVE-2009-2694  |            1 |\n",
            "+----------------+--------------+\n",
            "| CVE-2013-0272  |            1 |\n",
            "+----------------+--------------+\n",
            "| CVE-2016-2371  |            1 |\n",
            "+----------------+--------------+\n",
            "| CVE-2011-4939  |            1 |\n",
            "+----------------+--------------+\n",
            "| CVE-2013-6482  |            1 |\n",
            "+----------------+--------------+\n",
            "| CVE-2016-2374  |            1 |\n",
            "+----------------+--------------+\n",
            "| CVE-2013-6487  |            1 |\n",
            "+----------------+--------------+\n",
            "| CVE-2016-2377  |            1 |\n",
            "+----------------+--------------+\n",
            "| CVE-2013-6489  |            1 |\n",
            "+----------------+--------------+\n",
            "| CVE-2009-3083  |            1 |\n",
            "+----------------+--------------+\n",
            "| CVE-2010-2528  |            1 |\n",
            "+----------------+--------------+\n",
            "| CVE-2011-3594  |            1 |\n",
            "+----------------+--------------+\n",
            "| CVE-2009-3084  |            1 |\n",
            "+----------------+--------------+\n",
            "| CVE-2012-1178  |            1 |\n",
            "+----------------+--------------+\n",
            "| CVE-2008-2927  |            1 |\n",
            "+----------------+--------------+\n",
            "| CVE-2016-2366  |            1 |\n",
            "+----------------+--------------+\n"
          ]
        }
      ]
    },
    {
      "cell_type": "markdown",
      "source": [
        "https://nvd.nist.gov/developers/vulnerabilities"
      ],
      "metadata": {
        "id": "_7-NIJWemNM-"
      }
    },
    {
      "cell_type": "code",
      "source": [
        "import requests\n",
        "import time\n",
        "\n",
        "def get_cve_details(cve_id):\n",
        "    # URL to obtain vulnerability details from the NVD in JSON format\n",
        "    url = f'https://services.nvd.nist.gov/rest/json/cves/2.0/?cveId={cve_id}'\n",
        "\n",
        "    response = requests.get(url)\n",
        "    if response.status_code == 200:\n",
        "        data = response.json()\n",
        "        return data\n",
        "    elif response.status_code == 403:\n",
        "        time.sleep(30)\n",
        "        return get_cve_details(cve_id)\n",
        "    else:\n",
        "        print(f\"Error fetching data for {cve_id}: {response.status_code}\")\n",
        "        return None"
      ],
      "metadata": {
        "id": "mqJjlyXN-eem"
      },
      "execution_count": 72,
      "outputs": []
    },
    {
      "cell_type": "markdown",
      "source": [
        "* Classification by CVSS:\n",
        "  * **Low**: CVSS score from 0.0 to 3.9\n",
        "  * **Medium**: CVSS score from 4.0 to 6.9\n",
        "  * **High**: CVSS score from 7.0 to 8.9\n",
        "  * **Critical**: CVSS score from 9.0 to 10.0\n",
        "\n",
        "* Classification by CWE"
      ],
      "metadata": {
        "id": "YfHXdp1496AM"
      }
    },
    {
      "cell_type": "code",
      "source": [
        "def get_cve_cvss_cwe(cve_id):\n",
        "    data_cve = get_cve_details(cve_id)\n",
        "    if data_cve is None:\n",
        "        return None\n",
        "    try:\n",
        "      cvss_score = data_cve[\"vulnerabilities\"][0][\"cve\"][\"metrics\"][\"cvssMetricV2\"][0][\"cvssData\"][\"baseScore\"]\n",
        "    except KeyError:\n",
        "      print(f\"CVSS score not found for {cve_id}\")\n",
        "      cvss_score = None\n",
        "    try:\n",
        "      cvss_severity = data[\"vulnerabilities\"][0][\"cve\"][\"metrics\"][\"cvssMetricV2\"][0][\"baseSeverity\"]\n",
        "    except KeyError:\n",
        "      print(f\"CVSS severity not found for {cve_id}\")\n",
        "      cvss_severity = None\n",
        "    try:\n",
        "      cwe_value = data_cve[\"vulnerabilities\"][0][\"cve\"][\"weaknesses\"][0][\"description\"][0][\"value\"]\n",
        "    except KeyError:\n",
        "      print(f\"CWE not found for {cve_id}\")\n",
        "      cwe_value = None\n",
        "    return cvss_score, cvss_severity, cwe_value\n",
        "\n",
        "cvss = []\n",
        "severity = []\n",
        "cwe = []\n",
        "\n",
        "for cve in cve_files:\n",
        "    cvss, severity, cwe = get_cve_cvss_cwe(cve)\n",
        "    print(f\"{cve}: CVSS Score = {cvss} Severity = {severity}, CWE = {cwe}\")\n"
      ],
      "metadata": {
        "colab": {
          "base_uri": "https://localhost:8080/"
        },
        "id": "L8NR05Se0xaK",
        "outputId": "9c53b97e-1f98-4951-b5f3-a79356f6348d"
      },
      "execution_count": 74,
      "outputs": [
        {
          "output_type": "stream",
          "name": "stdout",
          "text": [
            "CVE-2015-0973: CVSS Score = 7.5 Severity = MEDIUM, CWE = CWE-119\n",
            "CVE-2004-0599: CVSS Score = 5.0 Severity = MEDIUM, CWE = NVD-CWE-Other\n",
            "CVE-2014-9495: CVSS Score = 10.0 Severity = MEDIUM, CWE = CWE-119\n",
            "CVE-2011-3464: CVSS Score = 7.5 Severity = MEDIUM, CWE = CWE-189\n",
            "CVE-2011-0408: CVSS Score = 6.8 Severity = MEDIUM, CWE = CWE-119\n",
            "CVE-2004-0597: CVSS Score = 10.0 Severity = MEDIUM, CWE = NVD-CWE-Other\n",
            "CVE-2004-0597: CVSS Score = 10.0 Severity = MEDIUM, CWE = NVD-CWE-Other\n",
            "CVE-2007-2445: CVSS Score = 5.0 Severity = MEDIUM, CWE = NVD-CWE-noinfo\n",
            "CVE-2006-0481: CVSS Score = 5.0 Severity = MEDIUM, CWE = CWE-119\n",
            "CVE-2012-3425: CVSS Score = 4.3 Severity = MEDIUM, CWE = CWE-119\n",
            "CVE-2008-5907: CVSS Score = 5.0 Severity = MEDIUM, CWE = NVD-CWE-noinfo\n",
            "CVE-2018-13785: CVSS Score = 4.3 Severity = MEDIUM, CWE = CWE-190\n",
            "CVE-2004-0599: CVSS Score = 5.0 Severity = MEDIUM, CWE = NVD-CWE-Other\n",
            "CVE-2011-3328: CVSS Score = 2.6 Severity = MEDIUM, CWE = NVD-CWE-Other\n",
            "CVE-2007-5269: CVSS Score = 5.0 Severity = MEDIUM, CWE = CWE-20\n",
            "CVE-2004-0597: CVSS Score = 10.0 Severity = MEDIUM, CWE = NVD-CWE-Other\n",
            "CVE-2015-8126: CVSS Score = 7.5 Severity = MEDIUM, CWE = CWE-120\n",
            "CVE-2011-2501: CVSS Score = 4.3 Severity = MEDIUM, CWE = CWE-125\n",
            "CVE-2006-3334: CVSS Score = 7.5 Severity = MEDIUM, CWE = NVD-CWE-Other\n",
            "CVE-2007-5629: CVSS Score = 4.3 Severity = MEDIUM, CWE = CWE-79\n",
            "CVE-2008-6218: CVSS Score = 7.1 Severity = MEDIUM, CWE = CWE-399\n",
            "CVE-2011-0408: CVSS Score = 6.8 Severity = MEDIUM, CWE = CWE-119\n",
            "CVE-2013-7354: CVSS Score = 5.0 Severity = MEDIUM, CWE = CWE-189\n",
            "CVE-2015-8126: CVSS Score = 7.5 Severity = MEDIUM, CWE = CWE-120\n",
            "CVE-2015-8472: CVSS Score = 7.5 Severity = MEDIUM, CWE = CWE-119\n",
            "CVE-2016-10087: CVSS Score = 5.0 Severity = MEDIUM, CWE = CWE-476\n",
            "CVE-2009-5063: CVSS Score = 5.0 Severity = MEDIUM, CWE = CWE-401\n",
            "CVE-2013-6954: CVSS Score = 5.0 Severity = MEDIUM, CWE = NVD-CWE-Other\n",
            "CVE-2014-0333: CVSS Score = 5.0 Severity = MEDIUM, CWE = CWE-189\n",
            "CVE-2004-0598: CVSS Score = 5.0 Severity = MEDIUM, CWE = NVD-CWE-Other\n",
            "CVE-2007-5267: CVSS Score = 4.3 Severity = MEDIUM, CWE = CWE-189\n",
            "CVE-2015-7981: CVSS Score = 5.0 Severity = MEDIUM, CWE = CWE-200\n",
            "CVE-2013-7354: CVSS Score = 5.0 Severity = MEDIUM, CWE = CWE-189\n",
            "CVE-2018-14048: CVSS Score = 4.3 Severity = MEDIUM, CWE = NVD-CWE-noinfo\n",
            "CVE-2015-8540: CVSS Score = 9.3 Severity = MEDIUM, CWE = CWE-189\n",
            "CVE-2013-7353: CVSS Score = 5.0 Severity = MEDIUM, CWE = CWE-189\n",
            "CVE-2010-0205: CVSS Score = 4.3 Severity = MEDIUM, CWE = CWE-400\n",
            "CVE-2006-5793: CVSS Score = 2.6 Severity = MEDIUM, CWE = CWE-20\n",
            "CVE-2011-3048: CVSS Score = 6.8 Severity = MEDIUM, CWE = CWE-119\n",
            "CVE-2011-2692: CVSS Score = 6.8 Severity = MEDIUM, CWE = CWE-119\n",
            "CVE-2009-0040: CVSS Score = 6.8 Severity = MEDIUM, CWE = CWE-824\n",
            "CVE-2007-5269: CVSS Score = 5.0 Severity = MEDIUM, CWE = CWE-20\n",
            "CVE-2006-7244: CVSS Score = 5.0 Severity = MEDIUM, CWE = CWE-399\n",
            "CVE-2007-5266: CVSS Score = 4.3 Severity = MEDIUM, CWE = CWE-189\n",
            "CVE-2011-3045: CVSS Score = 6.8 Severity = MEDIUM, CWE = CWE-190\n",
            "CVE-2011-3623: CVSS Score = 7.5 Severity = MEDIUM, CWE = CWE-119\n",
            "CVE-2008-5276: CVSS Score = 9.3 Severity = MEDIUM, CWE = CWE-189\n",
            "CVE-2008-1489: CVSS Score = 6.8 Severity = MEDIUM, CWE = CWE-189\n",
            "CVE-2016-3941: CVSS Score = 4.3 Severity = MEDIUM, CWE = CWE-119\n",
            "CVE-2011-0522: CVSS Score = 6.8 Severity = MEDIUM, CWE = CWE-119\n",
            "CVE-2010-2062: CVSS Score = 7.5 Severity = MEDIUM, CWE = CWE-189\n",
            "CVE-2007-6682: CVSS Score = 7.5 Severity = MEDIUM, CWE = NVD-CWE-Other\n",
            "CVE-2008-5036: CVSS Score = 9.3 Severity = MEDIUM, CWE = CWE-119\n",
            "CVE-2011-1684: CVSS Score = 6.8 Severity = MEDIUM, CWE = CWE-119\n",
            "CVE-2011-0522: CVSS Score = 6.8 Severity = MEDIUM, CWE = CWE-119\n",
            "CVE-2017-8313: CVSS Score = 4.3 Severity = MEDIUM, CWE = CWE-125\n",
            "CVE-2010-3907: CVSS Score = 9.3 Severity = MEDIUM, CWE = CWE-189\n",
            "CVE-2017-8310: CVSS Score = 4.3 Severity = MEDIUM, CWE = CWE-125\n",
            "CVE-2008-1881: CVSS Score = 6.8 Severity = MEDIUM, CWE = CWE-119\n",
            "CVE-2011-2587: CVSS Score = 6.8 Severity = MEDIUM, CWE = CWE-119\n",
            "CVE-2018-19857: CVSS Score = 6.4 Severity = MEDIUM, CWE = CWE-824\n",
            "CVE-2007-0017: CVSS Score = 6.8 Severity = MEDIUM, CWE = CWE-134\n",
            "CVE-2011-3623: CVSS Score = 7.5 Severity = MEDIUM, CWE = CWE-119\n",
            "CVE-2014-9598: CVSS Score = 6.8 Severity = MEDIUM, CWE = CWE-20\n",
            "CVE-2014-1684: CVSS Score = 4.3 Severity = MEDIUM, CWE = CWE-189\n",
            "CVE-2010-1443: CVSS Score = 5.0 Severity = MEDIUM, CWE = NVD-CWE-Other\n",
            "CVE-2010-1444: CVSS Score = 7.5 Severity = MEDIUM, CWE = CWE-119\n",
            "CVE-2008-4654: CVSS Score = 9.3 Severity = MEDIUM, CWE = CWE-119\n",
            "CVE-2008-3732: CVSS Score = 9.3 Severity = MEDIUM, CWE = CWE-189\n",
            "CVE-2018-11516: CVSS Score = 6.8 Severity = MEDIUM, CWE = CWE-416\n",
            "CVE-2010-3124: CVSS Score = 9.3 Severity = MEDIUM, CWE = NVD-CWE-Other\n",
            "CVE-2012-0023: CVSS Score = 9.3 Severity = MEDIUM, CWE = CWE-399\n",
            "CVE-2008-3794: CVSS Score = 6.8 Severity = MEDIUM, CWE = CWE-189\n",
            "CVE-2013-1954: CVSS Score = 6.8 Severity = MEDIUM, CWE = CWE-119\n",
            "CVE-2016-5108: CVSS Score = 7.5 Severity = MEDIUM, CWE = CWE-119\n",
            "CVE-2013-4388: CVSS Score = 6.8 Severity = MEDIUM, CWE = CWE-119\n",
            "CVE-2009-2484: CVSS Score = 9.3 Severity = MEDIUM, CWE = CWE-119\n",
            "CVE-2008-0984: CVSS Score = 9.3 Severity = MEDIUM, CWE = CWE-399\n",
            "CVE-2014-9597: CVSS Score = 6.8 Severity = MEDIUM, CWE = CWE-20\n",
            "CVE-2011-3623: CVSS Score = 7.5 Severity = MEDIUM, CWE = CWE-119\n",
            "CVE-2011-2588: CVSS Score = 6.8 Severity = MEDIUM, CWE = CWE-119\n",
            "CVE-2010-2937: CVSS Score = 5.0 Severity = MEDIUM, CWE = CWE-20\n",
            "CVE-2014-9743: CVSS Score = 4.3 Severity = MEDIUM, CWE = CWE-79\n",
            "CVE-2007-0017: CVSS Score = 6.8 Severity = MEDIUM, CWE = CWE-134\n",
            "CVE-2010-3907: CVSS Score = 9.3 Severity = MEDIUM, CWE = CWE-189\n",
            "CVE-2008-2430: CVSS Score = 9.3 Severity = MEDIUM, CWE = CWE-189\n",
            "CVE-2015-5949: CVSS Score = 6.8 Severity = MEDIUM, CWE = CWE-119\n",
            "CVE-2007-0017: CVSS Score = 6.8 Severity = MEDIUM, CWE = CWE-134\n",
            "CVE-2017-8311: CVSS Score = 6.8 Severity = MEDIUM, CWE = CWE-119\n",
            "CVE-2016-2380: CVSS Score = 4.3 Severity = MEDIUM, CWE = CWE-125\n",
            "CVE-2010-1624: CVSS Score = 5.0 Severity = MEDIUM, CWE = CWE-20\n",
            "CVE-2013-0273: CVSS Score = 5.0 Severity = MEDIUM, CWE = NVD-CWE-noinfo\n",
            "CVE-2013-6481: CVSS Score = 5.0 Severity = MEDIUM, CWE = CWE-119\n",
            "CVE-2009-1376: CVSS Score = 9.3 Severity = MEDIUM, CWE = CWE-189\n",
            "CVE-2011-2943: CVSS Score = 4.3 Severity = MEDIUM, CWE = NVD-CWE-Other\n",
            "CVE-2016-2375: CVSS Score = 5.0 Severity = MEDIUM, CWE = CWE-125\n",
            "CVE-2014-3697: CVSS Score = 6.4 Severity = MEDIUM, CWE = CWE-22\n",
            "CVE-2016-2376: CVSS Score = 6.8 Severity = MEDIUM, CWE = CWE-119\n",
            "CVE-2011-3184: CVSS Score = 4.3 Severity = MEDIUM, CWE = CWE-399\n",
            "CVE-2012-3374: CVSS Score = 7.5 Severity = MEDIUM, CWE = CWE-119\n",
            "CVE-2011-4603: CVSS Score = 5.0 Severity = MEDIUM, CWE = CWE-20\n",
            "CVE-2014-3698: CVSS Score = 5.0 Severity = MEDIUM, CWE = CWE-200\n",
            "CVE-2009-2694: CVSS Score = 10.0 Severity = MEDIUM, CWE = CWE-399\n",
            "CVE-2013-0272: CVSS Score = 6.8 Severity = MEDIUM, CWE = CWE-119\n",
            "CVE-2016-2371: CVSS Score = 6.8 Severity = MEDIUM, CWE = CWE-787\n",
            "CVE-2011-4939: CVSS Score = 6.4 Severity = MEDIUM, CWE = CWE-264\n",
            "CVE-2013-6482: CVSS Score = 5.0 Severity = MEDIUM, CWE = CWE-20\n",
            "CVE-2016-2374: CVSS Score = 6.8 Severity = MEDIUM, CWE = CWE-125\n",
            "CVE-2013-6487: CVSS Score = 7.5 Severity = MEDIUM, CWE = CWE-189\n",
            "CVE-2016-2377: CVSS Score = 6.8 Severity = MEDIUM, CWE = CWE-119\n",
            "CVE-2013-6489: CVSS Score = 5.0 Severity = MEDIUM, CWE = CWE-189\n",
            "CVE-2009-3083: CVSS Score = 5.0 Severity = MEDIUM, CWE = CWE-119\n",
            "CVE-2010-2528: CVSS Score = 4.0 Severity = MEDIUM, CWE = CWE-399\n",
            "CVE-2011-3594: CVSS Score = 4.3 Severity = MEDIUM, CWE = CWE-119\n",
            "CVE-2009-3084: CVSS Score = 5.0 Severity = MEDIUM, CWE = CWE-20\n",
            "CVE-2012-1178: CVSS Score = 5.0 Severity = MEDIUM, CWE = CWE-399\n",
            "CVE-2008-2927: CVSS Score = 6.8 Severity = MEDIUM, CWE = CWE-189\n",
            "CVE-2016-2366: CVSS Score = 4.3 Severity = MEDIUM, CWE = CWE-125\n"
          ]
        }
      ]
    },
    {
      "cell_type": "code",
      "source": [
        "print(len(cve_files))\n",
        "print(len(cvss))\n",
        "print(len(severity))\n",
        "print(len(cwe))\n",
        "\n",
        "# vulnerable_info = np.array([cve_files, cvss, severity, cwe])"
      ],
      "metadata": {
        "colab": {
          "base_uri": "https://localhost:8080/",
          "height": 144
        },
        "id": "ShvwPUKaqBTZ",
        "outputId": "992dbe84-b6bb-4c56-89a6-dc813aa8117b"
      },
      "execution_count": 106,
      "outputs": [
        {
          "output_type": "error",
          "ename": "ValueError",
          "evalue": "setting an array element with a sequence. The requested array has an inhomogeneous shape after 1 dimensions. The detected shape was (4,) + inhomogeneous part.",
          "traceback": [
            "\u001b[0;31m---------------------------------------------------------------------------\u001b[0m",
            "\u001b[0;31mValueError\u001b[0m                                Traceback (most recent call last)",
            "\u001b[0;32m<ipython-input-106-979d8674ce46>\u001b[0m in \u001b[0;36m<cell line: 0>\u001b[0;34m()\u001b[0m\n\u001b[0;32m----> 1\u001b[0;31m \u001b[0mvulnerable_info\u001b[0m \u001b[0;34m=\u001b[0m \u001b[0mnp\u001b[0m\u001b[0;34m.\u001b[0m\u001b[0marray\u001b[0m\u001b[0;34m(\u001b[0m\u001b[0;34m[\u001b[0m\u001b[0mcve_files\u001b[0m\u001b[0;34m,\u001b[0m \u001b[0mcvss\u001b[0m\u001b[0;34m,\u001b[0m \u001b[0mseverity\u001b[0m\u001b[0;34m,\u001b[0m \u001b[0mcwe\u001b[0m\u001b[0;34m]\u001b[0m\u001b[0;34m)\u001b[0m\u001b[0;34m\u001b[0m\u001b[0;34m\u001b[0m\u001b[0m\n\u001b[0m",
            "\u001b[0;31mValueError\u001b[0m: setting an array element with a sequence. The requested array has an inhomogeneous shape after 1 dimensions. The detected shape was (4,) + inhomogeneous part."
          ]
        }
      ]
    }
  ]
}