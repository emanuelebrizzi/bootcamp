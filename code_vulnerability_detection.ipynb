{
  "nbformat": 4,
  "nbformat_minor": 0,
  "metadata": {
    "colab": {
      "provenance": [],
      "collapsed_sections": [
        "vwxvuUJnjbIH",
        "GrfMYRimjn3v"
      ],
      "authorship_tag": "ABX9TyPsqpL7vYsqPhlja2qUFZbc",
      "include_colab_link": true
    },
    "kernelspec": {
      "name": "python3",
      "display_name": "Python 3"
    },
    "language_info": {
      "name": "python"
    }
  },
  "cells": [
    {
      "cell_type": "markdown",
      "metadata": {
        "id": "view-in-github",
        "colab_type": "text"
      },
      "source": [
        "<a href=\"https://colab.research.google.com/github/emanuelebrizzi/bootcamp/blob/main/code_vulnerability_detection.ipynb\" target=\"_parent\"><img src=\"https://colab.research.google.com/assets/colab-badge.svg\" alt=\"Open In Colab\"/></a>"
      ]
    },
    {
      "cell_type": "code",
      "source": [
        "!pip install datasets"
      ],
      "metadata": {
        "colab": {
          "base_uri": "https://localhost:8080/"
        },
        "id": "XCJT8cLSu_la",
        "outputId": "37d7a95b-8a94-4252-9150-a2cb5214e00a"
      },
      "execution_count": null,
      "outputs": [
        {
          "output_type": "stream",
          "name": "stdout",
          "text": [
            "Collecting datasets\n",
            "  Downloading datasets-3.3.2-py3-none-any.whl.metadata (19 kB)\n",
            "Requirement already satisfied: filelock in /usr/local/lib/python3.11/dist-packages (from datasets) (3.17.0)\n",
            "Requirement already satisfied: numpy>=1.17 in /usr/local/lib/python3.11/dist-packages (from datasets) (1.26.4)\n",
            "Requirement already satisfied: pyarrow>=15.0.0 in /usr/local/lib/python3.11/dist-packages (from datasets) (18.1.0)\n",
            "Collecting dill<0.3.9,>=0.3.0 (from datasets)\n",
            "  Downloading dill-0.3.8-py3-none-any.whl.metadata (10 kB)\n",
            "Requirement already satisfied: pandas in /usr/local/lib/python3.11/dist-packages (from datasets) (2.2.2)\n",
            "Requirement already satisfied: requests>=2.32.2 in /usr/local/lib/python3.11/dist-packages (from datasets) (2.32.3)\n",
            "Requirement already satisfied: tqdm>=4.66.3 in /usr/local/lib/python3.11/dist-packages (from datasets) (4.67.1)\n",
            "Collecting xxhash (from datasets)\n",
            "  Downloading xxhash-3.5.0-cp311-cp311-manylinux_2_17_x86_64.manylinux2014_x86_64.whl.metadata (12 kB)\n",
            "Collecting multiprocess<0.70.17 (from datasets)\n",
            "  Downloading multiprocess-0.70.16-py311-none-any.whl.metadata (7.2 kB)\n",
            "Requirement already satisfied: fsspec<=2024.12.0,>=2023.1.0 in /usr/local/lib/python3.11/dist-packages (from fsspec[http]<=2024.12.0,>=2023.1.0->datasets) (2024.10.0)\n",
            "Requirement already satisfied: aiohttp in /usr/local/lib/python3.11/dist-packages (from datasets) (3.11.12)\n",
            "Requirement already satisfied: huggingface-hub>=0.24.0 in /usr/local/lib/python3.11/dist-packages (from datasets) (0.28.1)\n",
            "Requirement already satisfied: packaging in /usr/local/lib/python3.11/dist-packages (from datasets) (24.2)\n",
            "Requirement already satisfied: pyyaml>=5.1 in /usr/local/lib/python3.11/dist-packages (from datasets) (6.0.2)\n",
            "Requirement already satisfied: aiohappyeyeballs>=2.3.0 in /usr/local/lib/python3.11/dist-packages (from aiohttp->datasets) (2.4.6)\n",
            "Requirement already satisfied: aiosignal>=1.1.2 in /usr/local/lib/python3.11/dist-packages (from aiohttp->datasets) (1.3.2)\n",
            "Requirement already satisfied: attrs>=17.3.0 in /usr/local/lib/python3.11/dist-packages (from aiohttp->datasets) (25.1.0)\n",
            "Requirement already satisfied: frozenlist>=1.1.1 in /usr/local/lib/python3.11/dist-packages (from aiohttp->datasets) (1.5.0)\n",
            "Requirement already satisfied: multidict<7.0,>=4.5 in /usr/local/lib/python3.11/dist-packages (from aiohttp->datasets) (6.1.0)\n",
            "Requirement already satisfied: propcache>=0.2.0 in /usr/local/lib/python3.11/dist-packages (from aiohttp->datasets) (0.3.0)\n",
            "Requirement already satisfied: yarl<2.0,>=1.17.0 in /usr/local/lib/python3.11/dist-packages (from aiohttp->datasets) (1.18.3)\n",
            "Requirement already satisfied: typing-extensions>=3.7.4.3 in /usr/local/lib/python3.11/dist-packages (from huggingface-hub>=0.24.0->datasets) (4.12.2)\n",
            "Requirement already satisfied: charset-normalizer<4,>=2 in /usr/local/lib/python3.11/dist-packages (from requests>=2.32.2->datasets) (3.4.1)\n",
            "Requirement already satisfied: idna<4,>=2.5 in /usr/local/lib/python3.11/dist-packages (from requests>=2.32.2->datasets) (3.10)\n",
            "Requirement already satisfied: urllib3<3,>=1.21.1 in /usr/local/lib/python3.11/dist-packages (from requests>=2.32.2->datasets) (2.3.0)\n",
            "Requirement already satisfied: certifi>=2017.4.17 in /usr/local/lib/python3.11/dist-packages (from requests>=2.32.2->datasets) (2025.1.31)\n",
            "Requirement already satisfied: python-dateutil>=2.8.2 in /usr/local/lib/python3.11/dist-packages (from pandas->datasets) (2.8.2)\n",
            "Requirement already satisfied: pytz>=2020.1 in /usr/local/lib/python3.11/dist-packages (from pandas->datasets) (2025.1)\n",
            "Requirement already satisfied: tzdata>=2022.7 in /usr/local/lib/python3.11/dist-packages (from pandas->datasets) (2025.1)\n",
            "Requirement already satisfied: six>=1.5 in /usr/local/lib/python3.11/dist-packages (from python-dateutil>=2.8.2->pandas->datasets) (1.17.0)\n",
            "Downloading datasets-3.3.2-py3-none-any.whl (485 kB)\n",
            "\u001b[2K   \u001b[90m━━━━━━━━━━━━━━━━━━━━━━━━━━━━━━━━━━━━━━━━\u001b[0m \u001b[32m485.4/485.4 kB\u001b[0m \u001b[31m9.1 MB/s\u001b[0m eta \u001b[36m0:00:00\u001b[0m\n",
            "\u001b[?25hDownloading dill-0.3.8-py3-none-any.whl (116 kB)\n",
            "\u001b[2K   \u001b[90m━━━━━━━━━━━━━━━━━━━━━━━━━━━━━━━━━━━━━━━━\u001b[0m \u001b[32m116.3/116.3 kB\u001b[0m \u001b[31m9.0 MB/s\u001b[0m eta \u001b[36m0:00:00\u001b[0m\n",
            "\u001b[?25hDownloading multiprocess-0.70.16-py311-none-any.whl (143 kB)\n",
            "\u001b[2K   \u001b[90m━━━━━━━━━━━━━━━━━━━━━━━━━━━━━━━━━━━━━━━━\u001b[0m \u001b[32m143.5/143.5 kB\u001b[0m \u001b[31m10.4 MB/s\u001b[0m eta \u001b[36m0:00:00\u001b[0m\n",
            "\u001b[?25hDownloading xxhash-3.5.0-cp311-cp311-manylinux_2_17_x86_64.manylinux2014_x86_64.whl (194 kB)\n",
            "\u001b[2K   \u001b[90m━━━━━━━━━━━━━━━━━━━━━━━━━━━━━━━━━━━━━━━━\u001b[0m \u001b[32m194.8/194.8 kB\u001b[0m \u001b[31m14.2 MB/s\u001b[0m eta \u001b[36m0:00:00\u001b[0m\n",
            "\u001b[?25hInstalling collected packages: xxhash, dill, multiprocess, datasets\n",
            "Successfully installed datasets-3.3.2 dill-0.3.8 multiprocess-0.70.16 xxhash-3.5.0\n"
          ]
        }
      ]
    },
    {
      "cell_type": "markdown",
      "source": [
        "# **Data upload**\n"
      ],
      "metadata": {
        "id": "vwxvuUJnjbIH"
      }
    },
    {
      "cell_type": "code",
      "execution_count": 43,
      "metadata": {
        "id": "TXYDvCvi5XZq",
        "colab": {
          "base_uri": "https://localhost:8080/"
        },
        "outputId": "765c5d9b-7b67-48cb-fc0e-496a166628c5"
      },
      "outputs": [
        {
          "output_type": "stream",
          "name": "stdout",
          "text": [
            "Drive already mounted at /content/drive; to attempt to forcibly remount, call drive.mount(\"/content/drive\", force_remount=True).\n"
          ]
        }
      ],
      "source": [
        "#from google.colab import files\n",
        "#import zipfile\n",
        "#import os\n",
        "\n",
        "from google.colab import drive\n",
        "drive.mount(\"/content/drive\")"
      ]
    },
    {
      "cell_type": "code",
      "source": [
        "import os\n",
        "import glob\n",
        "\n",
        "# Directory path\n",
        "drive_path = \"/content/drive/MyDrive/bootcamp_file\"\n",
        "\n",
        "libpng_path = os.path.join(drive_path, \"LibPNG\")\n",
        "\n",
        "libpng_vuln_path = os.path.join(libpng_path, \"Vulnerable_functions\")\n",
        "libpng_non_vuln_path = os.path.join(libpng_path, \"Non_vulnerable_functions\")\n",
        "\n",
        "vlc_path = os.path.join(drive_path, \"VLC\")\n",
        "\n",
        "vlc_vuln_path = os.path.join(vlc_path, \"Vulnerable_functions\")\n",
        "vlc_non_vuln_path = os.path.join(vlc_path, \"Non_vulnerable_functions\")\n",
        "\n",
        "pidgin_path = os.path.join(drive_path, \"Pidgin\")\n",
        "\n",
        "pidgin_vuln_path = os.path.join(pidgin_path, \"Vulnerable_functions\")\n",
        "pidgin_non_vuln_path = os.path.join(pidgin_path, \"Non_vulnerable_functions\")\n"
      ],
      "metadata": {
        "id": "9bSkiYW8bdvj"
      },
      "execution_count": 44,
      "outputs": []
    },
    {
      "cell_type": "code",
      "source": [
        "\n",
        "def load_files_from_folder(folder, label):\n",
        "    files = glob.glob(os.path.join(folder, \"*.c\"))\n",
        "    data = []\n",
        "    for file in files:\n",
        "        with open(file, \"r\", encoding=\"utf-8\", errors=\"ignore\") as f:\n",
        "            data.append((f.read(), label, os.path.basename(file)))\n",
        "    return data\n"
      ],
      "metadata": {
        "id": "LuhDeKSyd9Gf"
      },
      "execution_count": 45,
      "outputs": []
    },
    {
      "cell_type": "markdown",
      "source": [
        "# **Replace Function names and Variable names**"
      ],
      "metadata": {
        "id": "GrfMYRimjn3v"
      }
    },
    {
      "cell_type": "code",
      "source": [
        "import re\n",
        "import random\n",
        "import string\n",
        "from pathlib import Path"
      ],
      "metadata": {
        "id": "PfJOtGKtW-q3"
      },
      "execution_count": 46,
      "outputs": []
    },
    {
      "cell_type": "code",
      "source": [
        "# Removes comments from C code\n",
        "def remove_comments(code):\n",
        "    code = re.sub(r'//.*', '', code)\n",
        "    code = re.sub(r'/\\*.*?\\*/', '', code, flags=re.DOTALL)\n",
        "    return code\n",
        "\n",
        "# Extracts variable and function names from C code\n",
        "def extract_identifiers(code):\n",
        "    pattern = re.compile(r'\\b([a-zA-Z_][a-zA-Z0-9_]*)\\b')\n",
        "    keywords = set(['int', 'char', 'float', 'double', 'return', 'if', 'else', 'while', 'for', 'do', 'switch', 'case', 'void'])\n",
        "    identifiers = set(pattern.findall(code)) - keywords\n",
        "    return identifiers\n",
        "\n",
        "# Classifies identifiers as variables or functions\n",
        "def categorize_identifiers(identifiers):\n",
        "    var_counter, fun_counter = 1, 1\n",
        "    replacements = {}\n",
        "    for identifier in identifiers:\n",
        "        if re.search(r'\\b[A-Za-z_][A-Za-z0-9_]*\\s*\\(', identifier):\n",
        "            replacements[identifier] = f'fun_{fun_counter}'\n",
        "            fun_counter += 1\n",
        "        else:\n",
        "            replacements[identifier] = f'var_{var_counter}'\n",
        "            var_counter += 1\n",
        "    return replacements\n",
        "\n",
        "# Replaces variable and function names with new names\n",
        "def replace_identifiers(code, replacements):\n",
        "\n",
        "    for old, new in replacements.items():\n",
        "        code = re.sub(r'\\b' + re.escape(old) + r'\\b', new, code)\n",
        "    return code\n",
        "\n",
        "# Reads a C file, replaces names, and saves the new file\n",
        "def process_c_file(filepath, new_filepath):\n",
        "    with open(filepath, 'r', encoding='Latin-1') as file:\n",
        "        code = file.read()\n",
        "\n",
        "    code_no_comments = remove_comments(code)\n",
        "    identifiers = extract_identifiers(code_no_comments)\n",
        "    replacements = categorize_identifiers(identifiers)\n",
        "    new_code = replace_identifiers(code_no_comments, replacements)\n",
        "    with open(new_filepath, 'w', encoding='Latin-1') as file:\n",
        "        file.write(new_code)\n",
        "\n",
        "# Processes all C files in a directory\n",
        "def process_directory(directory, new_directory_path):\n",
        "    for filepath in Path(directory).glob(\"*.c\"):\n",
        "        new_filepath = os.path.join(new_directory_path, os.path.basename(filepath))\n",
        "        process_c_file(filepath, new_filepath)"
      ],
      "metadata": {
        "id": "zqT_F2_Eoh7P"
      },
      "execution_count": 47,
      "outputs": []
    },
    {
      "cell_type": "markdown",
      "source": [
        "Cleanning code:"
      ],
      "metadata": {
        "id": "0X-adtx-kMaN"
      }
    },
    {
      "cell_type": "code",
      "source": [
        "import shutil\n",
        "\n",
        "def create_directory(directory_path):\n",
        "    if os.path.exists(directory_path):\n",
        "        shutil.rmtree(directory_path)\n",
        "    os.makedirs(directory_path, exist_ok=True)\n",
        "\n",
        "# Creation modified directory\n",
        "modified_path = os.path.join(drive_path, \"modified_files\")\n",
        "#create_directory(modified_path)\n",
        "\n",
        "libpng_modified = os.path.join(modified_path, \"LibPNG\")\n",
        "#create_directory(libpng_modified)\n",
        "\n",
        "vlc_modified = os.path.join(modified_path, \"VLC\")\n",
        "#create_directory(vlc_modified)\n",
        "\n",
        "pidgin_modified = os.path.join(modified_path, \"Pidgin\")\n",
        "#create_directory(pidgin_modified)\n",
        "\n",
        "libpng_modified_vuln_path = os.path.join(libpng_modified, \"Vulnerable_functions\")\n",
        "#create_directory(libpng_modified_vuln_path)\n",
        "libpng_modified_non_vuln_path = os.path.join(libpng_modified, \"Non_vulnerable_functions\")\n",
        "#create_directory(libpng_modified_non_vuln_path)\n",
        "\n",
        "vlc_modified_vuln_path = os.path.join(vlc_modified, \"Vulnerable_functions\")\n",
        "#create_directory(vlc_modified_vuln_path)\n",
        "vlc_modified_non_vuln_path = os.path.join(vlc_modified, \"Non_vulnerable_functions\")\n",
        "#create_directory(vlc_modified_non_vuln_path)\n",
        "\n",
        "pidgin_modified_vuln_path = os.path.join(pidgin_modified, \"Vulnerable_functions\")\n",
        "#create_directory(pidgin_modified_vuln_path)\n",
        "pidgin_modified_non_vuln_path = os.path.join(pidgin_modified, \"Non_vulnerable_functions\")\n",
        "#create_directory(pidgin_modified_non_vuln_path)\n",
        "\n",
        "#process_directory(libpng_vuln_path, libpng_modified_vuln_path)\n",
        "#process_directory(libpng_non_vuln_path, libpng_modified_non_vuln_path)\n",
        "#process_directory(vlc_vuln_path, vlc_modified_vuln_path)\n",
        "#process_directory(vlc_non_vuln_path, vlc_modified_non_vuln_path)\n",
        "#process_directory(pidgin_vuln_path, pidgin_modified_vuln_path)\n",
        "#process_directory(pidgin_non_vuln_path, pidgin_modified_non_vuln_path)\n"
      ],
      "metadata": {
        "id": "LyBFy5YFsLh9"
      },
      "execution_count": 48,
      "outputs": []
    },
    {
      "cell_type": "markdown",
      "source": [
        "# Dataset preparation"
      ],
      "metadata": {
        "id": "dm5U2rLuQaow"
      }
    },
    {
      "cell_type": "code",
      "source": [
        "import os\n",
        "import numpy as np\n",
        "from collections import Counter\n",
        "from tabulate import tabulate\n",
        "import random\n",
        "import os\n",
        "import re"
      ],
      "metadata": {
        "id": "2SK_9iAc8pI-"
      },
      "execution_count": 49,
      "outputs": []
    },
    {
      "cell_type": "code",
      "source": [
        "# Load and label data\n",
        "def load_data(directory, label):\n",
        "    data = []\n",
        "    for filename in os.listdir(directory):\n",
        "        with open(os.path.join(directory, filename), 'r') as file:\n",
        "            data.append((file.read(), label))\n",
        "    return data\n",
        "\n",
        "vulnerable_files = load_data(libpng_modified_vuln_path, label=1)\n",
        "non_vulnerable_files = load_data(libpng_modified_non_vuln_path, label=0)\n",
        "\n",
        "# Combine and shuffle dataset\n",
        "dataset = vulnerable_files + non_vulnerable_files\n",
        "np.random.shuffle(dataset)\n",
        "\n",
        "texts, labels = zip(*dataset)"
      ],
      "metadata": {
        "id": "T2SHplrUQYu4"
      },
      "execution_count": 50,
      "outputs": []
    },
    {
      "cell_type": "code",
      "source": [
        "# Load and label data\n",
        "def load_data_directoies(directories, label):\n",
        "    data = []\n",
        "    for directory in directories:  # Iteriamo sulle directory della lista\n",
        "        for filename in os.listdir(directory):  # Ora directory è una stringa\n",
        "            with open(os.path.join(directory, filename), 'r') as file:\n",
        "                data.append((file.read(), label))\n",
        "    return data\n",
        "vulnerable_files = load_data_directoies([libpng_modified_vuln_path, vlc_modified_vuln_path, pidgin_modified_vuln_path], label=1)\n",
        "non_vulnerable_files = load_data_directoies([libpng_modified_non_vuln_path, vlc_modified_non_vuln_path, pidgin_modified_non_vuln_path], label=0)\n",
        "\n",
        "# Combine and shuffle dataset\n",
        "dataset = vulnerable_files + non_vulnerable_files\n",
        "np.random.shuffle(dataset)\n",
        "\n",
        "texts, labels = zip(*dataset)"
      ],
      "metadata": {
        "id": "qrqqOl26TYbe"
      },
      "execution_count": 51,
      "outputs": []
    },
    {
      "cell_type": "markdown",
      "source": [
        "### Dataset study"
      ],
      "metadata": {
        "id": "HzUuTtbUxZ05"
      }
    },
    {
      "cell_type": "code",
      "source": [
        "print(\"Vulnerable files: \", len(vulnerable_files))\n",
        "print(\"Non Vulnerable files: \", len(non_vulnerable_files))\n",
        "print(\"Dataset files: \", len(dataset))"
      ],
      "metadata": {
        "colab": {
          "base_uri": "https://localhost:8080/"
        },
        "id": "kwD77zOi3sMu",
        "outputId": "aacf0552-7f03-4976-a714-32ad89cc2d83"
      },
      "execution_count": 52,
      "outputs": [
        {
          "output_type": "stream",
          "name": "stdout",
          "text": [
            "Vulnerable files:  118\n",
            "Non Vulnerable files:  15318\n",
            "Dataset files:  15436\n"
          ]
        }
      ]
    },
    {
      "cell_type": "code",
      "source": [
        "n = len(vulnerable_files) * 8\n",
        "\n",
        "# Selezione casuale senza modificare la struttura dei dati\n",
        "non_vulnerable_files_selected = random.sample(non_vulnerable_files, min(n, len(non_vulnerable_files)))\n",
        "\n",
        "# Combina e mescola il dataset\n",
        "dataset = vulnerable_files + non_vulnerable_files_selected\n",
        "random.shuffle(dataset)\n",
        "\n",
        "# Dividi in testi e label\n",
        "texts, labels = zip(*dataset)\n"
      ],
      "metadata": {
        "id": "pCOTAxZP6alL"
      },
      "execution_count": 53,
      "outputs": []
    },
    {
      "cell_type": "code",
      "source": [
        "print(\"Vulnerable files: \", len(vulnerable_files))\n",
        "print(\"Non Vulnerable files: \", len(non_vulnerable_files_selected))\n",
        "print(\"Dataset files: \", len(dataset))"
      ],
      "metadata": {
        "colab": {
          "base_uri": "https://localhost:8080/"
        },
        "id": "nOQkFV1ByMLn",
        "outputId": "51757f20-8ebb-4fef-b3a1-d862bfa7ad45"
      },
      "execution_count": 54,
      "outputs": [
        {
          "output_type": "stream",
          "name": "stdout",
          "text": [
            "Vulnerable files:  118\n",
            "Non Vulnerable files:  944\n",
            "Dataset files:  1062\n"
          ]
        }
      ]
    },
    {
      "cell_type": "code",
      "source": [
        "# Lista per salvare i nomi dei file nella forma CVE-XXXX-XXXX\n",
        "cve_files = []\n",
        "\n",
        "# Espressione regolare per trovare i nomi compatibili\n",
        "pattern = re.compile(r\"(?i)(?:^|_)cve-(\\d{4})-(\\d{4})\")\n",
        "\n",
        "# Scansiona la directory\n",
        "for file in os.listdir(libpng_modified_vuln_path):\n",
        "    # Cerca nel nome del file\n",
        "    match = pattern.search(file)\n",
        "    if match:\n",
        "        # Formatta il nome nella forma CVE-XXXX-XXXX\n",
        "        formatted_name = f\"CVE-{match.group(1)}-{match.group(2)}\"\n",
        "        cve_files.append(formatted_name)\n",
        "\n",
        "\n",
        "for file in os.listdir(vlc_modified_vuln_path):\n",
        "    # Cerca nel nome del file\n",
        "    match = pattern.search(file)\n",
        "    if match:\n",
        "        # Formatta il nome nella forma CVE-XXXX-XXXX\n",
        "        formatted_name = f\"CVE-{match.group(1)}-{match.group(2)}\"\n",
        "        cve_files.append(formatted_name)\n",
        "\n",
        "\n",
        "for file in os.listdir(pidgin_modified_vuln_path):\n",
        "    # Cerca nel nome del file\n",
        "    match = pattern.search(file)\n",
        "    if match:\n",
        "        # Formatta il nome nella forma CVE-XXXX-XXXX\n",
        "        formatted_name = f\"CVE-{match.group(1)}-{match.group(2)}\"\n",
        "        cve_files.append(formatted_name)\n",
        "\n",
        "\n",
        "\n",
        "print(\"Vulnerable files: (CVE) \", len(cve_files))\n",
        "\n",
        "\n",
        "# Conta tutte le occorrenze\n",
        "occurrences = Counter(cve_files)\n",
        "\n",
        "# Creiamo una tabella con i dati\n",
        "table_data = [(cve, count) for cve, count in occurrences.items()]\n",
        "\n",
        "# Stampa in formato tabella leggibile\n",
        "print(tabulate(table_data, headers=[\"CVE\", \"Occorrenze\"], tablefmt=\"grid\"))\n"
      ],
      "metadata": {
        "colab": {
          "base_uri": "https://localhost:8080/"
        },
        "id": "sduXWVmiXdzg",
        "outputId": "4217440b-ddab-47fd-c40c-f80df1d7fe57"
      },
      "execution_count": 55,
      "outputs": [
        {
          "output_type": "stream",
          "name": "stdout",
          "text": [
            "Vulnerable files: (CVE)  118\n",
            "+---------------+--------------+\n",
            "| CVE           |   Occorrenze |\n",
            "+===============+==============+\n",
            "| CVE-2015-0973 |            1 |\n",
            "+---------------+--------------+\n",
            "| CVE-2004-0599 |            2 |\n",
            "+---------------+--------------+\n",
            "| CVE-2014-9495 |            1 |\n",
            "+---------------+--------------+\n",
            "| CVE-2011-3464 |            1 |\n",
            "+---------------+--------------+\n",
            "| CVE-2011-0408 |            2 |\n",
            "+---------------+--------------+\n",
            "| CVE-2004-0597 |            3 |\n",
            "+---------------+--------------+\n",
            "| CVE-2007-2445 |            1 |\n",
            "+---------------+--------------+\n",
            "| CVE-2006-0481 |            1 |\n",
            "+---------------+--------------+\n",
            "| CVE-2012-3425 |            1 |\n",
            "+---------------+--------------+\n",
            "| CVE-2008-5907 |            1 |\n",
            "+---------------+--------------+\n",
            "| CVE-2018-1378 |            1 |\n",
            "+---------------+--------------+\n",
            "| CVE-2011-3328 |            1 |\n",
            "+---------------+--------------+\n",
            "| CVE-2007-5269 |            2 |\n",
            "+---------------+--------------+\n",
            "| CVE-2015-8126 |            2 |\n",
            "+---------------+--------------+\n",
            "| CVE-2011-2501 |            1 |\n",
            "+---------------+--------------+\n",
            "| CVE-2006-3334 |            1 |\n",
            "+---------------+--------------+\n",
            "| CVE-2007-5629 |            1 |\n",
            "+---------------+--------------+\n",
            "| CVE-2008-6218 |            1 |\n",
            "+---------------+--------------+\n",
            "| CVE-2013-7354 |            2 |\n",
            "+---------------+--------------+\n",
            "| CVE-2015-8472 |            1 |\n",
            "+---------------+--------------+\n",
            "| CVE-2016-1008 |            1 |\n",
            "+---------------+--------------+\n",
            "| CVE-2009-5063 |            1 |\n",
            "+---------------+--------------+\n",
            "| CVE-2013-6954 |            1 |\n",
            "+---------------+--------------+\n",
            "| CVE-2014-0333 |            1 |\n",
            "+---------------+--------------+\n",
            "| CVE-2004-0598 |            1 |\n",
            "+---------------+--------------+\n",
            "| CVE-2007-5267 |            1 |\n",
            "+---------------+--------------+\n",
            "| CVE-2015-7981 |            1 |\n",
            "+---------------+--------------+\n",
            "| CVE-2018-1404 |            1 |\n",
            "+---------------+--------------+\n",
            "| CVE-2015-8540 |            1 |\n",
            "+---------------+--------------+\n",
            "| CVE-2013-7353 |            1 |\n",
            "+---------------+--------------+\n",
            "| CVE-2010-0205 |            1 |\n",
            "+---------------+--------------+\n",
            "| CVE-2006-5793 |            1 |\n",
            "+---------------+--------------+\n",
            "| CVE-2011-3048 |            1 |\n",
            "+---------------+--------------+\n",
            "| CVE-2011-2692 |            1 |\n",
            "+---------------+--------------+\n",
            "| CVE-2009-0040 |            1 |\n",
            "+---------------+--------------+\n",
            "| CVE-2006-7244 |            1 |\n",
            "+---------------+--------------+\n",
            "| CVE-2007-5266 |            1 |\n",
            "+---------------+--------------+\n",
            "| CVE-2011-3045 |            1 |\n",
            "+---------------+--------------+\n",
            "| CVE-2011-3623 |            3 |\n",
            "+---------------+--------------+\n",
            "| CVE-2008-5276 |            1 |\n",
            "+---------------+--------------+\n",
            "| CVE-2008-1489 |            1 |\n",
            "+---------------+--------------+\n",
            "| CVE-2016-3941 |            1 |\n",
            "+---------------+--------------+\n",
            "| CVE-2011-0522 |            2 |\n",
            "+---------------+--------------+\n",
            "| CVE-2010-2062 |            1 |\n",
            "+---------------+--------------+\n",
            "| CVE-2007-6682 |            1 |\n",
            "+---------------+--------------+\n",
            "| CVE-2008-5036 |            1 |\n",
            "+---------------+--------------+\n",
            "| CVE-2011-1684 |            1 |\n",
            "+---------------+--------------+\n",
            "| CVE-2017-8313 |            1 |\n",
            "+---------------+--------------+\n",
            "| CVE-2010-3907 |            2 |\n",
            "+---------------+--------------+\n",
            "| CVE-2017-8310 |            1 |\n",
            "+---------------+--------------+\n",
            "| CVE-2008-1881 |            1 |\n",
            "+---------------+--------------+\n",
            "| CVE-2011-2587 |            1 |\n",
            "+---------------+--------------+\n",
            "| CVE-2018-1985 |            1 |\n",
            "+---------------+--------------+\n",
            "| CVE-2007-0017 |            3 |\n",
            "+---------------+--------------+\n",
            "| CVE-2014-9598 |            1 |\n",
            "+---------------+--------------+\n",
            "| CVE-2014-1684 |            1 |\n",
            "+---------------+--------------+\n",
            "| CVE-2010-1443 |            1 |\n",
            "+---------------+--------------+\n",
            "| CVE-2010-1444 |            1 |\n",
            "+---------------+--------------+\n",
            "| CVE-2008-4654 |            1 |\n",
            "+---------------+--------------+\n",
            "| CVE-2008-3732 |            1 |\n",
            "+---------------+--------------+\n",
            "| CVE-2018-1151 |            1 |\n",
            "+---------------+--------------+\n",
            "| CVE-2010-3124 |            1 |\n",
            "+---------------+--------------+\n",
            "| CVE-2012-0023 |            1 |\n",
            "+---------------+--------------+\n",
            "| CVE-2008-3794 |            1 |\n",
            "+---------------+--------------+\n",
            "| CVE-2013-1954 |            1 |\n",
            "+---------------+--------------+\n",
            "| CVE-2016-5108 |            1 |\n",
            "+---------------+--------------+\n",
            "| CVE-2013-4388 |            1 |\n",
            "+---------------+--------------+\n",
            "| CVE-2009-2484 |            1 |\n",
            "+---------------+--------------+\n",
            "| CVE-2008-0984 |            1 |\n",
            "+---------------+--------------+\n",
            "| CVE-2014-9597 |            1 |\n",
            "+---------------+--------------+\n",
            "| CVE-2011-2588 |            1 |\n",
            "+---------------+--------------+\n",
            "| CVE-2010-2937 |            1 |\n",
            "+---------------+--------------+\n",
            "| CVE-2014-9743 |            1 |\n",
            "+---------------+--------------+\n",
            "| CVE-2008-2430 |            1 |\n",
            "+---------------+--------------+\n",
            "| CVE-2015-5949 |            1 |\n",
            "+---------------+--------------+\n",
            "| CVE-2017-8311 |            1 |\n",
            "+---------------+--------------+\n",
            "| CVE-2016-2380 |            1 |\n",
            "+---------------+--------------+\n",
            "| CVE-2010-1624 |            1 |\n",
            "+---------------+--------------+\n",
            "| CVE-2013-0273 |            1 |\n",
            "+---------------+--------------+\n",
            "| CVE-2013-6481 |            1 |\n",
            "+---------------+--------------+\n",
            "| CVE-2009-1376 |            1 |\n",
            "+---------------+--------------+\n",
            "| CVE-2011-2943 |            1 |\n",
            "+---------------+--------------+\n",
            "| CVE-2016-2375 |            1 |\n",
            "+---------------+--------------+\n",
            "| CVE-2014-3697 |            1 |\n",
            "+---------------+--------------+\n",
            "| CVE-2016-2376 |            1 |\n",
            "+---------------+--------------+\n",
            "| CVE-2011-3184 |            1 |\n",
            "+---------------+--------------+\n",
            "| CVE-2012-3374 |            1 |\n",
            "+---------------+--------------+\n",
            "| CVE-2011-4603 |            1 |\n",
            "+---------------+--------------+\n",
            "| CVE-2014-3698 |            1 |\n",
            "+---------------+--------------+\n",
            "| CVE-2009-2694 |            1 |\n",
            "+---------------+--------------+\n",
            "| CVE-2013-0272 |            1 |\n",
            "+---------------+--------------+\n",
            "| CVE-2016-2371 |            1 |\n",
            "+---------------+--------------+\n",
            "| CVE-2011-4939 |            1 |\n",
            "+---------------+--------------+\n",
            "| CVE-2013-6482 |            1 |\n",
            "+---------------+--------------+\n",
            "| CVE-2016-2374 |            1 |\n",
            "+---------------+--------------+\n",
            "| CVE-2013-6487 |            1 |\n",
            "+---------------+--------------+\n",
            "| CVE-2016-2377 |            1 |\n",
            "+---------------+--------------+\n",
            "| CVE-2013-6489 |            1 |\n",
            "+---------------+--------------+\n",
            "| CVE-2009-3083 |            1 |\n",
            "+---------------+--------------+\n",
            "| CVE-2010-2528 |            1 |\n",
            "+---------------+--------------+\n",
            "| CVE-2011-3594 |            1 |\n",
            "+---------------+--------------+\n",
            "| CVE-2009-3084 |            1 |\n",
            "+---------------+--------------+\n",
            "| CVE-2012-1178 |            1 |\n",
            "+---------------+--------------+\n",
            "| CVE-2008-2927 |            1 |\n",
            "+---------------+--------------+\n",
            "| CVE-2016-2366 |            1 |\n",
            "+---------------+--------------+\n"
          ]
        }
      ]
    },
    {
      "cell_type": "markdown",
      "source": [
        "## CVE Details for Multi label"
      ],
      "metadata": {
        "id": "jjplVO7X9ziY"
      }
    },
    {
      "cell_type": "markdown",
      "source": [
        "https://nvd.nist.gov/developers/vulnerabilities"
      ],
      "metadata": {
        "id": "_7-NIJWemNM-"
      }
    },
    {
      "cell_type": "code",
      "source": [
        "import requests\n",
        "\n",
        "def get_cve_details(cve_id):\n",
        "    # URL to obtain vulnerability details from the NVD in JSON format\n",
        "    url = f'https://services.nvd.nist.gov/rest/json/cves/2.0/?cveId={cve_id}'\n",
        "\n",
        "    response = requests.get(url)\n",
        "    if response.status_code == 200:\n",
        "        data = response.json()\n",
        "        return data\n",
        "    else:\n",
        "        print(f\"Error fetching data for {cve_id}: {response.status_code}\")\n",
        "        return None"
      ],
      "metadata": {
        "id": "mqJjlyXN-eem"
      },
      "execution_count": 61,
      "outputs": []
    },
    {
      "cell_type": "code",
      "source": [
        "#data = get_cve_details('CVE-2016-2366')\n",
        "#print(data)"
      ],
      "metadata": {
        "colab": {
          "base_uri": "https://localhost:8080/"
        },
        "id": "-GoPJaezqqNZ",
        "outputId": "172c6e35-5a42-479e-c63e-e80b2e8324bb"
      },
      "execution_count": 57,
      "outputs": [
        {
          "output_type": "stream",
          "name": "stdout",
          "text": [
            "{'resultsPerPage': 1, 'startIndex': 0, 'totalResults': 1, 'format': 'NVD_CVE', 'version': '2.0', 'timestamp': '2025-02-27T09:28:46.410', 'vulnerabilities': [{'cve': {'id': 'CVE-2016-2366', 'sourceIdentifier': 'cret@cert.org', 'published': '2017-01-06T21:59:00.570', 'lastModified': '2024-11-21T02:48:18.333', 'vulnStatus': 'Modified', 'cveTags': [], 'descriptions': [{'lang': 'en', 'value': 'A denial of service vulnerability exists in the handling of the MXIT protocol in Pidgin. Specially crafted MXIT data sent via the server could potentially result in an out-of-bounds read. A malicious server or an attacker who intercepts the network traffic can send invalid data to trigger this vulnerability and cause a crash.'}, {'lang': 'es', 'value': 'Existe una vulnerabilidad de denegación de servicio en el manejo del protocolo MXIT en Pidgin. Datos MXIT especialmente manipulados enviados a través del servidor podrían resultar potencialmente en una lectura fuera de límites. Un servidor malicioso o un atacante que intercepte el tráfico red puede enviar datos no válidos para desencadenar esta vulnerabilidad y provocar un bloqueo.'}], 'metrics': {'cvssMetricV30': [{'source': 'nvd@nist.gov', 'type': 'Primary', 'cvssData': {'version': '3.0', 'vectorString': 'CVSS:3.0/AV:N/AC:H/PR:N/UI:N/S:U/C:N/I:N/A:H', 'baseScore': 5.9, 'baseSeverity': 'MEDIUM', 'attackVector': 'NETWORK', 'attackComplexity': 'HIGH', 'privilegesRequired': 'NONE', 'userInteraction': 'NONE', 'scope': 'UNCHANGED', 'confidentialityImpact': 'NONE', 'integrityImpact': 'NONE', 'availabilityImpact': 'HIGH'}, 'exploitabilityScore': 2.2, 'impactScore': 3.6}], 'cvssMetricV2': [{'source': 'nvd@nist.gov', 'type': 'Primary', 'cvssData': {'version': '2.0', 'vectorString': 'AV:N/AC:M/Au:N/C:N/I:N/A:P', 'baseScore': 4.3, 'accessVector': 'NETWORK', 'accessComplexity': 'MEDIUM', 'authentication': 'NONE', 'confidentialityImpact': 'NONE', 'integrityImpact': 'NONE', 'availabilityImpact': 'PARTIAL'}, 'baseSeverity': 'MEDIUM', 'exploitabilityScore': 8.6, 'impactScore': 2.9, 'acInsufInfo': False, 'obtainAllPrivilege': False, 'obtainUserPrivilege': False, 'obtainOtherPrivilege': False, 'userInteractionRequired': False}]}, 'weaknesses': [{'source': 'nvd@nist.gov', 'type': 'Primary', 'description': [{'lang': 'en', 'value': 'CWE-125'}]}], 'configurations': [{'nodes': [{'operator': 'OR', 'negate': False, 'cpeMatch': [{'vulnerable': True, 'criteria': 'cpe:2.3:a:pidgin:pidgin:*:*:*:*:*:*:*:*', 'versionEndIncluding': '2.10.12', 'matchCriteriaId': '874D8FC9-41D0-49C7-9F8F-5C2DD33516AF'}]}]}, {'nodes': [{'operator': 'OR', 'negate': False, 'cpeMatch': [{'vulnerable': True, 'criteria': 'cpe:2.3:o:canonical:ubuntu_linux:12.04:*:*:*:lts:*:*:*', 'matchCriteriaId': 'B6B7CAD7-9D4E-4FDB-88E3-1E583210A01F'}, {'vulnerable': True, 'criteria': 'cpe:2.3:o:canonical:ubuntu_linux:14.04:*:*:*:lts:*:*:*', 'matchCriteriaId': 'B5A6F2F3-4894-4392-8296-3B8DD2679084'}, {'vulnerable': True, 'criteria': 'cpe:2.3:o:canonical:ubuntu_linux:15.10:*:*:*:*:*:*:*', 'matchCriteriaId': 'E88A537F-F4D0-46B9-9E37-965233C2A355'}]}]}, {'nodes': [{'operator': 'OR', 'negate': False, 'cpeMatch': [{'vulnerable': True, 'criteria': 'cpe:2.3:o:debian:debian_linux:8.0:*:*:*:*:*:*:*', 'matchCriteriaId': 'C11E6FB0-C8C0-4527-9AA0-CB9B316F8F43'}]}]}], 'references': [{'url': 'http://www.debian.org/security/2016/dsa-3620', 'source': 'cret@cert.org', 'tags': ['Third Party Advisory']}, {'url': 'http://www.pidgin.im/news/security/?id=99', 'source': 'cret@cert.org', 'tags': ['Patch', 'Vendor Advisory']}, {'url': 'http://www.securityfocus.com/bid/91335', 'source': 'cret@cert.org', 'tags': ['Third Party Advisory', 'VDB Entry']}, {'url': 'http://www.talosintelligence.com/reports/TALOS-2016-0134/', 'source': 'cret@cert.org', 'tags': ['Technical Description', 'Third Party Advisory']}, {'url': 'http://www.ubuntu.com/usn/USN-3031-1', 'source': 'cret@cert.org', 'tags': ['Third Party Advisory']}, {'url': 'https://security.gentoo.org/glsa/201701-38', 'source': 'cret@cert.org'}, {'url': 'http://www.debian.org/security/2016/dsa-3620', 'source': 'af854a3a-2127-422b-91ae-364da2661108', 'tags': ['Third Party Advisory']}, {'url': 'http://www.pidgin.im/news/security/?id=99', 'source': 'af854a3a-2127-422b-91ae-364da2661108', 'tags': ['Patch', 'Vendor Advisory']}, {'url': 'http://www.securityfocus.com/bid/91335', 'source': 'af854a3a-2127-422b-91ae-364da2661108', 'tags': ['Third Party Advisory', 'VDB Entry']}, {'url': 'http://www.talosintelligence.com/reports/TALOS-2016-0134/', 'source': 'af854a3a-2127-422b-91ae-364da2661108', 'tags': ['Technical Description', 'Third Party Advisory']}, {'url': 'http://www.ubuntu.com/usn/USN-3031-1', 'source': 'af854a3a-2127-422b-91ae-364da2661108', 'tags': ['Third Party Advisory']}, {'url': 'https://security.gentoo.org/glsa/201701-38', 'source': 'af854a3a-2127-422b-91ae-364da2661108'}]}}]}\n"
          ]
        }
      ]
    },
    {
      "cell_type": "markdown",
      "source": [
        "Classification by CVSS\n",
        "\n",
        "* **Low**: CVSS score from 0.0 to 3.9\n",
        "* **Medium**: CVSS score from 4.0 to 6.9\n",
        "* **High**: CVSS score from 7.0 to 8.9\n",
        "* **Critical**: CVSS score from 9.0 to 10.0\n",
        "\n"
      ],
      "metadata": {
        "id": "YfHXdp1496AM"
      }
    },
    {
      "cell_type": "code",
      "source": [
        "def get_cve_cvss(cve_id):\n",
        "    data_cve = get_cve_details(cve_id)\n",
        "    if data_cve is None:\n",
        "        return None\n",
        "    try:\n",
        "      cvss_score = data_cve[\"vulnerabilities\"][0][\"cve\"][\"metrics\"][\"cvssMetricV2\"][0][\"cvssData\"][\"baseScore\"]\n",
        "      #cvss_severity = data[\"vulnerabilities\"][0][\"cve\"][\"metrics\"][\"cvssMetricV2\"][0][\"baseSeverity\"]\n",
        "      return cvss_score\n",
        "    except KeyError:\n",
        "      print(f\"CVSS score not found for {cve_id}\")\n",
        "      return None\n",
        "\n",
        "cvss = []\n",
        "for cve in cve_files:\n",
        "    cvss = get_cve_cvss(cve)\n",
        "    if cvss is not None:\n",
        "        print(f\"{cve}: CVSS Score = {cvss}\")\n"
      ],
      "metadata": {
        "colab": {
          "base_uri": "https://localhost:8080/"
        },
        "id": "vKor-gvU9bSY",
        "outputId": "9984d7f4-bbc0-4329-c13c-e4e9ceb31f3e"
      },
      "execution_count": 58,
      "outputs": [
        {
          "output_type": "stream",
          "name": "stdout",
          "text": [
            "CVE-2015-0973: CVSS Score = 7.5\n",
            "CVE-2004-0599: CVSS Score = 5.0\n",
            "CVE-2014-9495: CVSS Score = 10.0\n",
            "Error fetching data for CVE-2011-3464: 403\n",
            "Error fetching data for CVE-2011-0408: 403\n",
            "Error fetching data for CVE-2004-0597: 403\n",
            "Error fetching data for CVE-2004-0597: 403\n",
            "Error fetching data for CVE-2007-2445: 403\n",
            "Error fetching data for CVE-2006-0481: 403\n",
            "Error fetching data for CVE-2012-3425: 403\n",
            "Error fetching data for CVE-2008-5907: 403\n",
            "Error fetching data for CVE-2018-1378: 403\n",
            "Error fetching data for CVE-2004-0599: 403\n",
            "Error fetching data for CVE-2011-3328: 403\n",
            "Error fetching data for CVE-2007-5269: 403\n",
            "Error fetching data for CVE-2004-0597: 403\n",
            "Error fetching data for CVE-2015-8126: 403\n",
            "Error fetching data for CVE-2011-2501: 403\n",
            "Error fetching data for CVE-2006-3334: 403\n",
            "Error fetching data for CVE-2007-5629: 403\n",
            "Error fetching data for CVE-2008-6218: 403\n",
            "Error fetching data for CVE-2011-0408: 403\n",
            "Error fetching data for CVE-2013-7354: 403\n",
            "Error fetching data for CVE-2015-8126: 403\n",
            "Error fetching data for CVE-2015-8472: 403\n",
            "Error fetching data for CVE-2016-1008: 403\n",
            "Error fetching data for CVE-2009-5063: 403\n",
            "Error fetching data for CVE-2013-6954: 403\n",
            "Error fetching data for CVE-2014-0333: 403\n",
            "Error fetching data for CVE-2004-0598: 403\n",
            "Error fetching data for CVE-2007-5267: 403\n",
            "Error fetching data for CVE-2015-7981: 403\n",
            "Error fetching data for CVE-2013-7354: 403\n",
            "Error fetching data for CVE-2018-1404: 403\n",
            "Error fetching data for CVE-2015-8540: 403\n",
            "Error fetching data for CVE-2013-7353: 403\n",
            "Error fetching data for CVE-2010-0205: 403\n",
            "Error fetching data for CVE-2006-5793: 403\n",
            "Error fetching data for CVE-2011-3048: 403\n",
            "Error fetching data for CVE-2011-2692: 403\n",
            "Error fetching data for CVE-2009-0040: 403\n",
            "Error fetching data for CVE-2007-5269: 403\n",
            "Error fetching data for CVE-2006-7244: 403\n",
            "Error fetching data for CVE-2007-5266: 403\n",
            "Error fetching data for CVE-2011-3045: 403\n",
            "Error fetching data for CVE-2011-3623: 403\n",
            "Error fetching data for CVE-2008-5276: 403\n",
            "Error fetching data for CVE-2008-1489: 403\n",
            "Error fetching data for CVE-2016-3941: 403\n",
            "Error fetching data for CVE-2011-0522: 403\n",
            "Error fetching data for CVE-2010-2062: 403\n",
            "Error fetching data for CVE-2007-6682: 403\n",
            "Error fetching data for CVE-2008-5036: 403\n",
            "Error fetching data for CVE-2011-1684: 403\n",
            "Error fetching data for CVE-2011-0522: 403\n",
            "Error fetching data for CVE-2017-8313: 403\n",
            "Error fetching data for CVE-2010-3907: 403\n",
            "Error fetching data for CVE-2017-8310: 403\n",
            "Error fetching data for CVE-2008-1881: 403\n",
            "Error fetching data for CVE-2011-2587: 403\n",
            "Error fetching data for CVE-2018-1985: 403\n",
            "Error fetching data for CVE-2007-0017: 403\n",
            "Error fetching data for CVE-2011-3623: 403\n",
            "Error fetching data for CVE-2014-9598: 403\n",
            "Error fetching data for CVE-2014-1684: 403\n",
            "Error fetching data for CVE-2010-1443: 403\n",
            "Error fetching data for CVE-2010-1444: 403\n",
            "Error fetching data for CVE-2008-4654: 403\n",
            "Error fetching data for CVE-2008-3732: 403\n",
            "Error fetching data for CVE-2018-1151: 403\n",
            "Error fetching data for CVE-2010-3124: 403\n",
            "Error fetching data for CVE-2012-0023: 403\n",
            "Error fetching data for CVE-2008-3794: 403\n",
            "Error fetching data for CVE-2013-1954: 403\n",
            "Error fetching data for CVE-2016-5108: 403\n",
            "Error fetching data for CVE-2013-4388: 403\n",
            "Error fetching data for CVE-2009-2484: 403\n",
            "Error fetching data for CVE-2008-0984: 403\n",
            "Error fetching data for CVE-2014-9597: 403\n",
            "Error fetching data for CVE-2011-3623: 403\n",
            "Error fetching data for CVE-2011-2588: 403\n",
            "Error fetching data for CVE-2010-2937: 403\n",
            "Error fetching data for CVE-2014-9743: 403\n",
            "Error fetching data for CVE-2007-0017: 403\n",
            "Error fetching data for CVE-2010-3907: 403\n",
            "Error fetching data for CVE-2008-2430: 403\n",
            "Error fetching data for CVE-2015-5949: 403\n",
            "Error fetching data for CVE-2007-0017: 403\n",
            "Error fetching data for CVE-2017-8311: 403\n",
            "Error fetching data for CVE-2016-2380: 403\n",
            "Error fetching data for CVE-2010-1624: 403\n",
            "Error fetching data for CVE-2013-0273: 403\n",
            "Error fetching data for CVE-2013-6481: 403\n",
            "Error fetching data for CVE-2009-1376: 403\n",
            "Error fetching data for CVE-2011-2943: 403\n",
            "Error fetching data for CVE-2016-2375: 403\n",
            "Error fetching data for CVE-2014-3697: 403\n",
            "Error fetching data for CVE-2016-2376: 403\n",
            "Error fetching data for CVE-2011-3184: 403\n",
            "Error fetching data for CVE-2012-3374: 403\n",
            "Error fetching data for CVE-2011-4603: 403\n",
            "Error fetching data for CVE-2014-3698: 403\n",
            "Error fetching data for CVE-2009-2694: 403\n",
            "Error fetching data for CVE-2013-0272: 403\n",
            "Error fetching data for CVE-2016-2371: 403\n",
            "Error fetching data for CVE-2011-4939: 403\n",
            "Error fetching data for CVE-2013-6482: 403\n",
            "Error fetching data for CVE-2016-2374: 403\n",
            "Error fetching data for CVE-2013-6487: 403\n",
            "Error fetching data for CVE-2016-2377: 403\n",
            "Error fetching data for CVE-2013-6489: 403\n",
            "Error fetching data for CVE-2009-3083: 403\n",
            "Error fetching data for CVE-2010-2528: 403\n",
            "Error fetching data for CVE-2011-3594: 403\n",
            "Error fetching data for CVE-2009-3084: 403\n",
            "Error fetching data for CVE-2012-1178: 403\n",
            "Error fetching data for CVE-2008-2927: 403\n",
            "Error fetching data for CVE-2016-2366: 403\n"
          ]
        }
      ]
    },
    {
      "cell_type": "markdown",
      "source": [
        "Classification by CWE"
      ],
      "metadata": {
        "id": "loCBEwyo-XfE"
      }
    },
    {
      "cell_type": "code",
      "source": [
        "def get_cve_cwe(cve_id):\n",
        "  data_cve = get_cve_details(cve_id)\n",
        "  if data_cve is None:\n",
        "    return None\n",
        "  try:\n",
        "    cwe_value = data_cve[\"vulnerabilities\"][0][\"cve\"][\"weaknesses\"][0][\"description\"][0][\"value\"]\n",
        "    return cwe_value\n",
        "  except KeyError:\n",
        "    print(f\"CWE not found for {cve_id}\")\n",
        "    return None\n",
        "\n",
        "cwe = []\n",
        "\n",
        "for cve in cve_files:\n",
        "    cwe = get_cve_cwe(cve)\n",
        "    if cwe is not None:\n",
        "        print(f\"{cve}: CWE = {cwe}\")\n"
      ],
      "metadata": {
        "colab": {
          "base_uri": "https://localhost:8080/"
        },
        "id": "ApozfiWg9skU",
        "outputId": "fcdcf3e8-11f7-468c-9f66-73d57de2f904"
      },
      "execution_count": 59,
      "outputs": [
        {
          "output_type": "stream",
          "name": "stdout",
          "text": [
            "Error fetching data for CVE-2015-0973: 403\n",
            "Error fetching data for CVE-2004-0599: 403\n",
            "Error fetching data for CVE-2014-9495: 403\n",
            "Error fetching data for CVE-2011-3464: 403\n",
            "Error fetching data for CVE-2011-0408: 403\n",
            "Error fetching data for CVE-2004-0597: 403\n",
            "Error fetching data for CVE-2004-0597: 403\n",
            "Error fetching data for CVE-2007-2445: 403\n",
            "Error fetching data for CVE-2006-0481: 403\n",
            "Error fetching data for CVE-2012-3425: 403\n",
            "Error fetching data for CVE-2008-5907: 403\n",
            "Error fetching data for CVE-2018-1378: 403\n",
            "Error fetching data for CVE-2004-0599: 403\n",
            "Error fetching data for CVE-2011-3328: 403\n",
            "Error fetching data for CVE-2007-5269: 403\n",
            "Error fetching data for CVE-2004-0597: 403\n",
            "Error fetching data for CVE-2015-8126: 403\n",
            "Error fetching data for CVE-2011-2501: 403\n",
            "Error fetching data for CVE-2006-3334: 403\n",
            "Error fetching data for CVE-2007-5629: 403\n",
            "Error fetching data for CVE-2008-6218: 403\n",
            "Error fetching data for CVE-2011-0408: 403\n",
            "Error fetching data for CVE-2013-7354: 403\n",
            "Error fetching data for CVE-2015-8126: 403\n",
            "Error fetching data for CVE-2015-8472: 403\n",
            "Error fetching data for CVE-2016-1008: 403\n",
            "Error fetching data for CVE-2009-5063: 403\n",
            "Error fetching data for CVE-2013-6954: 403\n",
            "Error fetching data for CVE-2014-0333: 403\n",
            "Error fetching data for CVE-2004-0598: 403\n",
            "Error fetching data for CVE-2007-5267: 403\n",
            "Error fetching data for CVE-2015-7981: 403\n",
            "Error fetching data for CVE-2013-7354: 403\n",
            "Error fetching data for CVE-2018-1404: 403\n",
            "Error fetching data for CVE-2015-8540: 403\n",
            "Error fetching data for CVE-2013-7353: 403\n",
            "Error fetching data for CVE-2010-0205: 403\n",
            "Error fetching data for CVE-2006-5793: 403\n",
            "Error fetching data for CVE-2011-3048: 403\n",
            "Error fetching data for CVE-2011-2692: 403\n",
            "Error fetching data for CVE-2009-0040: 403\n",
            "Error fetching data for CVE-2007-5269: 403\n",
            "Error fetching data for CVE-2006-7244: 403\n",
            "Error fetching data for CVE-2007-5266: 403\n",
            "Error fetching data for CVE-2011-3045: 403\n",
            "Error fetching data for CVE-2011-3623: 403\n",
            "Error fetching data for CVE-2008-5276: 403\n",
            "Error fetching data for CVE-2008-1489: 403\n",
            "Error fetching data for CVE-2016-3941: 403\n",
            "Error fetching data for CVE-2011-0522: 403\n",
            "Error fetching data for CVE-2010-2062: 403\n",
            "Error fetching data for CVE-2007-6682: 403\n",
            "Error fetching data for CVE-2008-5036: 403\n",
            "Error fetching data for CVE-2011-1684: 403\n",
            "Error fetching data for CVE-2011-0522: 403\n",
            "Error fetching data for CVE-2017-8313: 403\n",
            "Error fetching data for CVE-2010-3907: 403\n",
            "Error fetching data for CVE-2017-8310: 403\n",
            "Error fetching data for CVE-2008-1881: 403\n",
            "Error fetching data for CVE-2011-2587: 403\n",
            "Error fetching data for CVE-2018-1985: 403\n",
            "Error fetching data for CVE-2007-0017: 403\n",
            "Error fetching data for CVE-2011-3623: 403\n",
            "Error fetching data for CVE-2014-9598: 403\n",
            "Error fetching data for CVE-2014-1684: 403\n",
            "Error fetching data for CVE-2010-1443: 403\n",
            "Error fetching data for CVE-2010-1444: 403\n",
            "Error fetching data for CVE-2008-4654: 403\n",
            "Error fetching data for CVE-2008-3732: 403\n",
            "Error fetching data for CVE-2018-1151: 403\n",
            "Error fetching data for CVE-2010-3124: 403\n",
            "Error fetching data for CVE-2012-0023: 403\n",
            "Error fetching data for CVE-2008-3794: 403\n",
            "Error fetching data for CVE-2013-1954: 403\n",
            "Error fetching data for CVE-2016-5108: 403\n",
            "Error fetching data for CVE-2013-4388: 403\n",
            "Error fetching data for CVE-2009-2484: 403\n",
            "Error fetching data for CVE-2008-0984: 403\n",
            "Error fetching data for CVE-2014-9597: 403\n",
            "Error fetching data for CVE-2011-3623: 403\n",
            "Error fetching data for CVE-2011-2588: 403\n",
            "Error fetching data for CVE-2010-2937: 403\n",
            "Error fetching data for CVE-2014-9743: 403\n",
            "Error fetching data for CVE-2007-0017: 403\n",
            "Error fetching data for CVE-2010-3907: 403\n",
            "Error fetching data for CVE-2008-2430: 403\n",
            "Error fetching data for CVE-2015-5949: 403\n",
            "Error fetching data for CVE-2007-0017: 403\n",
            "Error fetching data for CVE-2017-8311: 403\n",
            "Error fetching data for CVE-2016-2380: 403\n",
            "Error fetching data for CVE-2010-1624: 403\n",
            "Error fetching data for CVE-2013-0273: 403\n",
            "Error fetching data for CVE-2013-6481: 403\n",
            "Error fetching data for CVE-2009-1376: 403\n",
            "Error fetching data for CVE-2011-2943: 403\n",
            "Error fetching data for CVE-2016-2375: 403\n",
            "Error fetching data for CVE-2014-3697: 403\n",
            "Error fetching data for CVE-2016-2376: 403\n",
            "Error fetching data for CVE-2011-3184: 403\n",
            "Error fetching data for CVE-2012-3374: 403\n",
            "Error fetching data for CVE-2011-4603: 403\n",
            "Error fetching data for CVE-2014-3698: 403\n",
            "Error fetching data for CVE-2009-2694: 403\n",
            "Error fetching data for CVE-2013-0272: 403\n",
            "Error fetching data for CVE-2016-2371: 403\n",
            "Error fetching data for CVE-2011-4939: 403\n",
            "Error fetching data for CVE-2013-6482: 403\n",
            "Error fetching data for CVE-2016-2374: 403\n",
            "Error fetching data for CVE-2013-6487: 403\n",
            "Error fetching data for CVE-2016-2377: 403\n",
            "Error fetching data for CVE-2013-6489: 403\n",
            "Error fetching data for CVE-2009-3083: 403\n",
            "Error fetching data for CVE-2010-2528: 403\n",
            "Error fetching data for CVE-2011-3594: 403\n",
            "Error fetching data for CVE-2009-3084: 403\n",
            "Error fetching data for CVE-2012-1178: 403\n",
            "Error fetching data for CVE-2008-2927: 403\n",
            "Error fetching data for CVE-2016-2366: 403\n"
          ]
        }
      ]
    },
    {
      "cell_type": "code",
      "source": [],
      "metadata": {
        "id": "L8NR05Se0xaK"
      },
      "execution_count": null,
      "outputs": []
    },
    {
      "cell_type": "markdown",
      "source": [
        "# **BLSTM**"
      ],
      "metadata": {
        "id": "5HVkeHkAiXiO"
      }
    },
    {
      "cell_type": "code",
      "source": [
        "from sklearn.model_selection import train_test_split\n",
        "from tensorflow.keras.preprocessing.text import Tokenizer\n",
        "from tensorflow.keras.preprocessing.sequence import pad_sequences\n",
        "from tensorflow.keras.models import Sequential\n",
        "from tensorflow.keras.layers import Embedding, Bidirectional, LSTM, Dense, Dropout"
      ],
      "metadata": {
        "id": "I_vpja7HQvXW"
      },
      "execution_count": 60,
      "outputs": []
    },
    {
      "cell_type": "markdown",
      "source": [
        "## Model"
      ],
      "metadata": {
        "id": "Rd3Wru_HQ32Q"
      }
    },
    {
      "cell_type": "code",
      "source": [
        "# Tokenize the data\n",
        "tokenizer = Tokenizer()\n",
        "tokenizer.fit_on_texts(texts)\n",
        "sequences = tokenizer.texts_to_sequences(texts)\n",
        "word_index = tokenizer.word_index"
      ],
      "metadata": {
        "id": "oXXKaGGbQ1ZN"
      },
      "execution_count": 12,
      "outputs": []
    },
    {
      "cell_type": "markdown",
      "source": [
        "Without K-Fold"
      ],
      "metadata": {
        "id": "EANu8q5nyH5G"
      }
    },
    {
      "cell_type": "code",
      "source": [
        "# Pad sequences\n",
        "max_length = 500  # Adjust based on dataset\n",
        "data = pad_sequences(sequences, maxlen=max_length, padding='post')\n",
        "labels = np.array(labels)\n",
        "\n",
        "# Split dataset into train, validation, and test sets\n",
        "X_train, X_test, y_train, y_test = train_test_split(data, labels, test_size=0.2, random_state=42)\n",
        "X_train, X_val, y_train, y_val = train_test_split(X_train, y_train, test_size=0.25, random_state=42)\n",
        "\n",
        "# Define BLSTM model\n",
        "embedding_dim = 128\n",
        "model = Sequential([\n",
        "    Embedding(input_dim=len(word_index) + 1, output_dim=embedding_dim, input_length=max_length),\n",
        "    Bidirectional(LSTM(32, return_sequences=True, dropout=0.3, recurrent_dropout=0.1)),\n",
        "    Bidirectional(LSTM(16, return_sequences=False, dropout=0.3, recurrent_dropout=0.1)),\n",
        "    #Dense(64, activation='relu'),\n",
        "    #Dropout(0.3),\n",
        "    #Dense(1, activation='sigmoid')\n",
        "])\n",
        "\n",
        "model.compile(optimizer='adam', loss='binary_crossentropy', metrics=['accuracy'])\n",
        "\n",
        "# Train model on training data\n",
        "model.fit(X_train, y_train, epochs=10, batch_size=32, validation_split=0.2)\n",
        "\n",
        "# Evaluate model on test data\n",
        "loss, accuracy = model.evaluate(X_test, y_test)\n",
        "print(f\"Test Loss: {loss}\")\n",
        "print(f\"Test Accuracy: {accuracy}\")\n",
        "\n",
        "# Predict on test data\n",
        "predictions = model.predict(X_test)\n",
        "y_pred = (predictions > 0.5).astype(int)\n"
      ],
      "metadata": {
        "colab": {
          "base_uri": "https://localhost:8080/",
          "height": 216
        },
        "id": "ScxPHUSJiZco",
        "outputId": "9097a9cf-2f77-4182-8777-294b0da84a9c"
      },
      "execution_count": 40,
      "outputs": [
        {
          "output_type": "error",
          "ename": "NameError",
          "evalue": "name 'pad_sequences' is not defined",
          "traceback": [
            "\u001b[0;31m---------------------------------------------------------------------------\u001b[0m",
            "\u001b[0;31mNameError\u001b[0m                                 Traceback (most recent call last)",
            "\u001b[0;32m<ipython-input-40-a9fe78344d4b>\u001b[0m in \u001b[0;36m<cell line: 0>\u001b[0;34m()\u001b[0m\n\u001b[1;32m      1\u001b[0m \u001b[0;31m# Pad sequences\u001b[0m\u001b[0;34m\u001b[0m\u001b[0;34m\u001b[0m\u001b[0m\n\u001b[1;32m      2\u001b[0m \u001b[0mmax_length\u001b[0m \u001b[0;34m=\u001b[0m \u001b[0;36m500\u001b[0m  \u001b[0;31m# Adjust based on dataset\u001b[0m\u001b[0;34m\u001b[0m\u001b[0;34m\u001b[0m\u001b[0m\n\u001b[0;32m----> 3\u001b[0;31m \u001b[0mdata\u001b[0m \u001b[0;34m=\u001b[0m \u001b[0mpad_sequences\u001b[0m\u001b[0;34m(\u001b[0m\u001b[0msequences\u001b[0m\u001b[0;34m,\u001b[0m \u001b[0mmaxlen\u001b[0m\u001b[0;34m=\u001b[0m\u001b[0mmax_length\u001b[0m\u001b[0;34m,\u001b[0m \u001b[0mpadding\u001b[0m\u001b[0;34m=\u001b[0m\u001b[0;34m'post'\u001b[0m\u001b[0;34m)\u001b[0m\u001b[0;34m\u001b[0m\u001b[0;34m\u001b[0m\u001b[0m\n\u001b[0m\u001b[1;32m      4\u001b[0m \u001b[0mlabels\u001b[0m \u001b[0;34m=\u001b[0m \u001b[0mnp\u001b[0m\u001b[0;34m.\u001b[0m\u001b[0marray\u001b[0m\u001b[0;34m(\u001b[0m\u001b[0mlabels\u001b[0m\u001b[0;34m)\u001b[0m\u001b[0;34m\u001b[0m\u001b[0;34m\u001b[0m\u001b[0m\n\u001b[1;32m      5\u001b[0m \u001b[0;34m\u001b[0m\u001b[0m\n",
            "\u001b[0;31mNameError\u001b[0m: name 'pad_sequences' is not defined"
          ]
        }
      ]
    },
    {
      "cell_type": "markdown",
      "source": [
        "With K-Fold"
      ],
      "metadata": {
        "id": "cyrSzBrbyQpu"
      }
    },
    {
      "cell_type": "code",
      "source": [
        "from sklearn.model_selection import KFold\n",
        "\n",
        "# Pad sequences\n",
        "max_length = 500  # Adjust based on dataset\n",
        "data = pad_sequences(sequences, maxlen=max_length, padding='post')\n",
        "labels = np.array(labels)\n",
        "\n",
        "# Define K-Fold Cross-Validation\n",
        "k_folds = 5\n",
        "kf = KFold(n_splits=k_folds, shuffle=True, random_state=42)\n",
        "\n",
        "embedding_dim = 128\n",
        "batch_size = 32\n",
        "epochs = 5\n",
        "\n",
        "accuracies = []\n",
        "\n",
        "for fold, (train_index, test_index) in enumerate(kf.split(data)):\n",
        "    print(f\"Training on Fold {fold+1}/{k_folds}...\")\n",
        "\n",
        "    X_train, X_test = data[train_index], data[test_index]\n",
        "    y_train, y_test = labels[train_index], labels[test_index]\n",
        "\n",
        "    # Creazione del modello\n",
        "    model = Sequential([\n",
        "        Embedding(input_dim=len(word_index) + 1, output_dim=embedding_dim, input_length=max_length),\n",
        "        #Bidirectional(LSTM(32, return_sequences=True, dropout=0.3, recurrent_dropout=0.1)),\n",
        "        Bidirectional(LSTM(16, return_sequences=False, dropout=0.3, recurrent_dropout=0.1)),\n",
        "        Dense(64, activation='relu'),\n",
        "        Dropout(0.3),\n",
        "        Dense(1, activation='sigmoid')\n",
        "    ])\n",
        "\n",
        "    model.compile(optimizer='adam', loss='binary_crossentropy', metrics=['accuracy'])\n",
        "\n",
        "    model.fit(X_train, y_train, epochs=epochs, batch_size=batch_size, validation_split=0.2)\n",
        "\n",
        "    loss, accuracy = model.evaluate(X_test, y_test)\n",
        "    accuracies.append(accuracy)\n",
        "    print(f\"Fold {fold+1} - Test Loss: {loss}, Test Accuracy: {accuracy}\")\n",
        "\n",
        "print(f\"Average Accuracy: {np.mean(accuracies)}\")\n",
        "\n"
      ],
      "metadata": {
        "colab": {
          "base_uri": "https://localhost:8080/",
          "height": 1000
        },
        "id": "qQVQ3o_8KBNJ",
        "outputId": "69e9c010-9e57-4971-8e10-66c9f1f4c0ec"
      },
      "execution_count": 14,
      "outputs": [
        {
          "output_type": "stream",
          "name": "stdout",
          "text": [
            "Training on Fold 1/10...\n",
            "Epoch 1/10\n",
            "\u001b[1m16/16\u001b[0m \u001b[32m━━━━━━━━━━━━━━━━━━━━\u001b[0m\u001b[37m\u001b[0m \u001b[1m58s\u001b[0m 3s/step - accuracy: 0.8475 - loss: 0.6036 - val_accuracy: 0.8047 - val_loss: 0.4570\n",
            "Epoch 2/10\n",
            "\u001b[1m16/16\u001b[0m \u001b[32m━━━━━━━━━━━━━━━━━━━━\u001b[0m\u001b[37m\u001b[0m \u001b[1m50s\u001b[0m 3s/step - accuracy: 0.8523 - loss: 0.3966 - val_accuracy: 0.8047 - val_loss: 0.4737\n",
            "Epoch 3/10\n",
            "\u001b[1m16/16\u001b[0m \u001b[32m━━━━━━━━━━━━━━━━━━━━\u001b[0m\u001b[37m\u001b[0m \u001b[1m81s\u001b[0m 3s/step - accuracy: 0.8446 - loss: 0.3936 - val_accuracy: 0.8203 - val_loss: 0.4423\n",
            "Epoch 4/10\n",
            "\u001b[1m16/16\u001b[0m \u001b[32m━━━━━━━━━━━━━━━━━━━━\u001b[0m\u001b[37m\u001b[0m \u001b[1m83s\u001b[0m 3s/step - accuracy: 0.8622 - loss: 0.4057 - val_accuracy: 0.8203 - val_loss: 0.4457\n",
            "Epoch 5/10\n",
            "\u001b[1m16/16\u001b[0m \u001b[32m━━━━━━━━━━━━━━━━━━━━\u001b[0m\u001b[37m\u001b[0m \u001b[1m80s\u001b[0m 3s/step - accuracy: 0.8722 - loss: 0.3878 - val_accuracy: 0.8281 - val_loss: 0.4392\n",
            "Epoch 6/10\n",
            "\u001b[1m16/16\u001b[0m \u001b[32m━━━━━━━━━━━━━━━━━━━━\u001b[0m\u001b[37m\u001b[0m \u001b[1m84s\u001b[0m 3s/step - accuracy: 0.8807 - loss: 0.3643 - val_accuracy: 0.8438 - val_loss: 0.4278\n",
            "Epoch 7/10\n",
            "\u001b[1m16/16\u001b[0m \u001b[32m━━━━━━━━━━━━━━━━━━━━\u001b[0m\u001b[37m\u001b[0m \u001b[1m80s\u001b[0m 3s/step - accuracy: 0.8600 - loss: 0.3927 - val_accuracy: 0.8359 - val_loss: 0.4235\n",
            "Epoch 8/10\n",
            "\u001b[1m16/16\u001b[0m \u001b[32m━━━━━━━━━━━━━━━━━━━━\u001b[0m\u001b[37m\u001b[0m \u001b[1m82s\u001b[0m 3s/step - accuracy: 0.8884 - loss: 0.3519 - val_accuracy: 0.8359 - val_loss: 0.3878\n",
            "Epoch 9/10\n",
            "\u001b[1m16/16\u001b[0m \u001b[32m━━━━━━━━━━━━━━━━━━━━\u001b[0m\u001b[37m\u001b[0m \u001b[1m81s\u001b[0m 3s/step - accuracy: 0.8816 - loss: 0.3298 - val_accuracy: 0.8438 - val_loss: 0.3413\n",
            "Epoch 10/10\n",
            "\u001b[1m16/16\u001b[0m \u001b[32m━━━━━━━━━━━━━━━━━━━━\u001b[0m\u001b[37m\u001b[0m \u001b[1m84s\u001b[0m 3s/step - accuracy: 0.8596 - loss: 0.3284 - val_accuracy: 0.8359 - val_loss: 0.3740\n",
            "\u001b[1m3/3\u001b[0m \u001b[32m━━━━━━━━━━━━━━━━━━━━\u001b[0m\u001b[37m\u001b[0m \u001b[1m2s\u001b[0m 504ms/step - accuracy: 0.8702 - loss: 0.3375\n",
            "Fold 1 - Test Loss: 0.3137832581996918, Test Accuracy: 0.8732394576072693\n",
            "Training on Fold 2/10...\n",
            "Epoch 1/10\n",
            "\u001b[1m16/16\u001b[0m \u001b[32m━━━━━━━━━━━━━━━━━━━━\u001b[0m\u001b[37m\u001b[0m \u001b[1m55s\u001b[0m 3s/step - accuracy: 0.8051 - loss: 0.6186 - val_accuracy: 0.7969 - val_loss: 0.4459\n",
            "Epoch 2/10\n",
            "\u001b[1m16/16\u001b[0m \u001b[32m━━━━━━━━━━━━━━━━━━━━\u001b[0m\u001b[37m\u001b[0m \u001b[1m48s\u001b[0m 3s/step - accuracy: 0.8182 - loss: 0.4394 - val_accuracy: 0.7969 - val_loss: 0.4453\n",
            "Epoch 3/10\n",
            "\u001b[1m16/16\u001b[0m \u001b[32m━━━━━━━━━━━━━━━━━━━━\u001b[0m\u001b[37m\u001b[0m \u001b[1m81s\u001b[0m 3s/step - accuracy: 0.8121 - loss: 0.4463 - val_accuracy: 0.8516 - val_loss: 0.4240\n",
            "Epoch 4/10\n",
            "\u001b[1m16/16\u001b[0m \u001b[32m━━━━━━━━━━━━━━━━━━━━\u001b[0m\u001b[37m\u001b[0m \u001b[1m48s\u001b[0m 3s/step - accuracy: 0.8468 - loss: 0.4037 - val_accuracy: 0.8672 - val_loss: 0.4173\n",
            "Epoch 5/10\n",
            "\u001b[1m16/16\u001b[0m \u001b[32m━━━━━━━━━━━━━━━━━━━━\u001b[0m\u001b[37m\u001b[0m \u001b[1m84s\u001b[0m 3s/step - accuracy: 0.8510 - loss: 0.3890 - val_accuracy: 0.8672 - val_loss: 0.4104\n",
            "Epoch 6/10\n",
            "\u001b[1m16/16\u001b[0m \u001b[32m━━━━━━━━━━━━━━━━━━━━\u001b[0m\u001b[37m\u001b[0m \u001b[1m81s\u001b[0m 3s/step - accuracy: 0.8373 - loss: 0.4222 - val_accuracy: 0.8672 - val_loss: 0.3957\n",
            "Epoch 7/10\n",
            "\u001b[1m16/16\u001b[0m \u001b[32m━━━━━━━━━━━━━━━━━━━━\u001b[0m\u001b[37m\u001b[0m \u001b[1m83s\u001b[0m 3s/step - accuracy: 0.8694 - loss: 0.3370 - val_accuracy: 0.8672 - val_loss: 0.3399\n",
            "Epoch 8/10\n",
            "\u001b[1m16/16\u001b[0m \u001b[32m━━━━━━━━━━━━━━━━━━━━\u001b[0m\u001b[37m\u001b[0m \u001b[1m81s\u001b[0m 3s/step - accuracy: 0.9014 - loss: 0.2893 - val_accuracy: 0.8672 - val_loss: 0.2862\n",
            "Epoch 9/10\n",
            "\u001b[1m16/16\u001b[0m \u001b[32m━━━━━━━━━━━━━━━━━━━━\u001b[0m\u001b[37m\u001b[0m \u001b[1m84s\u001b[0m 3s/step - accuracy: 0.8633 - loss: 0.3343 - val_accuracy: 0.8516 - val_loss: 0.3489\n",
            "Epoch 10/10\n",
            "\u001b[1m16/16\u001b[0m \u001b[32m━━━━━━━━━━━━━━━━━━━━\u001b[0m\u001b[37m\u001b[0m \u001b[1m80s\u001b[0m 3s/step - accuracy: 0.8901 - loss: 0.2866 - val_accuracy: 0.8516 - val_loss: 0.2954\n",
            "\u001b[1m3/3\u001b[0m \u001b[32m━━━━━━━━━━━━━━━━━━━━\u001b[0m\u001b[37m\u001b[0m \u001b[1m2s\u001b[0m 502ms/step - accuracy: 0.8678 - loss: 0.3594\n",
            "Fold 2 - Test Loss: 0.39685940742492676, Test Accuracy: 0.8450704216957092\n",
            "Training on Fold 3/10...\n",
            "Epoch 1/10\n",
            "\u001b[1m16/16\u001b[0m \u001b[32m━━━━━━━━━━━━━━━━━━━━\u001b[0m\u001b[37m\u001b[0m \u001b[1m57s\u001b[0m 3s/step - accuracy: 0.7529 - loss: 0.6062 - val_accuracy: 0.7969 - val_loss: 0.4424\n",
            "Epoch 2/10\n",
            "\u001b[1m16/16\u001b[0m \u001b[32m━━━━━━━━━━━━━━━━━━━━\u001b[0m\u001b[37m\u001b[0m \u001b[1m82s\u001b[0m 3s/step - accuracy: 0.8259 - loss: 0.4305 - val_accuracy: 0.7969 - val_loss: 0.4389\n",
            "Epoch 3/10\n",
            "\u001b[1m16/16\u001b[0m \u001b[32m━━━━━━━━━━━━━━━━━━━━\u001b[0m\u001b[37m\u001b[0m \u001b[1m81s\u001b[0m 3s/step - accuracy: 0.8484 - loss: 0.3922 - val_accuracy: 0.8594 - val_loss: 0.4251\n",
            "Epoch 4/10\n",
            "\u001b[1m16/16\u001b[0m \u001b[32m━━━━━━━━━━━━━━━━━━━━\u001b[0m\u001b[37m\u001b[0m \u001b[1m83s\u001b[0m 3s/step - accuracy: 0.8854 - loss: 0.3757 - val_accuracy: 0.8594 - val_loss: 0.4243\n",
            "Epoch 5/10\n",
            "\u001b[1m16/16\u001b[0m \u001b[32m━━━━━━━━━━━━━━━━━━━━\u001b[0m\u001b[37m\u001b[0m \u001b[1m83s\u001b[0m 3s/step - accuracy: 0.8888 - loss: 0.3606 - val_accuracy: 0.8594 - val_loss: 0.4170\n",
            "Epoch 6/10\n",
            "\u001b[1m16/16\u001b[0m \u001b[32m━━━━━━━━━━━━━━━━━━━━\u001b[0m\u001b[37m\u001b[0m \u001b[1m80s\u001b[0m 3s/step - accuracy: 0.8884 - loss: 0.3747 - val_accuracy: 0.8516 - val_loss: 0.4081\n",
            "Epoch 7/10\n",
            "\u001b[1m16/16\u001b[0m \u001b[32m━━━━━━━━━━━━━━━━━━━━\u001b[0m\u001b[37m\u001b[0m \u001b[1m50s\u001b[0m 3s/step - accuracy: 0.8733 - loss: 0.3737 - val_accuracy: 0.8516 - val_loss: 0.4039\n",
            "Epoch 8/10\n",
            "\u001b[1m16/16\u001b[0m \u001b[32m━━━━━━━━━━━━━━━━━━━━\u001b[0m\u001b[37m\u001b[0m \u001b[1m81s\u001b[0m 3s/step - accuracy: 0.8836 - loss: 0.3657 - val_accuracy: 0.8516 - val_loss: 0.3839\n",
            "Epoch 9/10\n",
            "\u001b[1m16/16\u001b[0m \u001b[32m━━━━━━━━━━━━━━━━━━━━\u001b[0m\u001b[37m\u001b[0m \u001b[1m83s\u001b[0m 3s/step - accuracy: 0.8900 - loss: 0.3404 - val_accuracy: 0.8281 - val_loss: 0.3648\n",
            "Epoch 10/10\n"
          ]
        },
        {
          "output_type": "error",
          "ename": "KeyboardInterrupt",
          "evalue": "",
          "traceback": [
            "\u001b[0;31m---------------------------------------------------------------------------\u001b[0m",
            "\u001b[0;31mKeyboardInterrupt\u001b[0m                         Traceback (most recent call last)",
            "\u001b[0;32m<ipython-input-14-f62566bfbd67>\u001b[0m in \u001b[0;36m<cell line: 0>\u001b[0;34m()\u001b[0m\n\u001b[1;32m     34\u001b[0m     \u001b[0mmodel\u001b[0m\u001b[0;34m.\u001b[0m\u001b[0mcompile\u001b[0m\u001b[0;34m(\u001b[0m\u001b[0moptimizer\u001b[0m\u001b[0;34m=\u001b[0m\u001b[0;34m'adam'\u001b[0m\u001b[0;34m,\u001b[0m \u001b[0mloss\u001b[0m\u001b[0;34m=\u001b[0m\u001b[0;34m'binary_crossentropy'\u001b[0m\u001b[0;34m,\u001b[0m \u001b[0mmetrics\u001b[0m\u001b[0;34m=\u001b[0m\u001b[0;34m[\u001b[0m\u001b[0;34m'accuracy'\u001b[0m\u001b[0;34m]\u001b[0m\u001b[0;34m)\u001b[0m\u001b[0;34m\u001b[0m\u001b[0;34m\u001b[0m\u001b[0m\n\u001b[1;32m     35\u001b[0m \u001b[0;34m\u001b[0m\u001b[0m\n\u001b[0;32m---> 36\u001b[0;31m     \u001b[0mmodel\u001b[0m\u001b[0;34m.\u001b[0m\u001b[0mfit\u001b[0m\u001b[0;34m(\u001b[0m\u001b[0mX_train\u001b[0m\u001b[0;34m,\u001b[0m \u001b[0my_train\u001b[0m\u001b[0;34m,\u001b[0m \u001b[0mepochs\u001b[0m\u001b[0;34m=\u001b[0m\u001b[0mepochs\u001b[0m\u001b[0;34m,\u001b[0m \u001b[0mbatch_size\u001b[0m\u001b[0;34m=\u001b[0m\u001b[0mbatch_size\u001b[0m\u001b[0;34m,\u001b[0m \u001b[0mvalidation_split\u001b[0m\u001b[0;34m=\u001b[0m\u001b[0;36m0.2\u001b[0m\u001b[0;34m)\u001b[0m\u001b[0;34m\u001b[0m\u001b[0;34m\u001b[0m\u001b[0m\n\u001b[0m\u001b[1;32m     37\u001b[0m \u001b[0;34m\u001b[0m\u001b[0m\n\u001b[1;32m     38\u001b[0m     \u001b[0mloss\u001b[0m\u001b[0;34m,\u001b[0m \u001b[0maccuracy\u001b[0m \u001b[0;34m=\u001b[0m \u001b[0mmodel\u001b[0m\u001b[0;34m.\u001b[0m\u001b[0mevaluate\u001b[0m\u001b[0;34m(\u001b[0m\u001b[0mX_test\u001b[0m\u001b[0;34m,\u001b[0m \u001b[0my_test\u001b[0m\u001b[0;34m)\u001b[0m\u001b[0;34m\u001b[0m\u001b[0;34m\u001b[0m\u001b[0m\n",
            "\u001b[0;32m/usr/local/lib/python3.11/dist-packages/keras/src/utils/traceback_utils.py\u001b[0m in \u001b[0;36merror_handler\u001b[0;34m(*args, **kwargs)\u001b[0m\n\u001b[1;32m    115\u001b[0m         \u001b[0mfiltered_tb\u001b[0m \u001b[0;34m=\u001b[0m \u001b[0;32mNone\u001b[0m\u001b[0;34m\u001b[0m\u001b[0;34m\u001b[0m\u001b[0m\n\u001b[1;32m    116\u001b[0m         \u001b[0;32mtry\u001b[0m\u001b[0;34m:\u001b[0m\u001b[0;34m\u001b[0m\u001b[0;34m\u001b[0m\u001b[0m\n\u001b[0;32m--> 117\u001b[0;31m             \u001b[0;32mreturn\u001b[0m \u001b[0mfn\u001b[0m\u001b[0;34m(\u001b[0m\u001b[0;34m*\u001b[0m\u001b[0margs\u001b[0m\u001b[0;34m,\u001b[0m \u001b[0;34m**\u001b[0m\u001b[0mkwargs\u001b[0m\u001b[0;34m)\u001b[0m\u001b[0;34m\u001b[0m\u001b[0;34m\u001b[0m\u001b[0m\n\u001b[0m\u001b[1;32m    118\u001b[0m         \u001b[0;32mexcept\u001b[0m \u001b[0mException\u001b[0m \u001b[0;32mas\u001b[0m \u001b[0me\u001b[0m\u001b[0;34m:\u001b[0m\u001b[0;34m\u001b[0m\u001b[0;34m\u001b[0m\u001b[0m\n\u001b[1;32m    119\u001b[0m             \u001b[0mfiltered_tb\u001b[0m \u001b[0;34m=\u001b[0m \u001b[0m_process_traceback_frames\u001b[0m\u001b[0;34m(\u001b[0m\u001b[0me\u001b[0m\u001b[0;34m.\u001b[0m\u001b[0m__traceback__\u001b[0m\u001b[0;34m)\u001b[0m\u001b[0;34m\u001b[0m\u001b[0;34m\u001b[0m\u001b[0m\n",
            "\u001b[0;32m/usr/local/lib/python3.11/dist-packages/keras/src/backend/tensorflow/trainer.py\u001b[0m in \u001b[0;36mfit\u001b[0;34m(self, x, y, batch_size, epochs, verbose, callbacks, validation_split, validation_data, shuffle, class_weight, sample_weight, initial_epoch, steps_per_epoch, validation_steps, validation_batch_size, validation_freq)\u001b[0m\n\u001b[1;32m    368\u001b[0m             \u001b[0;32mwith\u001b[0m \u001b[0mepoch_iterator\u001b[0m\u001b[0;34m.\u001b[0m\u001b[0mcatch_stop_iteration\u001b[0m\u001b[0;34m(\u001b[0m\u001b[0;34m)\u001b[0m\u001b[0;34m:\u001b[0m\u001b[0;34m\u001b[0m\u001b[0;34m\u001b[0m\u001b[0m\n\u001b[1;32m    369\u001b[0m                 \u001b[0;32mfor\u001b[0m \u001b[0mstep\u001b[0m\u001b[0;34m,\u001b[0m \u001b[0miterator\u001b[0m \u001b[0;32min\u001b[0m \u001b[0mepoch_iterator\u001b[0m\u001b[0;34m:\u001b[0m\u001b[0;34m\u001b[0m\u001b[0;34m\u001b[0m\u001b[0m\n\u001b[0;32m--> 370\u001b[0;31m                     \u001b[0mcallbacks\u001b[0m\u001b[0;34m.\u001b[0m\u001b[0mon_train_batch_begin\u001b[0m\u001b[0;34m(\u001b[0m\u001b[0mstep\u001b[0m\u001b[0;34m)\u001b[0m\u001b[0;34m\u001b[0m\u001b[0;34m\u001b[0m\u001b[0m\n\u001b[0m\u001b[1;32m    371\u001b[0m                     \u001b[0mlogs\u001b[0m \u001b[0;34m=\u001b[0m \u001b[0mself\u001b[0m\u001b[0;34m.\u001b[0m\u001b[0mtrain_function\u001b[0m\u001b[0;34m(\u001b[0m\u001b[0miterator\u001b[0m\u001b[0;34m)\u001b[0m\u001b[0;34m\u001b[0m\u001b[0;34m\u001b[0m\u001b[0m\n\u001b[1;32m    372\u001b[0m                     \u001b[0mcallbacks\u001b[0m\u001b[0;34m.\u001b[0m\u001b[0mon_train_batch_end\u001b[0m\u001b[0;34m(\u001b[0m\u001b[0mstep\u001b[0m\u001b[0;34m,\u001b[0m \u001b[0mlogs\u001b[0m\u001b[0;34m)\u001b[0m\u001b[0;34m\u001b[0m\u001b[0;34m\u001b[0m\u001b[0m\n",
            "\u001b[0;32m/usr/local/lib/python3.11/dist-packages/keras/src/callbacks/callback_list.py\u001b[0m in \u001b[0;36mon_train_batch_begin\u001b[0;34m(self, batch, logs)\u001b[0m\n\u001b[1;32m    145\u001b[0m             \u001b[0mcallback\u001b[0m\u001b[0;34m.\u001b[0m\u001b[0mon_epoch_end\u001b[0m\u001b[0;34m(\u001b[0m\u001b[0mepoch\u001b[0m\u001b[0;34m,\u001b[0m \u001b[0mlogs\u001b[0m\u001b[0;34m)\u001b[0m\u001b[0;34m\u001b[0m\u001b[0;34m\u001b[0m\u001b[0m\n\u001b[1;32m    146\u001b[0m \u001b[0;34m\u001b[0m\u001b[0m\n\u001b[0;32m--> 147\u001b[0;31m     \u001b[0;32mdef\u001b[0m \u001b[0mon_train_batch_begin\u001b[0m\u001b[0;34m(\u001b[0m\u001b[0mself\u001b[0m\u001b[0;34m,\u001b[0m \u001b[0mbatch\u001b[0m\u001b[0;34m,\u001b[0m \u001b[0mlogs\u001b[0m\u001b[0;34m=\u001b[0m\u001b[0;32mNone\u001b[0m\u001b[0;34m)\u001b[0m\u001b[0;34m:\u001b[0m\u001b[0;34m\u001b[0m\u001b[0;34m\u001b[0m\u001b[0m\n\u001b[0m\u001b[1;32m    148\u001b[0m         \u001b[0mlogs\u001b[0m \u001b[0;34m=\u001b[0m \u001b[0mpython_utils\u001b[0m\u001b[0;34m.\u001b[0m\u001b[0mpythonify_logs\u001b[0m\u001b[0;34m(\u001b[0m\u001b[0mlogs\u001b[0m\u001b[0;34m)\u001b[0m\u001b[0;34m\u001b[0m\u001b[0;34m\u001b[0m\u001b[0m\n\u001b[1;32m    149\u001b[0m         \u001b[0;32mfor\u001b[0m \u001b[0mcallback\u001b[0m \u001b[0;32min\u001b[0m \u001b[0mself\u001b[0m\u001b[0;34m.\u001b[0m\u001b[0mcallbacks\u001b[0m\u001b[0;34m:\u001b[0m\u001b[0;34m\u001b[0m\u001b[0;34m\u001b[0m\u001b[0m\n",
            "\u001b[0;31mKeyboardInterrupt\u001b[0m: "
          ]
        }
      ]
    }
  ]
}