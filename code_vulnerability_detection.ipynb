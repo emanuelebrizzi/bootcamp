{
  "nbformat": 4,
  "nbformat_minor": 0,
  "metadata": {
    "colab": {
      "provenance": [],
      "authorship_tag": "ABX9TyPTRdd77kTBw+eWmmHi4C1A",
      "include_colab_link": true
    },
    "kernelspec": {
      "name": "python3",
      "display_name": "Python 3"
    },
    "language_info": {
      "name": "python"
    }
  },
  "cells": [
    {
      "cell_type": "markdown",
      "metadata": {
        "id": "view-in-github",
        "colab_type": "text"
      },
      "source": [
        "<a href=\"https://colab.research.google.com/github/emanuelebrizzi/bootcamp/blob/main/code_vulnerability_detection.ipynb\" target=\"_parent\"><img src=\"https://colab.research.google.com/assets/colab-badge.svg\" alt=\"Open In Colab\"/></a>"
      ]
    },
    {
      "cell_type": "markdown",
      "source": [
        "The goal is to do code vulnerability detection using deep learning techniques. For this purpose, I utilized data available at https://github.com/Seahymn2019/Function-level-Vulnerability-Dataset/blob/master/Vulnerable%20Functions%20Statistical%20Analysis.md, which includes code from three distinct open-source projects: LibPNG, Pidgin and VLC."
      ],
      "metadata": {
        "id": "-N87C1O-kzwD"
      }
    },
    {
      "cell_type": "markdown",
      "source": [
        "# **Data upload**\n"
      ],
      "metadata": {
        "id": "vwxvuUJnjbIH"
      }
    },
    {
      "cell_type": "code",
      "execution_count": 2,
      "metadata": {
        "id": "TXYDvCvi5XZq",
        "colab": {
          "base_uri": "https://localhost:8080/"
        },
        "outputId": "9460dbbb-03eb-4342-9621-c3eaba91a310"
      },
      "outputs": [
        {
          "output_type": "stream",
          "name": "stdout",
          "text": [
            "Mounted at /content/drive\n"
          ]
        }
      ],
      "source": [
        "from google.colab import drive\n",
        "drive.mount(\"/content/drive\")"
      ]
    },
    {
      "cell_type": "code",
      "source": [
        "import os\n",
        "import glob\n",
        "\n",
        "# Directory path\n",
        "drive_path = \"/content/drive/MyDrive/bootcamp_file\"\n",
        "\n",
        "libpng_path = os.path.join(drive_path, \"LibPNG\")\n",
        "\n",
        "libpng_vuln_path = os.path.join(libpng_path, \"Vulnerable_functions\")\n",
        "libpng_non_vuln_path = os.path.join(libpng_path, \"Non_vulnerable_functions\")\n",
        "\n",
        "vlc_path = os.path.join(drive_path, \"VLC\")\n",
        "\n",
        "vlc_vuln_path = os.path.join(vlc_path, \"Vulnerable_functions\")\n",
        "vlc_non_vuln_path = os.path.join(vlc_path, \"Non_vulnerable_functions\")\n",
        "\n",
        "pidgin_path = os.path.join(drive_path, \"Pidgin\")\n",
        "\n",
        "pidgin_vuln_path = os.path.join(pidgin_path, \"Vulnerable_functions\")\n",
        "pidgin_non_vuln_path = os.path.join(pidgin_path, \"Non_vulnerable_functions\")\n"
      ],
      "metadata": {
        "id": "9bSkiYW8bdvj"
      },
      "execution_count": 3,
      "outputs": []
    },
    {
      "cell_type": "code",
      "source": [
        "\n",
        "def load_files_from_folder(folder, label):\n",
        "    files = glob.glob(os.path.join(folder, \"*.c\"))\n",
        "    data = []\n",
        "    for file in files:\n",
        "        with open(file, \"r\", encoding=\"utf-8\", errors=\"ignore\") as f:\n",
        "            data.append((f.read(), label, os.path.basename(file)))\n",
        "    return data\n"
      ],
      "metadata": {
        "id": "LuhDeKSyd9Gf"
      },
      "execution_count": 4,
      "outputs": []
    },
    {
      "cell_type": "markdown",
      "source": [
        "# **Replace Function names and Variable names**"
      ],
      "metadata": {
        "id": "GrfMYRimjn3v"
      }
    },
    {
      "cell_type": "markdown",
      "source": [
        "Removing comments inside code files.\n",
        "\n",
        "Replacing of function and variable names with generic or unified identifiers. This transformation helps reduce the superficial variability of the source code, making it easier to detect vulnerability patterns that might be obscured by specific names."
      ],
      "metadata": {
        "id": "WZXEwCQ0k4br"
      }
    },
    {
      "cell_type": "code",
      "source": [
        "import re\n",
        "import random\n",
        "import string\n",
        "from pathlib import Path"
      ],
      "metadata": {
        "id": "PfJOtGKtW-q3"
      },
      "execution_count": 5,
      "outputs": []
    },
    {
      "cell_type": "code",
      "source": [
        "# Removes comments from C code\n",
        "def remove_comments(code):\n",
        "    code = re.sub(r'//.*', '', code)\n",
        "    code = re.sub(r'/\\*.*?\\*/', '', code, flags=re.DOTALL)\n",
        "    return code\n",
        "\n",
        "# Extracts variable and function names from C code\n",
        "def extract_identifiers(code):\n",
        "    pattern = re.compile(r'\\b([a-zA-Z_][a-zA-Z0-9_]*)\\b')\n",
        "    keywords = set(['int', 'char', 'float', 'double', 'return', 'if', 'else', 'while', 'for', 'do', 'switch', 'case', 'void'])\n",
        "    identifiers = set(pattern.findall(code)) - keywords\n",
        "    return identifiers\n",
        "\n",
        "# Classifies identifiers as variables or functions\n",
        "def categorize_identifiers(identifiers):\n",
        "    var_counter, fun_counter = 1, 1\n",
        "    replacements = {}\n",
        "    for identifier in identifiers:\n",
        "        if re.search(r'\\b[A-Za-z_][A-Za-z0-9_]*\\s*\\(', identifier):\n",
        "            replacements[identifier] = f'fun_{fun_counter}'\n",
        "            fun_counter += 1\n",
        "        else:\n",
        "            replacements[identifier] = f'var_{var_counter}'\n",
        "            var_counter += 1\n",
        "    return replacements\n",
        "\n",
        "# Replaces variable and function names with new names\n",
        "def replace_identifiers(code, replacements):\n",
        "\n",
        "    for old, new in replacements.items():\n",
        "        code = re.sub(r'\\b' + re.escape(old) + r'\\b', new, code)\n",
        "    return code\n",
        "\n",
        "# Reads a C file, replaces names, and saves the new file\n",
        "def process_c_file(filepath, new_filepath):\n",
        "    with open(filepath, 'r', encoding='Latin-1') as file:\n",
        "        code = file.read()\n",
        "\n",
        "    code_no_comments = remove_comments(code)\n",
        "    identifiers = extract_identifiers(code_no_comments)\n",
        "    replacements = categorize_identifiers(identifiers)\n",
        "    new_code = replace_identifiers(code_no_comments, replacements)\n",
        "    with open(new_filepath, 'w', encoding='Latin-1') as file:\n",
        "        file.write(new_code)\n",
        "\n",
        "# Processes all C files in a directory\n",
        "def process_directory(directory, new_directory_path):\n",
        "    for filepath in Path(directory).glob(\"*.c\"):\n",
        "        new_filepath = os.path.join(new_directory_path, os.path.basename(filepath))\n",
        "        process_c_file(filepath, new_filepath)"
      ],
      "metadata": {
        "id": "zqT_F2_Eoh7P"
      },
      "execution_count": 6,
      "outputs": []
    },
    {
      "cell_type": "code",
      "source": [
        "import shutil\n",
        "\n",
        "def create_directory(directory_path):\n",
        "    if os.path.exists(directory_path):\n",
        "        shutil.rmtree(directory_path)\n",
        "    os.makedirs(directory_path, exist_ok=True)\n",
        "\n",
        "# Creation modified directory\n",
        "modified_path = os.path.join(drive_path, \"modified_files\")\n",
        "create_directory(modified_path)\n",
        "\n",
        "libpng_modified = os.path.join(modified_path, \"LibPNG\")\n",
        "create_directory(libpng_modified)\n",
        "\n",
        "vlc_modified = os.path.join(modified_path, \"VLC\")\n",
        "create_directory(vlc_modified)\n",
        "\n",
        "pidgin_modified = os.path.join(modified_path, \"Pidgin\")\n",
        "create_directory(pidgin_modified)\n",
        "\n",
        "libpng_modified_vuln_path = os.path.join(libpng_modified, \"Vulnerable_functions\")\n",
        "create_directory(libpng_modified_vuln_path)\n",
        "libpng_modified_non_vuln_path = os.path.join(libpng_modified, \"Non_vulnerable_functions\")\n",
        "create_directory(libpng_modified_non_vuln_path)\n",
        "\n",
        "vlc_modified_vuln_path = os.path.join(vlc_modified, \"Vulnerable_functions\")\n",
        "create_directory(vlc_modified_vuln_path)\n",
        "vlc_modified_non_vuln_path = os.path.join(vlc_modified, \"Non_vulnerable_functions\")\n",
        "create_directory(vlc_modified_non_vuln_path)\n",
        "\n",
        "pidgin_modified_vuln_path = os.path.join(pidgin_modified, \"Vulnerable_functions\")\n",
        "create_directory(pidgin_modified_vuln_path)\n",
        "pidgin_modified_non_vuln_path = os.path.join(pidgin_modified, \"Non_vulnerable_functions\")\n",
        "create_directory(pidgin_modified_non_vuln_path)"
      ],
      "metadata": {
        "id": "LyBFy5YFsLh9"
      },
      "execution_count": 7,
      "outputs": []
    },
    {
      "cell_type": "code",
      "source": [
        "process_directory(libpng_vuln_path, libpng_modified_vuln_path)\n",
        "process_directory(libpng_non_vuln_path, libpng_modified_non_vuln_path)\n",
        "process_directory(vlc_vuln_path, vlc_modified_vuln_path)\n",
        "process_directory(vlc_non_vuln_path, vlc_modified_non_vuln_path)\n",
        "process_directory(pidgin_vuln_path, pidgin_modified_vuln_path)\n",
        "process_directory(pidgin_non_vuln_path, pidgin_modified_non_vuln_path)"
      ],
      "metadata": {
        "id": "CqKnDKBGloVC"
      },
      "execution_count": null,
      "outputs": []
    },
    {
      "cell_type": "markdown",
      "source": [
        "# Dataset preparation"
      ],
      "metadata": {
        "id": "dm5U2rLuQaow"
      }
    },
    {
      "cell_type": "code",
      "source": [
        "import os\n",
        "import numpy as np\n",
        "from collections import Counter\n",
        "from tabulate import tabulate\n",
        "import random\n",
        "import os\n",
        "import re"
      ],
      "metadata": {
        "id": "2SK_9iAc8pI-"
      },
      "execution_count": 8,
      "outputs": []
    },
    {
      "cell_type": "code",
      "source": [
        "# Load and label data\n",
        "def load_data_directoies(directories, label):\n",
        "    data = []\n",
        "    for directory in directories:  # Iteriamo sulle directory della lista\n",
        "        for filename in os.listdir(directory):  # Ora directory è una stringa\n",
        "            with open(os.path.join(directory, filename), 'r') as file:\n",
        "                data.append((file.read(), label))\n",
        "    return data\n",
        "vulnerable_files = load_data_directoies([libpng_modified_vuln_path, vlc_modified_vuln_path, pidgin_modified_vuln_path], label=1)\n",
        "non_vulnerable_files = load_data_directoies([libpng_modified_non_vuln_path, vlc_modified_non_vuln_path, pidgin_modified_non_vuln_path], label=0)\n",
        "\n",
        "# Combine and shuffle dataset\n",
        "dataset = vulnerable_files + non_vulnerable_files\n",
        "np.random.shuffle(dataset)\n",
        "\n",
        "texts, labels = zip(*dataset)"
      ],
      "metadata": {
        "id": "qrqqOl26TYbe"
      },
      "execution_count": 10,
      "outputs": []
    },
    {
      "cell_type": "markdown",
      "source": [
        "### Dataset info"
      ],
      "metadata": {
        "id": "HzUuTtbUxZ05"
      }
    },
    {
      "cell_type": "code",
      "source": [
        "print(\"Vulnerable files: \", len(vulnerable_files))\n",
        "print(\"Non Vulnerable files: \", len(non_vulnerable_files))\n",
        "print(\"Dataset files: \", len(dataset))"
      ],
      "metadata": {
        "colab": {
          "base_uri": "https://localhost:8080/"
        },
        "id": "kwD77zOi3sMu",
        "outputId": "c7a651f4-8636-4674-89a0-0321773adbd2"
      },
      "execution_count": 11,
      "outputs": [
        {
          "output_type": "stream",
          "name": "stdout",
          "text": [
            "Vulnerable files:  118\n",
            "Non Vulnerable files:  15318\n",
            "Dataset files:  15436\n"
          ]
        }
      ]
    },
    {
      "cell_type": "code",
      "source": [
        "n = len(vulnerable_files) * 8\n",
        "\n",
        "non_vulnerable_files_selected = random.sample(non_vulnerable_files, min(n, len(non_vulnerable_files)))\n",
        "\n",
        "dataset = vulnerable_files + non_vulnerable_files_selected\n",
        "random.shuffle(dataset)\n",
        "\n",
        "texts, labels = zip(*dataset)\n"
      ],
      "metadata": {
        "id": "pCOTAxZP6alL"
      },
      "execution_count": 12,
      "outputs": []
    },
    {
      "cell_type": "code",
      "source": [
        "print(\"Vulnerable files: \", len(vulnerable_files))\n",
        "print(\"Non Vulnerable files: \", len(non_vulnerable_files_selected))\n",
        "print(\"Dataset files: \", len(dataset))"
      ],
      "metadata": {
        "colab": {
          "base_uri": "https://localhost:8080/"
        },
        "id": "nOQkFV1ByMLn",
        "outputId": "c8598cae-e926-47b1-fa2e-5d4607f9bfd6"
      },
      "execution_count": 13,
      "outputs": [
        {
          "output_type": "stream",
          "name": "stdout",
          "text": [
            "Vulnerable files:  118\n",
            "Non Vulnerable files:  944\n",
            "Dataset files:  1062\n"
          ]
        }
      ]
    },
    {
      "cell_type": "markdown",
      "source": [
        "# Models"
      ],
      "metadata": {
        "id": "5HVkeHkAiXiO"
      }
    },
    {
      "cell_type": "code",
      "source": [
        "from sklearn.model_selection import train_test_split\n",
        "from tensorflow.keras.preprocessing.text import Tokenizer\n",
        "from tensorflow.keras.preprocessing.sequence import pad_sequences\n",
        "from tensorflow.keras.models import Sequential\n",
        "from tensorflow.keras.layers import Embedding, Bidirectional, LSTM, Dense, Dropout, GRU\n"
      ],
      "metadata": {
        "id": "I_vpja7HQvXW"
      },
      "execution_count": 14,
      "outputs": []
    },
    {
      "cell_type": "code",
      "source": [
        "# Tokenize the data\n",
        "tokenizer = Tokenizer()\n",
        "tokenizer.fit_on_texts(texts)\n",
        "sequences = tokenizer.texts_to_sequences(texts)\n",
        "word_index = tokenizer.word_index"
      ],
      "metadata": {
        "id": "oXXKaGGbQ1ZN"
      },
      "execution_count": 15,
      "outputs": []
    },
    {
      "cell_type": "code",
      "source": [
        "max_length = 500  # Adjust based on dataset\n",
        "data = pad_sequences(sequences, maxlen=max_length, padding='post')\n",
        "labels = np.array(labels)"
      ],
      "metadata": {
        "id": "IhPxDh3eJowy"
      },
      "execution_count": 16,
      "outputs": []
    },
    {
      "cell_type": "code",
      "source": [
        "# Split dataset into train, validation, and test sets\n",
        "X_train, X_test, y_train, y_test = train_test_split(data, labels, test_size=0.2, random_state=42)\n",
        "X_train, X_val, y_train, y_val = train_test_split(X_train, y_train, test_size=0.25, random_state=42)"
      ],
      "metadata": {
        "id": "Vo0yCMFYK9oC"
      },
      "execution_count": 17,
      "outputs": []
    },
    {
      "cell_type": "code",
      "source": [
        "embedding_dim = 128\n",
        "batch_size = 32\n",
        "epochs = 5"
      ],
      "metadata": {
        "id": "B2mvNfTxNXhx"
      },
      "execution_count": 18,
      "outputs": []
    },
    {
      "cell_type": "markdown",
      "source": [
        "BLSTM Model"
      ],
      "metadata": {
        "id": "Y1OqNuBpMp9P"
      }
    },
    {
      "cell_type": "code",
      "source": [
        "# Model Creation\n",
        "blstm_model = Sequential([\n",
        "    Embedding(input_dim=len(word_index) + 1, output_dim=embedding_dim, input_length=max_length),\n",
        "    Bidirectional(LSTM(32, return_sequences=False, dropout=0.3, recurrent_dropout=0.1)),\n",
        "    Dense(1, activation='sigmoid')\n",
        "])\n",
        "\n",
        "blstm_model.compile(optimizer='adam', loss='binary_crossentropy', metrics=['accuracy'])\n",
        "\n",
        "# Train BLSTM model\n",
        "print(\"Training BLSTM Model...\")\n",
        "blstm_history = blstm_model.fit(X_train, y_train, epochs=epochs, batch_size=batch_size, validation_data=(X_val, y_val))\n",
        "\n",
        "# Evaluate BLSTM model\n",
        "blstm_loss, blstm_accuracy = blstm_model.evaluate(X_test, y_test)\n",
        "print(f\"BLSTM Test Loss: {blstm_loss}\")\n",
        "print(f\"BLSTM Test Accuracy: {blstm_accuracy}\")\n",
        "\n",
        "# Predict using BLSTM model\n",
        "blstm_predictions = blstm_model.predict(X_test)\n",
        "blstm_y_pred = (blstm_predictions > 0.5).astype(int)"
      ],
      "metadata": {
        "colab": {
          "base_uri": "https://localhost:8080/"
        },
        "id": "ScxPHUSJiZco",
        "outputId": "fd24ab95-8ce0-48e6-b179-eebb92166605"
      },
      "execution_count": 19,
      "outputs": [
        {
          "output_type": "stream",
          "name": "stdout",
          "text": [
            "Training BLSTM Model...\n",
            "Epoch 1/5\n"
          ]
        },
        {
          "output_type": "stream",
          "name": "stderr",
          "text": [
            "/usr/local/lib/python3.11/dist-packages/keras/src/layers/core/embedding.py:90: UserWarning: Argument `input_length` is deprecated. Just remove it.\n",
            "  warnings.warn(\n"
          ]
        },
        {
          "output_type": "stream",
          "name": "stdout",
          "text": [
            "\u001b[1m20/20\u001b[0m \u001b[32m━━━━━━━━━━━━━━━━━━━━\u001b[0m\u001b[37m\u001b[0m \u001b[1m31s\u001b[0m 1s/step - accuracy: 0.7606 - loss: 0.4978 - val_accuracy: 0.8732 - val_loss: 0.4126\n",
            "Epoch 2/5\n",
            "\u001b[1m20/20\u001b[0m \u001b[32m━━━━━━━━━━━━━━━━━━━━\u001b[0m\u001b[37m\u001b[0m \u001b[1m40s\u001b[0m 1s/step - accuracy: 0.8964 - loss: 0.3065 - val_accuracy: 0.8732 - val_loss: 0.3624\n",
            "Epoch 3/5\n",
            "\u001b[1m20/20\u001b[0m \u001b[32m━━━━━━━━━━━━━━━━━━━━\u001b[0m\u001b[37m\u001b[0m \u001b[1m39s\u001b[0m 957ms/step - accuracy: 0.8858 - loss: 0.3219 - val_accuracy: 0.8732 - val_loss: 0.3687\n",
            "Epoch 4/5\n",
            "\u001b[1m20/20\u001b[0m \u001b[32m━━━━━━━━━━━━━━━━━━━━\u001b[0m\u001b[37m\u001b[0m \u001b[1m26s\u001b[0m 1s/step - accuracy: 0.8920 - loss: 0.3027 - val_accuracy: 0.8732 - val_loss: 0.3664\n",
            "Epoch 5/5\n",
            "\u001b[1m20/20\u001b[0m \u001b[32m━━━━━━━━━━━━━━━━━━━━\u001b[0m\u001b[37m\u001b[0m \u001b[1m37s\u001b[0m 1s/step - accuracy: 0.8954 - loss: 0.2848 - val_accuracy: 0.8779 - val_loss: 0.3561\n",
            "\u001b[1m7/7\u001b[0m \u001b[32m━━━━━━━━━━━━━━━━━━━━\u001b[0m\u001b[37m\u001b[0m \u001b[1m1s\u001b[0m 187ms/step - accuracy: 0.8791 - loss: 0.3512\n",
            "BLSTM Test Loss: 0.35601451992988586\n",
            "BLSTM Test Accuracy: 0.8779342770576477\n",
            "\u001b[1m7/7\u001b[0m \u001b[32m━━━━━━━━━━━━━━━━━━━━\u001b[0m\u001b[37m\u001b[0m \u001b[1m3s\u001b[0m 259ms/step\n"
          ]
        }
      ]
    },
    {
      "cell_type": "markdown",
      "source": [
        "GRU Model"
      ],
      "metadata": {
        "id": "eh8tdaq5Mtx2"
      }
    },
    {
      "cell_type": "code",
      "source": [
        "# GRU Model Creation\n",
        "gru_model = Sequential([\n",
        "    Embedding(input_dim=len(word_index) + 1, output_dim=embedding_dim, input_length=max_length),\n",
        "    GRU(32, return_sequences=False, dropout=0.3, recurrent_dropout=0.1),\n",
        "    Dense(1, activation='sigmoid')\n",
        "])\n",
        "\n",
        "gru_model.compile(optimizer='adam', loss='binary_crossentropy', metrics=['accuracy'])\n",
        "\n",
        "# Train GRU model\n",
        "print(\"Training GRU Model...\")\n",
        "gru_history = gru_model.fit(X_train, y_train, epochs=epochs, batch_size=batch_size, validation_data=(X_val, y_val))\n",
        "\n",
        "# Evaluate GRU model\n",
        "gru_loss, gru_accuracy = gru_model.evaluate(X_test, y_test)\n",
        "print(f\"GRU Test Loss: {gru_loss}\")\n",
        "print(f\"GRU Test Accuracy: {gru_accuracy}\")\n",
        "\n",
        "# Predict using GRU model\n",
        "gru_predictions = gru_model.predict(X_test)\n",
        "gru_y_pred = (gru_predictions > 0.5).astype(int)"
      ],
      "metadata": {
        "colab": {
          "base_uri": "https://localhost:8080/"
        },
        "id": "MfeKtPxYKWBb",
        "outputId": "b2c9245f-a137-4302-c9f0-af9ee1d3ed4c"
      },
      "execution_count": 20,
      "outputs": [
        {
          "output_type": "stream",
          "name": "stdout",
          "text": [
            "Training GRU Model...\n",
            "Epoch 1/5\n",
            "\u001b[1m20/20\u001b[0m \u001b[32m━━━━━━━━━━━━━━━━━━━━\u001b[0m\u001b[37m\u001b[0m \u001b[1m16s\u001b[0m 567ms/step - accuracy: 0.8178 - loss: 0.5075 - val_accuracy: 0.8732 - val_loss: 0.3907\n",
            "Epoch 2/5\n",
            "\u001b[1m20/20\u001b[0m \u001b[32m━━━━━━━━━━━━━━━━━━━━\u001b[0m\u001b[37m\u001b[0m \u001b[1m21s\u001b[0m 609ms/step - accuracy: 0.9057 - loss: 0.2993 - val_accuracy: 0.8732 - val_loss: 0.3763\n",
            "Epoch 3/5\n",
            "\u001b[1m20/20\u001b[0m \u001b[32m━━━━━━━━━━━━━━━━━━━━\u001b[0m\u001b[37m\u001b[0m \u001b[1m20s\u001b[0m 577ms/step - accuracy: 0.8942 - loss: 0.3019 - val_accuracy: 0.8685 - val_loss: 0.3838\n",
            "Epoch 4/5\n",
            "\u001b[1m20/20\u001b[0m \u001b[32m━━━━━━━━━━━━━━━━━━━━\u001b[0m\u001b[37m\u001b[0m \u001b[1m20s\u001b[0m 567ms/step - accuracy: 0.9169 - loss: 0.2574 - val_accuracy: 0.8732 - val_loss: 0.3776\n",
            "Epoch 5/5\n",
            "\u001b[1m20/20\u001b[0m \u001b[32m━━━━━━━━━━━━━━━━━━━━\u001b[0m\u001b[37m\u001b[0m \u001b[1m9s\u001b[0m 448ms/step - accuracy: 0.9070 - loss: 0.2935 - val_accuracy: 0.8732 - val_loss: 0.3807\n",
            "\u001b[1m7/7\u001b[0m \u001b[32m━━━━━━━━━━━━━━━━━━━━\u001b[0m\u001b[37m\u001b[0m \u001b[1m1s\u001b[0m 109ms/step - accuracy: 0.8693 - loss: 0.3555\n",
            "GRU Test Loss: 0.3590960204601288\n",
            "GRU Test Accuracy: 0.8685445785522461\n",
            "\u001b[1m7/7\u001b[0m \u001b[32m━━━━━━━━━━━━━━━━━━━━\u001b[0m\u001b[37m\u001b[0m \u001b[1m2s\u001b[0m 217ms/step\n"
          ]
        }
      ]
    },
    {
      "cell_type": "markdown",
      "source": [
        "### Comparison"
      ],
      "metadata": {
        "id": "HIv5yEs3Mv5y"
      }
    },
    {
      "cell_type": "code",
      "source": [
        "import matplotlib.pyplot as plt"
      ],
      "metadata": {
        "id": "1JxQpghQT3tg"
      },
      "execution_count": 21,
      "outputs": []
    },
    {
      "cell_type": "code",
      "source": [
        "# Accuracy comparison\n",
        "plt.plot(blstm_history.history['accuracy'], label='BLSTM Accuracy')\n",
        "plt.plot(blstm_history.history['val_accuracy'], label='BLSTM Val Accuracy')\n",
        "plt.plot(gru_history.history['accuracy'], label='GRU Accuracy')\n",
        "plt.plot(gru_history.history['val_accuracy'], label='GRU Val Accuracy')\n",
        "plt.title('Accuracy Comparison')\n",
        "plt.xlabel('Epochs')\n",
        "plt.ylabel('Accuracy')\n",
        "plt.xticks(ticks=range(0, epochs), labels=range(1, epochs + 1))\n",
        "plt.legend()\n",
        "plt.show()\n"
      ],
      "metadata": {
        "colab": {
          "base_uri": "https://localhost:8080/",
          "height": 472
        },
        "id": "9OixV15bN0CO",
        "outputId": "4a5e9546-63b8-416e-8fe1-e543117a60b8"
      },
      "execution_count": 38,
      "outputs": [
        {
          "output_type": "display_data",
          "data": {
            "text/plain": [
              "<Figure size 640x480 with 1 Axes>"
            ],
            "image/png": "[encoded data removed]"
          },
          "metadata": {}
        }
      ]
    },
    {
      "cell_type": "code",
      "source": [
        "# Loss comparison\n",
        "plt.plot(blstm_history.history['loss'], label='BLSTM Loss')\n",
        "plt.plot(blstm_history.history['val_loss'], label='BLSTM Val Loss')\n",
        "plt.plot(gru_history.history['loss'], label='GRU Loss')\n",
        "plt.plot(gru_history.history['val_loss'], label='GRU Val Loss')\n",
        "plt.title('Loss Comparison')\n",
        "plt.xlabel('Epochs')\n",
        "plt.ylabel('Loss')\n",
        "plt.xticks(ticks=range(0, epochs), labels=range(1, epochs + 1))\n",
        "plt.legend()\n",
        "plt.show()"
      ],
      "metadata": {
        "colab": {
          "base_uri": "https://localhost:8080/",
          "height": 472
        },
        "id": "n_n7PWPRRgYL",
        "outputId": "2ea122e9-7387-449b-f82b-0b4f9d189723"
      },
      "execution_count": 39,
      "outputs": [
        {
          "output_type": "display_data",
          "data": {
            "text/plain": [
              "<Figure size 640x480 with 1 Axes>"
            ],
            "image/png": "[encoded data removed]"
          },
          "metadata": {}
        }
      ]
    },
    {
      "cell_type": "markdown",
      "source": [
        "## **Cross Validation** with K-Fold"
      ],
      "metadata": {
        "id": "cyrSzBrbyQpu"
      }
    },
    {
      "cell_type": "code",
      "source": [
        "from sklearn.model_selection import KFold\n",
        "\n",
        "# Define K-Fold Cross-Validation\n",
        "k_folds = 5\n",
        "kf = KFold(n_splits=k_folds, shuffle=True, random_state=42)\n",
        "\n",
        "embedding_dim = 128\n",
        "batch_size = 32\n",
        "epochs = 5\n",
        "\n",
        "folds_indices = list(kf.split(data))"
      ],
      "metadata": {
        "id": "kkq_9emGWLNG"
      },
      "execution_count": 24,
      "outputs": []
    },
    {
      "cell_type": "code",
      "source": [
        "blstm_accuracies = []\n",
        "blstm_losses = []\n",
        "\n",
        "for fold, (train_index, test_index) in enumerate(folds_indices):\n",
        "    print(f\"Training on Fold {fold+1}/{k_folds}...\")\n",
        "\n",
        "    X_train, X_test = data[train_index], data[test_index]\n",
        "    y_train, y_test = labels[train_index], labels[test_index]\n",
        "\n",
        "    # Model Creation\n",
        "    blstm_model = Sequential([\n",
        "        Embedding(input_dim=len(word_index) + 1, output_dim=embedding_dim, input_length=max_length),\n",
        "        Bidirectional(LSTM(32, return_sequences=False, dropout=0.3, recurrent_dropout=0.1)),\n",
        "        Dense(1, activation='sigmoid')\n",
        "    ])\n",
        "\n",
        "\n",
        "    blstm_model.compile(optimizer='adam', loss='binary_crossentropy', metrics=['accuracy'])\n",
        "    blstm_model.fit(X_train, y_train, epochs=epochs, batch_size=batch_size, validation_split=0.2, verbose=1)\n",
        "\n",
        "    blstm_loss, blstm_accuracy = blstm_model.evaluate(X_test, y_test, verbose=0)\n",
        "    blstm_accuracies.append(blstm_accuracy)\n",
        "    blstm_losses.append(blstm_loss)\n",
        "    print(f\"BLSTM Fold {fold+1} - Test Loss: {blstm_loss:.4f}, Test Accuracy: {blstm_accuracy:.4f}\")\n",
        "\n",
        "print(f\"Average Accuracy: {np.mean(blstm_accuracies)}\")\n",
        "\n",
        "\n",
        "\n"
      ],
      "metadata": {
        "colab": {
          "base_uri": "https://localhost:8080/"
        },
        "id": "qQVQ3o_8KBNJ",
        "outputId": "f2d5060b-8cab-458f-a873-608e1edacbce"
      },
      "execution_count": 25,
      "outputs": [
        {
          "output_type": "stream",
          "name": "stdout",
          "text": [
            "Training on Fold 1/5...\n",
            "Epoch 1/5\n"
          ]
        },
        {
          "output_type": "stream",
          "name": "stderr",
          "text": [
            "/usr/local/lib/python3.11/dist-packages/keras/src/layers/core/embedding.py:90: UserWarning: Argument `input_length` is deprecated. Just remove it.\n",
            "  warnings.warn(\n"
          ]
        },
        {
          "output_type": "stream",
          "name": "stdout",
          "text": [
            "\u001b[1m22/22\u001b[0m \u001b[32m━━━━━━━━━━━━━━━━━━━━\u001b[0m\u001b[37m\u001b[0m \u001b[1m33s\u001b[0m 1s/step - accuracy: 0.8793 - loss: 0.4786 - val_accuracy: 0.9118 - val_loss: 0.3096\n",
            "Epoch 2/5\n",
            "\u001b[1m22/22\u001b[0m \u001b[32m━━━━━━━━━━━━━━━━━━━━\u001b[0m\u001b[37m\u001b[0m \u001b[1m39s\u001b[0m 1s/step - accuracy: 0.8952 - loss: 0.3066 - val_accuracy: 0.9118 - val_loss: 0.3039\n",
            "Epoch 3/5\n",
            "\u001b[1m22/22\u001b[0m \u001b[32m━━━━━━━━━━━━━━━━━━━━\u001b[0m\u001b[37m\u001b[0m \u001b[1m20s\u001b[0m 920ms/step - accuracy: 0.9099 - loss: 0.2701 - val_accuracy: 0.9059 - val_loss: 0.3064\n",
            "Epoch 4/5\n",
            "\u001b[1m22/22\u001b[0m \u001b[32m━━━━━━━━━━━━━━━━━━━━\u001b[0m\u001b[37m\u001b[0m \u001b[1m23s\u001b[0m 1s/step - accuracy: 0.9163 - loss: 0.2873 - val_accuracy: 0.9059 - val_loss: 0.2998\n",
            "Epoch 5/5\n",
            "\u001b[1m22/22\u001b[0m \u001b[32m━━━━━━━━━━━━━━━━━━━━\u001b[0m\u001b[37m\u001b[0m \u001b[1m41s\u001b[0m 1s/step - accuracy: 0.9099 - loss: 0.2689 - val_accuracy: 0.8765 - val_loss: 0.2986\n",
            "BLSTM Fold 1 - Test Loss: 0.3471, Test Accuracy: 0.8451\n",
            "Training on Fold 2/5...\n",
            "Epoch 1/5\n",
            "\u001b[1m22/22\u001b[0m \u001b[32m━━━━━━━━━━━━━━━━━━━━\u001b[0m\u001b[37m\u001b[0m \u001b[1m31s\u001b[0m 1s/step - accuracy: 0.8600 - loss: 0.4847 - val_accuracy: 0.8941 - val_loss: 0.3441\n",
            "Epoch 2/5\n",
            "\u001b[1m22/22\u001b[0m \u001b[32m━━━━━━━━━━━━━━━━━━━━\u001b[0m\u001b[37m\u001b[0m \u001b[1m40s\u001b[0m 957ms/step - accuracy: 0.8861 - loss: 0.3152 - val_accuracy: 0.8941 - val_loss: 0.3436\n",
            "Epoch 3/5\n",
            "\u001b[1m22/22\u001b[0m \u001b[32m━━━━━━━━━━━━━━━━━━━━\u001b[0m\u001b[37m\u001b[0m \u001b[1m25s\u001b[0m 1s/step - accuracy: 0.8922 - loss: 0.3126 - val_accuracy: 0.8941 - val_loss: 0.3406\n",
            "Epoch 4/5\n",
            "\u001b[1m22/22\u001b[0m \u001b[32m━━━━━━━━━━━━━━━━━━━━\u001b[0m\u001b[37m\u001b[0m \u001b[1m39s\u001b[0m 1s/step - accuracy: 0.8831 - loss: 0.3384 - val_accuracy: 0.8882 - val_loss: 0.3389\n",
            "Epoch 5/5\n",
            "\u001b[1m22/22\u001b[0m \u001b[32m━━━━━━━━━━━━━━━━━━━━\u001b[0m\u001b[37m\u001b[0m \u001b[1m40s\u001b[0m 1s/step - accuracy: 0.8919 - loss: 0.3181 - val_accuracy: 0.8765 - val_loss: 0.3332\n",
            "BLSTM Fold 2 - Test Loss: 0.2501, Test Accuracy: 0.9202\n",
            "Training on Fold 3/5...\n",
            "Epoch 1/5\n",
            "\u001b[1m22/22\u001b[0m \u001b[32m━━━━━━━━━━━━━━━━━━━━\u001b[0m\u001b[37m\u001b[0m \u001b[1m34s\u001b[0m 1s/step - accuracy: 0.7593 - loss: 0.4997 - val_accuracy: 0.8941 - val_loss: 0.3385\n",
            "Epoch 2/5\n",
            "\u001b[1m22/22\u001b[0m \u001b[32m━━━━━━━━━━━━━━━━━━━━\u001b[0m\u001b[37m\u001b[0m \u001b[1m21s\u001b[0m 965ms/step - accuracy: 0.8822 - loss: 0.3358 - val_accuracy: 0.8941 - val_loss: 0.3353\n",
            "Epoch 3/5\n",
            "\u001b[1m22/22\u001b[0m \u001b[32m━━━━━━━━━━━━━━━━━━━━\u001b[0m\u001b[37m\u001b[0m \u001b[1m41s\u001b[0m 958ms/step - accuracy: 0.9002 - loss: 0.2830 - val_accuracy: 0.8941 - val_loss: 0.3328\n",
            "Epoch 4/5\n",
            "\u001b[1m22/22\u001b[0m \u001b[32m━━━━━━━━━━━━━━━━━━━━\u001b[0m\u001b[37m\u001b[0m \u001b[1m42s\u001b[0m 1s/step - accuracy: 0.8771 - loss: 0.3440 - val_accuracy: 0.8941 - val_loss: 0.3306\n",
            "Epoch 5/5\n",
            "\u001b[1m22/22\u001b[0m \u001b[32m━━━━━━━━━━━━━━━━━━━━\u001b[0m\u001b[37m\u001b[0m \u001b[1m22s\u001b[0m 955ms/step - accuracy: 0.8816 - loss: 0.3157 - val_accuracy: 0.8882 - val_loss: 0.3277\n",
            "BLSTM Fold 3 - Test Loss: 0.2884, Test Accuracy: 0.8821\n",
            "Training on Fold 4/5...\n",
            "Epoch 1/5\n",
            "\u001b[1m22/22\u001b[0m \u001b[32m━━━━━━━━━━━━━━━━━━━━\u001b[0m\u001b[37m\u001b[0m \u001b[1m32s\u001b[0m 1s/step - accuracy: 0.8613 - loss: 0.4796 - val_accuracy: 0.9118 - val_loss: 0.2905\n",
            "Epoch 2/5\n",
            "\u001b[1m22/22\u001b[0m \u001b[32m━━━━━━━━━━━━━━━━━━━━\u001b[0m\u001b[37m\u001b[0m \u001b[1m40s\u001b[0m 1s/step - accuracy: 0.8926 - loss: 0.3194 - val_accuracy: 0.9059 - val_loss: 0.2952\n",
            "Epoch 3/5\n",
            "\u001b[1m22/22\u001b[0m \u001b[32m━━━━━━━━━━━━━━━━━━━━\u001b[0m\u001b[37m\u001b[0m \u001b[1m41s\u001b[0m 1s/step - accuracy: 0.9003 - loss: 0.2915 - val_accuracy: 0.8941 - val_loss: 0.2954\n",
            "Epoch 4/5\n",
            "\u001b[1m22/22\u001b[0m \u001b[32m━━━━━━━━━━━━━━━━━━━━\u001b[0m\u001b[37m\u001b[0m \u001b[1m43s\u001b[0m 1s/step - accuracy: 0.8961 - loss: 0.3257 - val_accuracy: 0.9059 - val_loss: 0.2887\n",
            "Epoch 5/5\n",
            "\u001b[1m22/22\u001b[0m \u001b[32m━━━━━━━━━━━━━━━━━━━━\u001b[0m\u001b[37m\u001b[0m \u001b[1m39s\u001b[0m 1s/step - accuracy: 0.8946 - loss: 0.3115 - val_accuracy: 0.8706 - val_loss: 0.2771\n",
            "BLSTM Fold 4 - Test Loss: 0.3553, Test Accuracy: 0.8726\n",
            "Training on Fold 5/5...\n",
            "Epoch 1/5\n",
            "\u001b[1m22/22\u001b[0m \u001b[32m━━━━━━━━━━━━━━━━━━━━\u001b[0m\u001b[37m\u001b[0m \u001b[1m34s\u001b[0m 1s/step - accuracy: 0.8022 - loss: 0.4743 - val_accuracy: 0.9059 - val_loss: 0.3063\n",
            "Epoch 2/5\n",
            "\u001b[1m22/22\u001b[0m \u001b[32m━━━━━━━━━━━━━━━━━━━━\u001b[0m\u001b[37m\u001b[0m \u001b[1m38s\u001b[0m 1s/step - accuracy: 0.8965 - loss: 0.2926 - val_accuracy: 0.9000 - val_loss: 0.3127\n",
            "Epoch 3/5\n",
            "\u001b[1m22/22\u001b[0m \u001b[32m━━━━━━━━━━━━━━━━━━━━\u001b[0m\u001b[37m\u001b[0m \u001b[1m41s\u001b[0m 1s/step - accuracy: 0.8905 - loss: 0.3495 - val_accuracy: 0.9000 - val_loss: 0.3066\n",
            "Epoch 4/5\n",
            "\u001b[1m22/22\u001b[0m \u001b[32m━━━━━━━━━━━━━━━━━━━━\u001b[0m\u001b[37m\u001b[0m \u001b[1m50s\u001b[0m 1s/step - accuracy: 0.8904 - loss: 0.3367 - val_accuracy: 0.8824 - val_loss: 0.3078\n",
            "Epoch 5/5\n",
            "\u001b[1m22/22\u001b[0m \u001b[32m━━━━━━━━━━━━━━━━━━━━\u001b[0m\u001b[37m\u001b[0m \u001b[1m36s\u001b[0m 1s/step - accuracy: 0.9164 - loss: 0.2972 - val_accuracy: 0.8765 - val_loss: 0.3030\n",
            "BLSTM Fold 5 - Test Loss: 0.2929, Test Accuracy: 0.8679\n",
            "Average Accuracy: 0.8775799393653869\n"
          ]
        }
      ]
    },
    {
      "cell_type": "code",
      "source": [
        "gru_accuracies = []\n",
        "gru_losses = []\n",
        "\n",
        "for fold, (train_index, test_index) in enumerate(folds_indices):\n",
        "    print(f\"Training on Fold {fold+1}/{k_folds}...\")\n",
        "\n",
        "    X_train, X_test = data[train_index], data[test_index]\n",
        "    y_train, y_test = labels[train_index], labels[test_index]\n",
        "\n",
        "    print(f\"\\nTraining GRU Model on Fold {fold+1}...\")\n",
        "    gru_model = Sequential([\n",
        "        Embedding(input_dim=len(word_index) + 1, output_dim=embedding_dim, input_length=max_length),\n",
        "        GRU(32, return_sequences=False, dropout=0.3, recurrent_dropout=0.1),\n",
        "        Dense(1, activation='sigmoid')\n",
        "    ])\n",
        "\n",
        "    gru_model.compile(optimizer='adam', loss='binary_crossentropy', metrics=['accuracy'])\n",
        "    gru_model.fit(X_train, y_train, epochs=epochs, batch_size=batch_size, validation_split=0.2, verbose=1)\n",
        "\n",
        "    gru_loss, gru_accuracy = gru_model.evaluate(X_test, y_test, verbose=0)\n",
        "    gru_accuracies.append(gru_accuracy)\n",
        "    gru_losses.append(gru_loss)\n",
        "    print(f\"GRU Fold {fold+1} - Test Loss: {gru_loss:.4f}, Test Accuracy: {gru_accuracy:.4f}\")\n",
        "\n",
        "print(f\"Average Accuracy: {np.mean(gru_accuracies)}\")\n",
        "\n"
      ],
      "metadata": {
        "id": "WC15BepCdVVQ",
        "colab": {
          "base_uri": "https://localhost:8080/"
        },
        "outputId": "fd0a317c-9e95-4fb2-c0bc-59e8ddb3ee6e"
      },
      "execution_count": 26,
      "outputs": [
        {
          "output_type": "stream",
          "name": "stdout",
          "text": [
            "Training on Fold 1/5...\n",
            "\n",
            "Training GRU Model on Fold 1...\n",
            "Epoch 1/5\n",
            "\u001b[1m22/22\u001b[0m \u001b[32m━━━━━━━━━━━━━━━━━━━━\u001b[0m\u001b[37m\u001b[0m \u001b[1m23s\u001b[0m 619ms/step - accuracy: 0.7675 - loss: 0.5188 - val_accuracy: 0.9118 - val_loss: 0.3379\n",
            "Epoch 2/5\n",
            "\u001b[1m22/22\u001b[0m \u001b[32m━━━━━━━━━━━━━━━━━━━━\u001b[0m\u001b[37m\u001b[0m \u001b[1m17s\u001b[0m 770ms/step - accuracy: 0.8917 - loss: 0.3283 - val_accuracy: 0.9118 - val_loss: 0.3141\n",
            "Epoch 3/5\n",
            "\u001b[1m22/22\u001b[0m \u001b[32m━━━━━━━━━━━━━━━━━━━━\u001b[0m\u001b[37m\u001b[0m \u001b[1m17s\u001b[0m 615ms/step - accuracy: 0.8851 - loss: 0.3416 - val_accuracy: 0.9118 - val_loss: 0.3156\n",
            "Epoch 4/5\n",
            "\u001b[1m22/22\u001b[0m \u001b[32m━━━━━━━━━━━━━━━━━━━━\u001b[0m\u001b[37m\u001b[0m \u001b[1m14s\u001b[0m 649ms/step - accuracy: 0.8955 - loss: 0.3177 - val_accuracy: 0.9059 - val_loss: 0.3149\n",
            "Epoch 5/5\n",
            "\u001b[1m22/22\u001b[0m \u001b[32m━━━━━━━━━━━━━━━━━━━━\u001b[0m\u001b[37m\u001b[0m \u001b[1m19s\u001b[0m 580ms/step - accuracy: 0.9074 - loss: 0.3036 - val_accuracy: 0.9059 - val_loss: 0.3147\n",
            "GRU Fold 1 - Test Loss: 0.3565, Test Accuracy: 0.8732\n",
            "Training on Fold 2/5...\n",
            "\n",
            "Training GRU Model on Fold 2...\n",
            "Epoch 1/5\n",
            "\u001b[1m22/22\u001b[0m \u001b[32m━━━━━━━━━━━━━━━━━━━━\u001b[0m\u001b[37m\u001b[0m \u001b[1m20s\u001b[0m 707ms/step - accuracy: 0.8208 - loss: 0.5255 - val_accuracy: 0.8941 - val_loss: 0.3591\n",
            "Epoch 2/5\n",
            "\u001b[1m22/22\u001b[0m \u001b[32m━━━━━━━━━━━━━━━━━━━━\u001b[0m\u001b[37m\u001b[0m \u001b[1m14s\u001b[0m 648ms/step - accuracy: 0.8959 - loss: 0.3055 - val_accuracy: 0.8941 - val_loss: 0.3465\n",
            "Epoch 3/5\n",
            "\u001b[1m22/22\u001b[0m \u001b[32m━━━━━━━━━━━━━━━━━━━━\u001b[0m\u001b[37m\u001b[0m \u001b[1m11s\u001b[0m 523ms/step - accuracy: 0.8730 - loss: 0.3428 - val_accuracy: 0.8941 - val_loss: 0.3474\n",
            "Epoch 4/5\n",
            "\u001b[1m22/22\u001b[0m \u001b[32m━━━━━━━━━━━━━━━━━━━━\u001b[0m\u001b[37m\u001b[0m \u001b[1m10s\u001b[0m 451ms/step - accuracy: 0.8933 - loss: 0.3254 - val_accuracy: 0.8941 - val_loss: 0.3467\n",
            "Epoch 5/5\n",
            "\u001b[1m22/22\u001b[0m \u001b[32m━━━━━━━━━━━━━━━━━━━━\u001b[0m\u001b[37m\u001b[0m \u001b[1m11s\u001b[0m 505ms/step - accuracy: 0.8910 - loss: 0.3207 - val_accuracy: 0.8882 - val_loss: 0.3474\n",
            "GRU Fold 2 - Test Loss: 0.2657, Test Accuracy: 0.9249\n",
            "Training on Fold 3/5...\n",
            "\n",
            "Training GRU Model on Fold 3...\n",
            "Epoch 1/5\n",
            "\u001b[1m22/22\u001b[0m \u001b[32m━━━━━━━━━━━━━━━━━━━━\u001b[0m\u001b[37m\u001b[0m \u001b[1m16s\u001b[0m 514ms/step - accuracy: 0.8410 - loss: 0.5321 - val_accuracy: 0.8941 - val_loss: 0.3576\n",
            "Epoch 2/5\n",
            "\u001b[1m22/22\u001b[0m \u001b[32m━━━━━━━━━━━━━━━━━━━━\u001b[0m\u001b[37m\u001b[0m \u001b[1m11s\u001b[0m 474ms/step - accuracy: 0.8795 - loss: 0.3616 - val_accuracy: 0.8941 - val_loss: 0.3439\n",
            "Epoch 3/5\n",
            "\u001b[1m22/22\u001b[0m \u001b[32m━━━━━━━━━━━━━━━━━━━━\u001b[0m\u001b[37m\u001b[0m \u001b[1m21s\u001b[0m 515ms/step - accuracy: 0.8706 - loss: 0.3583 - val_accuracy: 0.8941 - val_loss: 0.3414\n",
            "Epoch 4/5\n",
            "\u001b[1m22/22\u001b[0m \u001b[32m━━━━━━━━━━━━━━━━━━━━\u001b[0m\u001b[37m\u001b[0m \u001b[1m12s\u001b[0m 528ms/step - accuracy: 0.8857 - loss: 0.3384 - val_accuracy: 0.8941 - val_loss: 0.3427\n",
            "Epoch 5/5\n",
            "\u001b[1m22/22\u001b[0m \u001b[32m━━━━━━━━━━━━━━━━━━━━\u001b[0m\u001b[37m\u001b[0m \u001b[1m20s\u001b[0m 493ms/step - accuracy: 0.8983 - loss: 0.3036 - val_accuracy: 0.8941 - val_loss: 0.3404\n",
            "GRU Fold 3 - Test Loss: 0.3056, Test Accuracy: 0.8821\n",
            "Training on Fold 4/5...\n",
            "\n",
            "Training GRU Model on Fold 4...\n",
            "Epoch 1/5\n",
            "\u001b[1m22/22\u001b[0m \u001b[32m━━━━━━━━━━━━━━━━━━━━\u001b[0m\u001b[37m\u001b[0m \u001b[1m16s\u001b[0m 557ms/step - accuracy: 0.7878 - loss: 0.5206 - val_accuracy: 0.9118 - val_loss: 0.3026\n",
            "Epoch 2/5\n",
            "\u001b[1m22/22\u001b[0m \u001b[32m━━━━━━━━━━━━━━━━━━━━\u001b[0m\u001b[37m\u001b[0m \u001b[1m20s\u001b[0m 516ms/step - accuracy: 0.9034 - loss: 0.2822 - val_accuracy: 0.9118 - val_loss: 0.2979\n",
            "Epoch 3/5\n",
            "\u001b[1m22/22\u001b[0m \u001b[32m━━━━━━━━━━━━━━━━━━━━\u001b[0m\u001b[37m\u001b[0m \u001b[1m11s\u001b[0m 503ms/step - accuracy: 0.8708 - loss: 0.3317 - val_accuracy: 0.9059 - val_loss: 0.2986\n",
            "Epoch 4/5\n",
            "\u001b[1m22/22\u001b[0m \u001b[32m━━━━━━━━━━━━━━━━━━━━\u001b[0m\u001b[37m\u001b[0m \u001b[1m21s\u001b[0m 533ms/step - accuracy: 0.8967 - loss: 0.3004 - val_accuracy: 0.9059 - val_loss: 0.2988\n",
            "Epoch 5/5\n",
            "\u001b[1m22/22\u001b[0m \u001b[32m━━━━━━━━━━━━━━━━━━━━\u001b[0m\u001b[37m\u001b[0m \u001b[1m20s\u001b[0m 526ms/step - accuracy: 0.8877 - loss: 0.3304 - val_accuracy: 0.9059 - val_loss: 0.3002\n",
            "GRU Fold 4 - Test Loss: 0.3848, Test Accuracy: 0.8679\n",
            "Training on Fold 5/5...\n",
            "\n",
            "Training GRU Model on Fold 5...\n",
            "Epoch 1/5\n",
            "\u001b[1m22/22\u001b[0m \u001b[32m━━━━━━━━━━━━━━━━━━━━\u001b[0m\u001b[37m\u001b[0m \u001b[1m19s\u001b[0m 613ms/step - accuracy: 0.8863 - loss: 0.5044 - val_accuracy: 0.9059 - val_loss: 0.3159\n",
            "Epoch 2/5\n",
            "\u001b[1m22/22\u001b[0m \u001b[32m━━━━━━━━━━━━━━━━━━━━\u001b[0m\u001b[37m\u001b[0m \u001b[1m13s\u001b[0m 587ms/step - accuracy: 0.8849 - loss: 0.3326 - val_accuracy: 0.9059 - val_loss: 0.3099\n",
            "Epoch 3/5\n",
            "\u001b[1m22/22\u001b[0m \u001b[32m━━━━━━━━━━━━━━━━━━━━\u001b[0m\u001b[37m\u001b[0m \u001b[1m20s\u001b[0m 579ms/step - accuracy: 0.8619 - loss: 0.3602 - val_accuracy: 0.9059 - val_loss: 0.3106\n",
            "Epoch 4/5\n",
            "\u001b[1m22/22\u001b[0m \u001b[32m━━━━━━━━━━━━━━━━━━━━\u001b[0m\u001b[37m\u001b[0m \u001b[1m20s\u001b[0m 576ms/step - accuracy: 0.9057 - loss: 0.3183 - val_accuracy: 0.9118 - val_loss: 0.3104\n",
            "Epoch 5/5\n",
            "\u001b[1m22/22\u001b[0m \u001b[32m━━━━━━━━━━━━━━━━━━━━\u001b[0m\u001b[37m\u001b[0m \u001b[1m20s\u001b[0m 551ms/step - accuracy: 0.9120 - loss: 0.3008 - val_accuracy: 0.9000 - val_loss: 0.3109\n",
            "GRU Fold 5 - Test Loss: 0.3063, Test Accuracy: 0.9009\n",
            "Average Accuracy: 0.8898131012916565\n"
          ]
        }
      ]
    },
    {
      "cell_type": "markdown",
      "source": [
        "### Comparison"
      ],
      "metadata": {
        "id": "TvU1jOSnfArK"
      }
    },
    {
      "cell_type": "code",
      "source": [
        "# Plot accuracy for each fold\n",
        "folds = range(1, k_folds + 1)\n",
        "\n",
        "plt.figure(figsize=(10, 6))\n",
        "plt.plot(folds, blstm_accuracies, marker='o', label='BLSTM Accuracy')\n",
        "plt.plot(folds, gru_accuracies, marker='s', label='GRU Accuracy')\n",
        "\n",
        "plt.title('Accuracy per Fold (BLSTM vs GRU)', fontsize=14)\n",
        "plt.xlabel('Fold', fontsize=12)\n",
        "plt.ylabel('Accuracy', fontsize=12)\n",
        "plt.xticks(folds)  # Ensure x-axis has integer fold numbers\n",
        "plt.ylim(0, 1)  # Accuracy ranges from 0 to 1\n",
        "plt.grid(True)\n",
        "plt.legend(fontsize=12)\n",
        "plt.show()\n"
      ],
      "metadata": {
        "id": "7iN-V3T8fACU",
        "colab": {
          "base_uri": "https://localhost:8080/",
          "height": 566
        },
        "outputId": "b31f1576-fb9a-4bf3-dd39-8c81696edda8"
      },
      "execution_count": 27,
      "outputs": [
        {
          "output_type": "display_data",
          "data": {
            "text/plain": [
              "<Figure size 1000x600 with 1 Axes>"
            ],
            "image/png": "[encoded data removed]"
          },
          "metadata": {}
        }
      ]
    },
    {
      "cell_type": "code",
      "source": [
        "# Plot Losses for each fold\n",
        "folds = range(1, k_folds + 1)\n",
        "\n",
        "plt.figure(figsize=(10, 6))\n",
        "plt.plot(folds, blstm_losses, marker='o', label='BLSTM Losses')\n",
        "plt.plot(folds, gru_losses, marker='s', label='GRU Losses')\n",
        "\n",
        "plt.title('Losses per Fold (BLSTM vs GRU)', fontsize=14)\n",
        "plt.xlabel('Fold', fontsize=12)\n",
        "plt.ylabel('Losses', fontsize=12)\n",
        "plt.xticks(folds)  # Ensure x-axis has integer fold numbers\n",
        "plt.ylim(0, 1)  # Losses ranges from 0 to 1\n",
        "plt.grid(True)\n",
        "plt.legend(fontsize=12)\n",
        "plt.show()\n"
      ],
      "metadata": {
        "id": "zqE7or9Jtmtp",
        "colab": {
          "base_uri": "https://localhost:8080/",
          "height": 566
        },
        "outputId": "f9785717-8b74-49ed-d248-10a4742012c0"
      },
      "execution_count": 28,
      "outputs": [
        {
          "output_type": "display_data",
          "data": {
            "text/plain": [
              "<Figure size 1000x600 with 1 Axes>"
            ],
            "image/png": "[encoded data removed]"
          },
          "metadata": {}
        }
      ]
    },
    {
      "cell_type": "markdown",
      "source": [
        "## CVE Details for multi label classification"
      ],
      "metadata": {
        "id": "jjplVO7X9ziY"
      }
    },
    {
      "cell_type": "markdown",
      "source": [
        " Files containing vulnerable code are named using their corresponding CVE ID. Information about the CVEs is retrieved by sending requests to the NDV (National Vulnerability Database - https://www.google.com/url?q=https%3A%2F%2Fnvd.nist.gov%2Fdevelopers%2Fvulnerabilities ) through its API.\n",
        "\n",
        " Vulnerabilities can be classified in:\n",
        " * CVSS:\n",
        "  * **Low**: CVSS score from 0.0 to 3.9\n",
        "  * **Medium**: CVSS score from 4.0 to 6.9\n",
        "  * **High**: CVSS score from 7.0 to 8.9\n",
        "  * **Critical**: CVSS score from 9.0 to 10.0\n",
        "\n",
        "* CWE"
      ],
      "metadata": {
        "id": "fgWb523Iq6iL"
      }
    },
    {
      "cell_type": "code",
      "source": [
        "cve_files = []\n",
        "\n",
        "directories = [libpng_modified_vuln_path, vlc_modified_vuln_path, pidgin_modified_vuln_path]\n",
        "\n",
        "pattern = re.compile(r\"(?i)(?:^|_)cve-(\\d{4})-(\\d{4,5})\")\n",
        "# Scan each directory\n",
        "for directory in directories:\n",
        "  for file in os.listdir(directory):\n",
        "    # Search in the file name\n",
        "    match = pattern.search(file)\n",
        "    if match:\n",
        "        formatted_name = f\"CVE-{match.group(1)}-{match.group(2)}\"\n",
        "        cve_files.append(formatted_name)\n",
        "\n",
        "\n",
        "print(f\"Vulnerable files: (CVE): {len(cve_files)}\")\n",
        "\n",
        "occurrences = Counter(cve_files)\n",
        "table_data = [(cve, count) for cve, count in occurrences.items()]\n",
        "print(tabulate(table_data, headers=[\"CVE\", \"Occorrenze\"], tablefmt=\"grid\"))\n"
      ],
      "metadata": {
        "colab": {
          "base_uri": "https://localhost:8080/"
        },
        "id": "sduXWVmiXdzg",
        "outputId": "f8d267e2-e3ea-4972-ddb7-e85870d19004"
      },
      "execution_count": 29,
      "outputs": [
        {
          "output_type": "stream",
          "name": "stdout",
          "text": [
            "Vulnerable files: (CVE)  118\n",
            "+----------------+--------------+\n",
            "| CVE            |   Occorrenze |\n",
            "+================+==============+\n",
            "| CVE-2015-0973  |            1 |\n",
            "+----------------+--------------+\n",
            "| CVE-2004-0599  |            2 |\n",
            "+----------------+--------------+\n",
            "| CVE-2014-9495  |            1 |\n",
            "+----------------+--------------+\n",
            "| CVE-2011-3464  |            1 |\n",
            "+----------------+--------------+\n",
            "| CVE-2011-0408  |            2 |\n",
            "+----------------+--------------+\n",
            "| CVE-2004-0597  |            3 |\n",
            "+----------------+--------------+\n",
            "| CVE-2007-2445  |            1 |\n",
            "+----------------+--------------+\n",
            "| CVE-2006-0481  |            1 |\n",
            "+----------------+--------------+\n",
            "| CVE-2012-3425  |            1 |\n",
            "+----------------+--------------+\n",
            "| CVE-2008-5907  |            1 |\n",
            "+----------------+--------------+\n",
            "| CVE-2018-13785 |            1 |\n",
            "+----------------+--------------+\n",
            "| CVE-2011-3328  |            1 |\n",
            "+----------------+--------------+\n",
            "| CVE-2007-5269  |            2 |\n",
            "+----------------+--------------+\n",
            "| CVE-2015-8126  |            2 |\n",
            "+----------------+--------------+\n",
            "| CVE-2011-2501  |            1 |\n",
            "+----------------+--------------+\n",
            "| CVE-2006-3334  |            1 |\n",
            "+----------------+--------------+\n",
            "| CVE-2007-5629  |            1 |\n",
            "+----------------+--------------+\n",
            "| CVE-2008-6218  |            1 |\n",
            "+----------------+--------------+\n",
            "| CVE-2013-7354  |            2 |\n",
            "+----------------+--------------+\n",
            "| CVE-2015-8472  |            1 |\n",
            "+----------------+--------------+\n",
            "| CVE-2016-10087 |            1 |\n",
            "+----------------+--------------+\n",
            "| CVE-2009-5063  |            1 |\n",
            "+----------------+--------------+\n",
            "| CVE-2013-6954  |            1 |\n",
            "+----------------+--------------+\n",
            "| CVE-2014-0333  |            1 |\n",
            "+----------------+--------------+\n",
            "| CVE-2004-0598  |            1 |\n",
            "+----------------+--------------+\n",
            "| CVE-2007-5267  |            1 |\n",
            "+----------------+--------------+\n",
            "| CVE-2015-7981  |            1 |\n",
            "+----------------+--------------+\n",
            "| CVE-2018-14048 |            1 |\n",
            "+----------------+--------------+\n",
            "| CVE-2015-8540  |            1 |\n",
            "+----------------+--------------+\n",
            "| CVE-2013-7353  |            1 |\n",
            "+----------------+--------------+\n",
            "| CVE-2010-0205  |            1 |\n",
            "+----------------+--------------+\n",
            "| CVE-2006-5793  |            1 |\n",
            "+----------------+--------------+\n",
            "| CVE-2011-3048  |            1 |\n",
            "+----------------+--------------+\n",
            "| CVE-2011-2692  |            1 |\n",
            "+----------------+--------------+\n",
            "| CVE-2009-0040  |            1 |\n",
            "+----------------+--------------+\n",
            "| CVE-2006-7244  |            1 |\n",
            "+----------------+--------------+\n",
            "| CVE-2007-5266  |            1 |\n",
            "+----------------+--------------+\n",
            "| CVE-2011-3045  |            1 |\n",
            "+----------------+--------------+\n",
            "| CVE-2011-3623  |            3 |\n",
            "+----------------+--------------+\n",
            "| CVE-2008-5276  |            1 |\n",
            "+----------------+--------------+\n",
            "| CVE-2008-1489  |            1 |\n",
            "+----------------+--------------+\n",
            "| CVE-2016-3941  |            1 |\n",
            "+----------------+--------------+\n",
            "| CVE-2011-0522  |            2 |\n",
            "+----------------+--------------+\n",
            "| CVE-2010-2062  |            1 |\n",
            "+----------------+--------------+\n",
            "| CVE-2007-6682  |            1 |\n",
            "+----------------+--------------+\n",
            "| CVE-2008-5036  |            1 |\n",
            "+----------------+--------------+\n",
            "| CVE-2011-1684  |            1 |\n",
            "+----------------+--------------+\n",
            "| CVE-2017-8313  |            1 |\n",
            "+----------------+--------------+\n",
            "| CVE-2010-3907  |            2 |\n",
            "+----------------+--------------+\n",
            "| CVE-2017-8310  |            1 |\n",
            "+----------------+--------------+\n",
            "| CVE-2008-1881  |            1 |\n",
            "+----------------+--------------+\n",
            "| CVE-2011-2587  |            1 |\n",
            "+----------------+--------------+\n",
            "| CVE-2018-19857 |            1 |\n",
            "+----------------+--------------+\n",
            "| CVE-2007-0017  |            3 |\n",
            "+----------------+--------------+\n",
            "| CVE-2014-9598  |            1 |\n",
            "+----------------+--------------+\n",
            "| CVE-2014-1684  |            1 |\n",
            "+----------------+--------------+\n",
            "| CVE-2010-1443  |            1 |\n",
            "+----------------+--------------+\n",
            "| CVE-2010-1444  |            1 |\n",
            "+----------------+--------------+\n",
            "| CVE-2008-4654  |            1 |\n",
            "+----------------+--------------+\n",
            "| CVE-2008-3732  |            1 |\n",
            "+----------------+--------------+\n",
            "| CVE-2018-11516 |            1 |\n",
            "+----------------+--------------+\n",
            "| CVE-2010-3124  |            1 |\n",
            "+----------------+--------------+\n",
            "| CVE-2012-0023  |            1 |\n",
            "+----------------+--------------+\n",
            "| CVE-2008-3794  |            1 |\n",
            "+----------------+--------------+\n",
            "| CVE-2013-1954  |            1 |\n",
            "+----------------+--------------+\n",
            "| CVE-2016-5108  |            1 |\n",
            "+----------------+--------------+\n",
            "| CVE-2013-4388  |            1 |\n",
            "+----------------+--------------+\n",
            "| CVE-2009-2484  |            1 |\n",
            "+----------------+--------------+\n",
            "| CVE-2008-0984  |            1 |\n",
            "+----------------+--------------+\n",
            "| CVE-2014-9597  |            1 |\n",
            "+----------------+--------------+\n",
            "| CVE-2011-2588  |            1 |\n",
            "+----------------+--------------+\n",
            "| CVE-2010-2937  |            1 |\n",
            "+----------------+--------------+\n",
            "| CVE-2014-9743  |            1 |\n",
            "+----------------+--------------+\n",
            "| CVE-2008-2430  |            1 |\n",
            "+----------------+--------------+\n",
            "| CVE-2015-5949  |            1 |\n",
            "+----------------+--------------+\n",
            "| CVE-2017-8311  |            1 |\n",
            "+----------------+--------------+\n",
            "| CVE-2016-2380  |            1 |\n",
            "+----------------+--------------+\n",
            "| CVE-2010-1624  |            1 |\n",
            "+----------------+--------------+\n",
            "| CVE-2013-0273  |            1 |\n",
            "+----------------+--------------+\n",
            "| CVE-2013-6481  |            1 |\n",
            "+----------------+--------------+\n",
            "| CVE-2009-1376  |            1 |\n",
            "+----------------+--------------+\n",
            "| CVE-2011-2943  |            1 |\n",
            "+----------------+--------------+\n",
            "| CVE-2016-2375  |            1 |\n",
            "+----------------+--------------+\n",
            "| CVE-2014-3697  |            1 |\n",
            "+----------------+--------------+\n",
            "| CVE-2016-2376  |            1 |\n",
            "+----------------+--------------+\n",
            "| CVE-2011-3184  |            1 |\n",
            "+----------------+--------------+\n",
            "| CVE-2012-3374  |            1 |\n",
            "+----------------+--------------+\n",
            "| CVE-2011-4603  |            1 |\n",
            "+----------------+--------------+\n",
            "| CVE-2014-3698  |            1 |\n",
            "+----------------+--------------+\n",
            "| CVE-2009-2694  |            1 |\n",
            "+----------------+--------------+\n",
            "| CVE-2013-0272  |            1 |\n",
            "+----------------+--------------+\n",
            "| CVE-2016-2371  |            1 |\n",
            "+----------------+--------------+\n",
            "| CVE-2011-4939  |            1 |\n",
            "+----------------+--------------+\n",
            "| CVE-2013-6482  |            1 |\n",
            "+----------------+--------------+\n",
            "| CVE-2016-2374  |            1 |\n",
            "+----------------+--------------+\n",
            "| CVE-2013-6487  |            1 |\n",
            "+----------------+--------------+\n",
            "| CVE-2016-2377  |            1 |\n",
            "+----------------+--------------+\n",
            "| CVE-2013-6489  |            1 |\n",
            "+----------------+--------------+\n",
            "| CVE-2009-3083  |            1 |\n",
            "+----------------+--------------+\n",
            "| CVE-2010-2528  |            1 |\n",
            "+----------------+--------------+\n",
            "| CVE-2011-3594  |            1 |\n",
            "+----------------+--------------+\n",
            "| CVE-2009-3084  |            1 |\n",
            "+----------------+--------------+\n",
            "| CVE-2012-1178  |            1 |\n",
            "+----------------+--------------+\n",
            "| CVE-2008-2927  |            1 |\n",
            "+----------------+--------------+\n",
            "| CVE-2016-2366  |            1 |\n",
            "+----------------+--------------+\n"
          ]
        }
      ]
    },
    {
      "cell_type": "code",
      "source": [
        "import requests\n",
        "import time\n",
        "\n",
        "def get_cve_details(cve_id):\n",
        "    # URL to obtain vulnerability details from the NVD in JSON format\n",
        "    url = f'https://services.nvd.nist.gov/rest/json/cves/2.0/?cveId={cve_id}'\n",
        "\n",
        "    response = requests.get(url)\n",
        "    if response.status_code == 200:\n",
        "        data = response.json()\n",
        "        return data\n",
        "    elif response.status_code == 403:\n",
        "        time.sleep(30)\n",
        "        return get_cve_details(cve_id)\n",
        "    else:\n",
        "        print(f\"Error fetching data for {cve_id}: {response.status_code}\")\n",
        "        return None"
      ],
      "metadata": {
        "id": "mqJjlyXN-eem"
      },
      "execution_count": 34,
      "outputs": []
    },
    {
      "cell_type": "code",
      "source": [
        "def get_cve_cvss_cwe(cve_id):\n",
        "    data_cve = get_cve_details(cve_id)\n",
        "    if data_cve is None:\n",
        "        return None\n",
        "    try:\n",
        "      cvss_score = data_cve[\"vulnerabilities\"][0][\"cve\"][\"metrics\"][\"cvssMetricV2\"][0][\"cvssData\"][\"baseScore\"]\n",
        "    except KeyError:\n",
        "      print(f\"CVSS score not found for {cve_id}\")\n",
        "      cvss_score = None\n",
        "    try:\n",
        "      cvss_severity = data_cve[\"vulnerabilities\"][0][\"cve\"][\"metrics\"][\"cvssMetricV2\"][0][\"baseSeverity\"]\n",
        "    except KeyError:\n",
        "      print(f\"CVSS severity not found for {cve_id}\")\n",
        "      cvss_severity = None\n",
        "    try:\n",
        "      cwe_value = data_cve[\"vulnerabilities\"][0][\"cve\"][\"weaknesses\"][0][\"description\"][0][\"value\"]\n",
        "    except KeyError:\n",
        "      print(f\"CWE not found for {cve_id}\")\n",
        "      cwe_value = None\n",
        "    return cvss_score, cvss_severity, cwe_value\n",
        "\n",
        "cvss = []\n",
        "severity = []\n",
        "cwe = []\n",
        "\n",
        "for cve in cve_files:\n",
        "    cve_cvss, cve_severity, cve_cwe = get_cve_cvss_cwe(cve)\n",
        "    print(f\"{cve}: CVSS Score = {cve_cvss} Severity = {cve_severity}, CWE = {cve_cwe}\")\n",
        "    cvss.append(cve_cvss)\n",
        "    severity.append(cve_severity)\n",
        "    cwe.append(cve_cwe)\n"
      ],
      "metadata": {
        "colab": {
          "base_uri": "https://localhost:8080/"
        },
        "id": "L8NR05Se0xaK",
        "outputId": "9686376a-7b8f-47be-94da-ea8edcb3fb9d"
      },
      "execution_count": 41,
      "outputs": [
        {
          "output_type": "stream",
          "name": "stdout",
          "text": [
            "CVE-2015-0973: CVSS Score = 7.5 Severity = HIGH, CWE = CWE-119\n",
            "CVE-2004-0599: CVSS Score = 5.0 Severity = MEDIUM, CWE = NVD-CWE-Other\n",
            "CVE-2014-9495: CVSS Score = 10.0 Severity = HIGH, CWE = CWE-119\n",
            "CVE-2011-3464: CVSS Score = 7.5 Severity = HIGH, CWE = CWE-189\n",
            "CVE-2011-0408: CVSS Score = 6.8 Severity = MEDIUM, CWE = CWE-119\n",
            "CVE-2004-0597: CVSS Score = 10.0 Severity = HIGH, CWE = NVD-CWE-Other\n",
            "CVE-2004-0597: CVSS Score = 10.0 Severity = HIGH, CWE = NVD-CWE-Other\n",
            "CVE-2007-2445: CVSS Score = 5.0 Severity = MEDIUM, CWE = NVD-CWE-noinfo\n",
            "CVE-2006-0481: CVSS Score = 5.0 Severity = MEDIUM, CWE = CWE-119\n",
            "CVE-2012-3425: CVSS Score = 4.3 Severity = MEDIUM, CWE = CWE-119\n",
            "CVE-2008-5907: CVSS Score = 5.0 Severity = MEDIUM, CWE = NVD-CWE-noinfo\n",
            "CVE-2018-13785: CVSS Score = 4.3 Severity = MEDIUM, CWE = CWE-190\n",
            "CVE-2004-0599: CVSS Score = 5.0 Severity = MEDIUM, CWE = NVD-CWE-Other\n",
            "CVE-2011-3328: CVSS Score = 2.6 Severity = LOW, CWE = NVD-CWE-Other\n",
            "CVE-2007-5269: CVSS Score = 5.0 Severity = MEDIUM, CWE = CWE-20\n",
            "CVE-2004-0597: CVSS Score = 10.0 Severity = HIGH, CWE = NVD-CWE-Other\n",
            "CVE-2015-8126: CVSS Score = 7.5 Severity = HIGH, CWE = CWE-120\n",
            "CVE-2011-2501: CVSS Score = 4.3 Severity = MEDIUM, CWE = CWE-125\n",
            "CVE-2006-3334: CVSS Score = 7.5 Severity = HIGH, CWE = NVD-CWE-Other\n",
            "CVE-2007-5629: CVSS Score = 4.3 Severity = MEDIUM, CWE = CWE-79\n",
            "CVE-2008-6218: CVSS Score = 7.1 Severity = HIGH, CWE = CWE-399\n",
            "CVE-2011-0408: CVSS Score = 6.8 Severity = MEDIUM, CWE = CWE-119\n",
            "CVE-2013-7354: CVSS Score = 5.0 Severity = MEDIUM, CWE = CWE-189\n",
            "CVE-2015-8126: CVSS Score = 7.5 Severity = HIGH, CWE = CWE-120\n",
            "CVE-2015-8472: CVSS Score = 7.5 Severity = HIGH, CWE = CWE-119\n",
            "CVE-2016-10087: CVSS Score = 5.0 Severity = MEDIUM, CWE = CWE-476\n",
            "CVE-2009-5063: CVSS Score = 5.0 Severity = MEDIUM, CWE = CWE-401\n",
            "CVE-2013-6954: CVSS Score = 5.0 Severity = MEDIUM, CWE = NVD-CWE-Other\n",
            "CVE-2014-0333: CVSS Score = 5.0 Severity = MEDIUM, CWE = CWE-189\n",
            "CVE-2004-0598: CVSS Score = 5.0 Severity = MEDIUM, CWE = NVD-CWE-Other\n",
            "CVE-2007-5267: CVSS Score = 4.3 Severity = MEDIUM, CWE = CWE-189\n",
            "CVE-2015-7981: CVSS Score = 5.0 Severity = MEDIUM, CWE = CWE-200\n",
            "CVE-2013-7354: CVSS Score = 5.0 Severity = MEDIUM, CWE = CWE-189\n",
            "CVE-2018-14048: CVSS Score = 4.3 Severity = MEDIUM, CWE = NVD-CWE-noinfo\n",
            "CVE-2015-8540: CVSS Score = 9.3 Severity = HIGH, CWE = CWE-189\n",
            "CVE-2013-7353: CVSS Score = 5.0 Severity = MEDIUM, CWE = CWE-189\n",
            "CVE-2010-0205: CVSS Score = 4.3 Severity = MEDIUM, CWE = CWE-400\n",
            "CVE-2006-5793: CVSS Score = 2.6 Severity = LOW, CWE = CWE-20\n",
            "CVE-2011-3048: CVSS Score = 6.8 Severity = MEDIUM, CWE = CWE-119\n",
            "CVE-2011-2692: CVSS Score = 6.8 Severity = MEDIUM, CWE = CWE-119\n",
            "CVE-2009-0040: CVSS Score = 6.8 Severity = MEDIUM, CWE = CWE-824\n",
            "CVE-2007-5269: CVSS Score = 5.0 Severity = MEDIUM, CWE = CWE-20\n",
            "CVE-2006-7244: CVSS Score = 5.0 Severity = MEDIUM, CWE = CWE-399\n",
            "CVE-2007-5266: CVSS Score = 4.3 Severity = MEDIUM, CWE = CWE-189\n",
            "CVE-2011-3045: CVSS Score = 6.8 Severity = MEDIUM, CWE = CWE-190\n",
            "CVE-2011-3623: CVSS Score = 7.5 Severity = HIGH, CWE = CWE-119\n",
            "CVE-2008-5276: CVSS Score = 9.3 Severity = HIGH, CWE = CWE-189\n",
            "CVE-2008-1489: CVSS Score = 6.8 Severity = MEDIUM, CWE = CWE-189\n",
            "CVE-2016-3941: CVSS Score = 4.3 Severity = MEDIUM, CWE = CWE-119\n",
            "CVE-2011-0522: CVSS Score = 6.8 Severity = MEDIUM, CWE = CWE-119\n",
            "CVE-2010-2062: CVSS Score = 7.5 Severity = HIGH, CWE = CWE-189\n",
            "CVE-2007-6682: CVSS Score = 7.5 Severity = HIGH, CWE = NVD-CWE-Other\n",
            "CVE-2008-5036: CVSS Score = 9.3 Severity = HIGH, CWE = CWE-119\n",
            "CVE-2011-1684: CVSS Score = 6.8 Severity = MEDIUM, CWE = CWE-119\n",
            "CVE-2011-0522: CVSS Score = 6.8 Severity = MEDIUM, CWE = CWE-119\n",
            "CVE-2017-8313: CVSS Score = 4.3 Severity = MEDIUM, CWE = CWE-125\n",
            "CVE-2010-3907: CVSS Score = 9.3 Severity = HIGH, CWE = CWE-189\n",
            "CVE-2017-8310: CVSS Score = 4.3 Severity = MEDIUM, CWE = CWE-125\n",
            "CVE-2008-1881: CVSS Score = 6.8 Severity = MEDIUM, CWE = CWE-119\n",
            "CVE-2011-2587: CVSS Score = 6.8 Severity = MEDIUM, CWE = CWE-119\n",
            "CVE-2018-19857: CVSS Score = 6.4 Severity = MEDIUM, CWE = CWE-824\n",
            "CVE-2007-0017: CVSS Score = 6.8 Severity = MEDIUM, CWE = CWE-134\n",
            "CVE-2011-3623: CVSS Score = 7.5 Severity = HIGH, CWE = CWE-119\n",
            "CVE-2014-9598: CVSS Score = 6.8 Severity = MEDIUM, CWE = CWE-20\n",
            "CVE-2014-1684: CVSS Score = 4.3 Severity = MEDIUM, CWE = CWE-189\n",
            "CVE-2010-1443: CVSS Score = 5.0 Severity = MEDIUM, CWE = NVD-CWE-Other\n",
            "CVE-2010-1444: CVSS Score = 7.5 Severity = HIGH, CWE = CWE-119\n",
            "CVE-2008-4654: CVSS Score = 9.3 Severity = HIGH, CWE = CWE-119\n",
            "CVE-2008-3732: CVSS Score = 9.3 Severity = HIGH, CWE = CWE-189\n",
            "CVE-2018-11516: CVSS Score = 6.8 Severity = MEDIUM, CWE = CWE-416\n",
            "CVE-2010-3124: CVSS Score = 9.3 Severity = HIGH, CWE = NVD-CWE-Other\n",
            "CVE-2012-0023: CVSS Score = 9.3 Severity = HIGH, CWE = CWE-399\n",
            "CVE-2008-3794: CVSS Score = 6.8 Severity = MEDIUM, CWE = CWE-189\n",
            "CVE-2013-1954: CVSS Score = 6.8 Severity = MEDIUM, CWE = CWE-119\n",
            "CVE-2016-5108: CVSS Score = 7.5 Severity = HIGH, CWE = CWE-119\n",
            "CVE-2013-4388: CVSS Score = 6.8 Severity = MEDIUM, CWE = CWE-119\n",
            "CVE-2009-2484: CVSS Score = 9.3 Severity = HIGH, CWE = CWE-119\n",
            "CVE-2008-0984: CVSS Score = 9.3 Severity = HIGH, CWE = CWE-399\n",
            "CVE-2014-9597: CVSS Score = 6.8 Severity = MEDIUM, CWE = CWE-20\n",
            "CVE-2011-3623: CVSS Score = 7.5 Severity = HIGH, CWE = CWE-119\n",
            "CVE-2011-2588: CVSS Score = 6.8 Severity = MEDIUM, CWE = CWE-119\n",
            "CVE-2010-2937: CVSS Score = 5.0 Severity = MEDIUM, CWE = CWE-20\n",
            "CVE-2014-9743: CVSS Score = 4.3 Severity = MEDIUM, CWE = CWE-79\n",
            "CVE-2007-0017: CVSS Score = 6.8 Severity = MEDIUM, CWE = CWE-134\n",
            "CVE-2010-3907: CVSS Score = 9.3 Severity = HIGH, CWE = CWE-189\n",
            "CVE-2008-2430: CVSS Score = 9.3 Severity = HIGH, CWE = CWE-189\n",
            "CVE-2015-5949: CVSS Score = 6.8 Severity = MEDIUM, CWE = CWE-119\n",
            "CVE-2007-0017: CVSS Score = 6.8 Severity = MEDIUM, CWE = CWE-134\n",
            "CVE-2017-8311: CVSS Score = 6.8 Severity = MEDIUM, CWE = CWE-119\n",
            "CVE-2016-2380: CVSS Score = 4.3 Severity = MEDIUM, CWE = CWE-125\n",
            "CVE-2010-1624: CVSS Score = 5.0 Severity = MEDIUM, CWE = CWE-20\n",
            "CVE-2013-0273: CVSS Score = 5.0 Severity = MEDIUM, CWE = NVD-CWE-noinfo\n",
            "CVE-2013-6481: CVSS Score = 5.0 Severity = MEDIUM, CWE = CWE-119\n",
            "CVE-2009-1376: CVSS Score = 9.3 Severity = HIGH, CWE = CWE-189\n",
            "CVE-2011-2943: CVSS Score = 4.3 Severity = MEDIUM, CWE = NVD-CWE-Other\n",
            "CVE-2016-2375: CVSS Score = 5.0 Severity = MEDIUM, CWE = CWE-125\n",
            "CVE-2014-3697: CVSS Score = 6.4 Severity = MEDIUM, CWE = CWE-22\n",
            "CVE-2016-2376: CVSS Score = 6.8 Severity = MEDIUM, CWE = CWE-119\n",
            "CVE-2011-3184: CVSS Score = 4.3 Severity = MEDIUM, CWE = CWE-399\n",
            "CVE-2012-3374: CVSS Score = 7.5 Severity = HIGH, CWE = CWE-119\n",
            "CVE-2011-4603: CVSS Score = 5.0 Severity = MEDIUM, CWE = CWE-20\n",
            "CVE-2014-3698: CVSS Score = 5.0 Severity = MEDIUM, CWE = CWE-200\n",
            "CVE-2009-2694: CVSS Score = 10.0 Severity = HIGH, CWE = CWE-399\n",
            "CVE-2013-0272: CVSS Score = 6.8 Severity = MEDIUM, CWE = CWE-119\n",
            "CVE-2016-2371: CVSS Score = 6.8 Severity = MEDIUM, CWE = CWE-787\n",
            "CVE-2011-4939: CVSS Score = 6.4 Severity = MEDIUM, CWE = CWE-264\n",
            "CVE-2013-6482: CVSS Score = 5.0 Severity = MEDIUM, CWE = CWE-20\n",
            "CVE-2016-2374: CVSS Score = 6.8 Severity = MEDIUM, CWE = CWE-125\n",
            "CVE-2013-6487: CVSS Score = 7.5 Severity = HIGH, CWE = CWE-189\n",
            "CVE-2016-2377: CVSS Score = 6.8 Severity = MEDIUM, CWE = CWE-119\n",
            "CVE-2013-6489: CVSS Score = 5.0 Severity = MEDIUM, CWE = CWE-189\n",
            "CVE-2009-3083: CVSS Score = 5.0 Severity = MEDIUM, CWE = CWE-119\n",
            "CVE-2010-2528: CVSS Score = 4.0 Severity = MEDIUM, CWE = CWE-399\n",
            "CVE-2011-3594: CVSS Score = 4.3 Severity = MEDIUM, CWE = CWE-119\n",
            "CVE-2009-3084: CVSS Score = 5.0 Severity = MEDIUM, CWE = CWE-20\n",
            "CVE-2012-1178: CVSS Score = 5.0 Severity = MEDIUM, CWE = CWE-399\n",
            "CVE-2008-2927: CVSS Score = 6.8 Severity = MEDIUM, CWE = CWE-189\n",
            "CVE-2016-2366: CVSS Score = 4.3 Severity = MEDIUM, CWE = CWE-125\n"
          ]
        }
      ]
    },
    {
      "cell_type": "code",
      "source": [
        "title = [\"CVE\", \"CVSS\", \"Severity\", \"CWE\"]\n",
        "cves_info = np.vstack([title, np.column_stack([cve_files, cvss, severity, cwe])])\n",
        "np.savetxt(f\"{drive_path}/cves_info.csv\", cves_info, delimiter=\",\", fmt=\"%s\")"
      ],
      "metadata": {
        "id": "ShvwPUKaqBTZ"
      },
      "execution_count": 58,
      "outputs": []
    },
    {
      "cell_type": "code",
      "source": [
        "column_index = title.index(\"Severity\")\n",
        "severity_column = cves_info[1:, column_index]\n",
        "occurrences = Counter(severity_column)\n",
        "print(f\"Severity: {occurrences}\")"
      ],
      "metadata": {
        "colab": {
          "base_uri": "https://localhost:8080/"
        },
        "id": "s5KCfEEZugr_",
        "outputId": "e82459e7-f9a4-4ea9-a2da-7a7d0bed06a7"
      },
      "execution_count": 67,
      "outputs": [
        {
          "output_type": "stream",
          "name": "stdout",
          "text": [
            "Severity: Counter({'MEDIUM': 82, 'HIGH': 34, 'LOW': 2})\n"
          ]
        }
      ]
    },
    {
      "cell_type": "code",
      "source": [
        "column_index = title.index(\"CWE\")\n",
        "cwe_column = cves_info[1:, column_index]\n",
        "occurrences = Counter(cwe_column)\n",
        "print(f\"CWE: {occurrences}\")"
      ],
      "metadata": {
        "colab": {
          "base_uri": "https://localhost:8080/"
        },
        "id": "4ysW8Oih1c71",
        "outputId": "252f4aa0-64e1-4140-93ab-58e12db8b7ce"
      },
      "execution_count": 68,
      "outputs": [
        {
          "output_type": "stream",
          "name": "stdout",
          "text": [
            "CWE: Counter({'CWE-119': 35, 'CWE-189': 21, 'NVD-CWE-Other': 13, 'CWE-20': 10, 'CWE-399': 8, 'CWE-125': 7, 'NVD-CWE-noinfo': 4, 'CWE-134': 3, 'CWE-190': 2, 'CWE-120': 2, 'CWE-79': 2, 'CWE-200': 2, 'CWE-824': 2, 'CWE-476': 1, 'CWE-401': 1, 'CWE-400': 1, 'CWE-416': 1, 'CWE-22': 1, 'CWE-787': 1, 'CWE-264': 1})\n"
          ]
        }
      ]
    },
    {
      "cell_type": "markdown",
      "source": [
        "## Dataset preparation"
      ],
      "metadata": {
        "id": "4wbqNS8K2GiG"
      }
    },
    {
      "cell_type": "code",
      "source": [],
      "metadata": {
        "id": "d6tBUV0_2F6f"
      },
      "execution_count": null,
      "outputs": []
    }
  ]
}