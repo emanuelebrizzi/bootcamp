{
  "nbformat": 4,
  "nbformat_minor": 0,
  "metadata": {
    "colab": {
      "provenance": [],
      "authorship_tag": "ABX9TyN0soIw/nbGMZIudnQ3q/tS",
      "include_colab_link": true
    },
    "kernelspec": {
      "name": "python3",
      "display_name": "Python 3"
    },
    "language_info": {
      "name": "python"
    }
  },
  "cells": [
    {
      "cell_type": "markdown",
      "metadata": {
        "id": "view-in-github",
        "colab_type": "text"
      },
      "source": [
        "<a href=\"https://colab.research.google.com/github/emanuelebrizzi/bootcamp/blob/main/code_vulnerability_detection.ipynb\" target=\"_parent\"><img src=\"https://colab.research.google.com/assets/colab-badge.svg\" alt=\"Open In Colab\"/></a>"
      ]
    },
    {
      "cell_type": "code",
      "execution_count": 169,
      "metadata": {
        "id": "TXYDvCvi5XZq",
        "colab": {
          "base_uri": "https://localhost:8080/"
        },
        "outputId": "cd4a6613-ad60-4768-d87c-0f5f5db3d77f"
      },
      "outputs": [
        {
          "output_type": "stream",
          "name": "stdout",
          "text": [
            "Drive already mounted at /content/drive; to attempt to forcibly remount, call drive.mount(\"/content/drive\", force_remount=True).\n"
          ]
        }
      ],
      "source": [
        "#from google.colab import files\n",
        "#import zipfile\n",
        "#import os\n",
        "\n",
        "from google.colab import drive\n",
        "drive.mount(\"/content/drive\")"
      ]
    },
    {
      "cell_type": "markdown",
      "source": [
        "# **Dataset upload**\n"
      ],
      "metadata": {
        "id": "vwxvuUJnjbIH"
      }
    },
    {
      "cell_type": "code",
      "source": [
        "import os\n",
        "import glob\n",
        "\n",
        "# Directory path\n",
        "drive_path = \"/content/drive/MyDrive/bootcamp_file\"\n",
        "\n",
        "libpng_path = os.path.join(drive_path, \"LibPNG\")\n",
        "\n",
        "vuln_path = os.path.join(libpng_path, \"Vulnerable_functions\")\n",
        "non_vuln_path = os.path.join(libpng_path, \"Non_vulnerable_functions\")"
      ],
      "metadata": {
        "id": "9bSkiYW8bdvj"
      },
      "execution_count": 170,
      "outputs": []
    },
    {
      "cell_type": "code",
      "source": [
        "\n",
        "def load_files_from_folder(folder, label):\n",
        "    files = glob.glob(os.path.join(folder, \"*.c\"))\n",
        "    data = []\n",
        "    for file in files:\n",
        "        with open(file, \"r\", encoding=\"utf-8\", errors=\"ignore\") as f:\n",
        "            data.append((f.read(), label, os.path.basename(file)))\n",
        "    return data\n"
      ],
      "metadata": {
        "id": "LuhDeKSyd9Gf"
      },
      "execution_count": 171,
      "outputs": []
    },
    {
      "cell_type": "markdown",
      "source": [
        "# **Replace Function names and Variable names**"
      ],
      "metadata": {
        "id": "GrfMYRimjn3v"
      }
    },
    {
      "cell_type": "code",
      "source": [
        "import re\n",
        "import random\n",
        "import string\n",
        "from pathlib import Path"
      ],
      "metadata": {
        "id": "PfJOtGKtW-q3"
      },
      "execution_count": 172,
      "outputs": []
    },
    {
      "cell_type": "code",
      "source": [
        "def remove_comments(code):\n",
        "    \"\"\"Rimuove i commenti dal codice C.\"\"\"\n",
        "    code = re.sub(r'//.*', '', code)  # Rimuove commenti su singola riga\n",
        "    code = re.sub(r'/\\*.*?\\*/', '', code, flags=re.DOTALL)  # Rimuove commenti multi-linea\n",
        "    return code\n",
        "\n",
        "def generate_random_name(length=8):\n",
        "    \"\"\"Genera un nome casuale per variabili e funzioni.\"\"\"\n",
        "    return ''.join(random.choices(string.ascii_letters, k=length))\n",
        "\n",
        "def extract_identifiers(code):\n",
        "    \"\"\"Estrae nomi di variabili e funzioni dal codice C.\"\"\"\n",
        "    pattern = re.compile(r'\\b([a-zA-Z_][a-zA-Z0-9_]*)\\b')\n",
        "    keywords = set(['int', 'char', 'float', 'double', 'return', 'if', 'else', 'while', 'for', 'do', 'switch', 'case', 'void'])\n",
        "    identifiers = set(pattern.findall(code)) - keywords\n",
        "    return identifiers\n",
        "\n",
        "def categorize_identifiers(identifiers):\n",
        "    \"\"\"Classifica gli identificatori come variabili o funzioni.\"\"\"\n",
        "    var_counter, fun_counter = 1, 1\n",
        "    replacements = {}\n",
        "    for identifier in identifiers:\n",
        "        if re.search(r'\\b[A-Za-z_][A-Za-z0-9_]*\\s*\\(', identifier):\n",
        "            replacements[identifier] = f'fun_{fun_counter}'\n",
        "            fun_counter += 1\n",
        "        else:\n",
        "            replacements[identifier] = f'var_{var_counter}'\n",
        "            var_counter += 1\n",
        "    return replacements\n",
        "\n",
        "def replace_identifiers(code, replacements):\n",
        "    \"\"\"Sostituisce i nomi di variabili e funzioni con nuovi nomi.\"\"\"\n",
        "    for old, new in replacements.items():\n",
        "        code = re.sub(r'\\b' + re.escape(old) + r'\\b', new, code)\n",
        "    return code\n",
        "\n",
        "def process_c_file(filepath, new_filepath):\n",
        "    \"\"\"Legge un file C, sostituisce i nomi e salva il nuovo file.\"\"\"\n",
        "    with open(filepath, 'r', encoding='utf-8') as file:\n",
        "        code = file.read()\n",
        "\n",
        "    code_no_comments = remove_comments(code)\n",
        "    identifiers = extract_identifiers(code_no_comments)\n",
        "    replacements = categorize_identifiers(identifiers)\n",
        "    new_code = replace_identifiers(code_no_comments, replacements)\n",
        "    with open(new_filepath, 'w', encoding='utf-8') as file:\n",
        "        file.write(new_code)\n",
        "\n",
        "def process_directory(directory, new_directory_path):\n",
        "    \"\"\"Processa tutti i file C in una directory.\"\"\"\n",
        "    for filepath in Path(directory).glob(\"*.c\"):\n",
        "        new_filepath = os.path.join(new_directory_path, os.path.basename(filepath))\n",
        "        process_c_file(filepath, new_filepath)"
      ],
      "metadata": {
        "id": "zqT_F2_Eoh7P"
      },
      "execution_count": 173,
      "outputs": []
    },
    {
      "cell_type": "markdown",
      "source": [
        "Execution:"
      ],
      "metadata": {
        "id": "0X-adtx-kMaN"
      }
    },
    {
      "cell_type": "code",
      "source": [
        "import shutil\n",
        "\n",
        "modified_vuln_path = os.path.join(vuln_path, \"modified_files\")\n",
        "\n",
        "if os.path.exists(modified_vuln_path):\n",
        "  shutil.rmtree(modified_vuln_path)\n",
        "os.makedirs(modified_vuln_path, exist_ok=True)\n",
        "process_directory(vuln_path, modified_vuln_path)\n",
        "\n",
        "\n",
        "modified_non_vuln_path = os.path.join(non_vuln_path, \"modified_files\")\n",
        "\n",
        "if os.path.exists(modified_non_vuln_path):\n",
        "  shutil.rmtree(modified_non_vuln_path)\n",
        "os.makedirs(modified_non_vuln_path, exist_ok=True)\n",
        "process_directory(non_vuln_path, modified_non_vuln_path)"
      ],
      "metadata": {
        "id": "LyBFy5YFsLh9"
      },
      "execution_count": 179,
      "outputs": []
    },
    {
      "cell_type": "markdown",
      "source": [
        "# **Tokenization**"
      ],
      "metadata": {
        "id": "64IdDxx_pF_o"
      }
    },
    {
      "cell_type": "code",
      "source": [
        "from pygments.lexers import CppLexer\n",
        "from pygments.token import Token\n",
        "from pygments import lex\n",
        "\n",
        "def tokenize_c_code(code):\n",
        "    \"\"\"\n",
        "    Tokenizes C code using Pygments and returns a list of token types.\n",
        "    \"\"\"\n",
        "    lexer = CppLexer()\n",
        "    tokens = lex(code, lexer)\n",
        "\n",
        "    token_list = []\n",
        "    for ttype, value in tokens:\n",
        "        if ttype in Token.Text or ttype in Token.Comment:\n",
        "            continue  # Ignore whitespace and comments\n",
        "        token_list.append(value)\n",
        "\n",
        "    return token_list"
      ],
      "metadata": {
        "colab": {
          "base_uri": "https://localhost:8080/"
        },
        "id": "WPX1eUrSIrOO",
        "outputId": "150c3ba5-2f7e-49e7-b41f-06f13cf35b45"
      },
      "execution_count": 183,
      "outputs": [
        {
          "output_type": "stream",
          "name": "stdout",
          "text": [
            "['int', 'main', '(', ')', '{', 'int', 'a', '=', '10', ';', 'printf', '(', '\"', 'Hello, World!', '\"', ')', ';', 'return', '0', ';', '}']\n"
          ]
        }
      ]
    },
    {
      "cell_type": "code",
      "source": [
        "\n",
        "# Exemple\n",
        "tokens = tokenize_c_code(c_code)\n",
        "print(tokens)"
      ],
      "metadata": {
        "id": "Khkb39UaMNAU"
      },
      "execution_count": null,
      "outputs": []
    },
    {
      "cell_type": "markdown",
      "source": [],
      "metadata": {
        "id": "pHRNGhLQpG8h"
      }
    }
  ]
}