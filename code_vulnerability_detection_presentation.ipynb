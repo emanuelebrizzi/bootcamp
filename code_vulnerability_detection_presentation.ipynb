{
  "nbformat": 4,
  "nbformat_minor": 0,
  "metadata": {
    "colab": {
      "provenance": [],
      "authorship_tag": "ABX9TyNoaVsQ8dP/yOBFVETF8QJ7",
      "include_colab_link": true
    },
    "kernelspec": {
      "name": "python3",
      "display_name": "Python 3"
    },
    "language_info": {
      "name": "python"
    }
  },
  "cells": [
    {
      "cell_type": "markdown",
      "metadata": {
        "id": "view-in-github",
        "colab_type": "text"
      },
      "source": [
        "<a href=\"https://colab.research.google.com/github/emanuelebrizzi/bootcamp/blob/main/code_vulnerability_detection_presentation.ipynb\" target=\"_parent\"><img src=\"https://colab.research.google.com/assets/colab-badge.svg\" alt=\"Open In Colab\"/></a>"
      ]
    },
    {
      "cell_type": "markdown",
      "source": [
        "The goal is to do code vulnerability detection using deep learning techniques. For this purpose, I utilized data available at https://github.com/Seahymn2019/Function-level-Vulnerability-Dataset/blob/master/Vulnerable%20Functions%20Statistical%20Analysis.md, which includes code from three distinct open-source projects: LibPNG, Pidgin and VLC."
      ],
      "metadata": {
        "id": "-N87C1O-kzwD"
      }
    },
    {
      "cell_type": "markdown",
      "source": [
        "# **Data upload**\n"
      ],
      "metadata": {
        "id": "vwxvuUJnjbIH"
      }
    },
    {
      "cell_type": "code",
      "execution_count": 1,
      "metadata": {
        "id": "TXYDvCvi5XZq",
        "colab": {
          "base_uri": "https://localhost:8080/"
        },
        "outputId": "ffd04d70-4850-4241-c7b9-28a5af32e99a"
      },
      "outputs": [
        {
          "output_type": "stream",
          "name": "stdout",
          "text": [
            "Mounted at /content/drive\n"
          ]
        }
      ],
      "source": [
        "from google.colab import drive\n",
        "drive.mount(\"/content/drive\")"
      ]
    },
    {
      "cell_type": "code",
      "source": [
        "import os\n",
        "import glob\n",
        "\n",
        "# Directory path\n",
        "drive_path = \"/content/drive/MyDrive/bootcamp_file\"\n",
        "\n",
        "libpng_path = os.path.join(drive_path, \"LibPNG\")\n",
        "\n",
        "libpng_vuln_path = os.path.join(libpng_path, \"Vulnerable_functions\")\n",
        "libpng_non_vuln_path = os.path.join(libpng_path, \"Non_vulnerable_functions\")\n",
        "\n",
        "vlc_path = os.path.join(drive_path, \"VLC\")\n",
        "\n",
        "vlc_vuln_path = os.path.join(vlc_path, \"Vulnerable_functions\")\n",
        "vlc_non_vuln_path = os.path.join(vlc_path, \"Non_vulnerable_functions\")\n",
        "\n",
        "pidgin_path = os.path.join(drive_path, \"Pidgin\")\n",
        "\n",
        "pidgin_vuln_path = os.path.join(pidgin_path, \"Vulnerable_functions\")\n",
        "pidgin_non_vuln_path = os.path.join(pidgin_path, \"Non_vulnerable_functions\")\n"
      ],
      "metadata": {
        "id": "9bSkiYW8bdvj"
      },
      "execution_count": 2,
      "outputs": []
    },
    {
      "cell_type": "code",
      "source": [
        "\n",
        "def load_files_from_folder(folder, label):\n",
        "    files = glob.glob(os.path.join(folder, \"*.c\"))\n",
        "    data = []\n",
        "    for file in files:\n",
        "        with open(file, \"r\", encoding=\"utf-8\", errors=\"ignore\") as f:\n",
        "            data.append((f.read(), label, os.path.basename(file)))\n",
        "    return data\n"
      ],
      "metadata": {
        "id": "LuhDeKSyd9Gf"
      },
      "execution_count": 3,
      "outputs": []
    },
    {
      "cell_type": "markdown",
      "source": [
        "# **Replace Function names and Variable names**"
      ],
      "metadata": {
        "id": "GrfMYRimjn3v"
      }
    },
    {
      "cell_type": "markdown",
      "source": [
        "Removing comments inside code files.\n",
        "\n",
        "Replacing of function and variable names with generic or unified identifiers. This transformation helps reduce the superficial variability of the source code, making it easier to detect vulnerability patterns that might be obscured by specific names."
      ],
      "metadata": {
        "id": "WZXEwCQ0k4br"
      }
    },
    {
      "cell_type": "code",
      "source": [
        "import re\n",
        "import random\n",
        "import string\n",
        "from pathlib import Path"
      ],
      "metadata": {
        "id": "PfJOtGKtW-q3"
      },
      "execution_count": 4,
      "outputs": []
    },
    {
      "cell_type": "code",
      "source": [
        "# Removes comments from C code\n",
        "def remove_comments(code):\n",
        "    code = re.sub(r'//.*', '', code)\n",
        "    code = re.sub(r'/\\*.*?\\*/', '', code, flags=re.DOTALL)\n",
        "    return code\n",
        "\n",
        "# Extracts variable and function names from C code\n",
        "def extract_identifiers(code):\n",
        "    pattern = re.compile(r'\\b([a-zA-Z_][a-zA-Z0-9_]*)\\b')\n",
        "    keywords = set(['int', 'char', 'float', 'double', 'return', 'if', 'else', 'while', 'for', 'do', 'switch', 'case', 'void'])\n",
        "    identifiers = set(pattern.findall(code)) - keywords\n",
        "    return identifiers\n",
        "\n",
        "# Classifies identifiers as variables or functions\n",
        "def categorize_identifiers(identifiers):\n",
        "    var_counter, fun_counter = 1, 1\n",
        "    replacements = {}\n",
        "    for identifier in identifiers:\n",
        "        if re.search(r'\\b[A-Za-z_][A-Za-z0-9_]*\\s*\\(', identifier):\n",
        "            replacements[identifier] = f'fun_{fun_counter}'\n",
        "            fun_counter += 1\n",
        "        else:\n",
        "            replacements[identifier] = f'var_{var_counter}'\n",
        "            var_counter += 1\n",
        "    return replacements\n",
        "\n",
        "# Replaces variable and function names with new names\n",
        "def replace_identifiers(code, replacements):\n",
        "\n",
        "    for old, new in replacements.items():\n",
        "        code = re.sub(r'\\b' + re.escape(old) + r'\\b', new, code)\n",
        "    return code\n",
        "\n",
        "# Reads a C file, replaces names, and saves the new file\n",
        "def process_c_file(filepath, new_filepath):\n",
        "    with open(filepath, 'r', encoding='Latin-1') as file:\n",
        "        code = file.read()\n",
        "\n",
        "    code_no_comments = remove_comments(code)\n",
        "    identifiers = extract_identifiers(code_no_comments)\n",
        "    replacements = categorize_identifiers(identifiers)\n",
        "    new_code = replace_identifiers(code_no_comments, replacements)\n",
        "    with open(new_filepath, 'w', encoding='Latin-1') as file:\n",
        "        file.write(new_code)\n",
        "\n",
        "# Processes all C files in a directory\n",
        "def process_directory(directory, new_directory_path):\n",
        "    for filepath in Path(directory).glob(\"*.c\"):\n",
        "        new_filepath = os.path.join(new_directory_path, os.path.basename(filepath))\n",
        "        process_c_file(filepath, new_filepath)"
      ],
      "metadata": {
        "id": "zqT_F2_Eoh7P"
      },
      "execution_count": 5,
      "outputs": []
    },
    {
      "cell_type": "code",
      "source": [
        "modified_path = os.path.join(drive_path, \"modified_files\")\n",
        "libpng_modified = os.path.join(modified_path, \"LibPNG\")\n",
        "vlc_modified = os.path.join(modified_path, \"VLC\")\n",
        "pidgin_modified = os.path.join(modified_path, \"Pidgin\")\n",
        "libpng_modified_vuln_path = os.path.join(libpng_modified, \"Vulnerable_functions\")\n",
        "libpng_modified_non_vuln_path = os.path.join(libpng_modified, \"Non_vulnerable_functions\")\n",
        "vlc_modified_vuln_path = os.path.join(vlc_modified, \"Vulnerable_functions\")\n",
        "vlc_modified_non_vuln_path = os.path.join(vlc_modified, \"Non_vulnerable_functions\")\n",
        "pidgin_modified_vuln_path = os.path.join(pidgin_modified, \"Vulnerable_functions\")\n",
        "pidgin_modified_non_vuln_path = os.path.join(pidgin_modified, \"Non_vulnerable_functions\")\n"
      ],
      "metadata": {
        "id": "LyBFy5YFsLh9"
      },
      "execution_count": 6,
      "outputs": []
    },
    {
      "cell_type": "code",
      "source": [
        "import shutil\n",
        "\n",
        "def create_directory(directory_path):\n",
        "    if os.path.exists(directory_path):\n",
        "        shutil.rmtree(directory_path)\n",
        "    os.makedirs(directory_path, exist_ok=True)\n",
        "\n",
        "\n",
        "create_directory(modified_path)\n",
        "create_directory(libpng_modified)\n",
        "create_directory(vlc_modified)\n",
        "create_directory(pidgin_modified)\n",
        "create_directory(libpng_modified_vuln_path)\n",
        "create_directory(libpng_modified_non_vuln_path)\n",
        "create_directory(vlc_modified_vuln_path)\n",
        "create_directory(vlc_modified_non_vuln_path)\n",
        "create_directory(pidgin_modified_vuln_path)\n",
        "create_directory(pidgin_modified_non_vuln_path)"
      ],
      "metadata": {
        "id": "QUiSQG558Tav"
      },
      "execution_count": null,
      "outputs": []
    },
    {
      "cell_type": "code",
      "source": [
        "process_directory(libpng_vuln_path, libpng_modified_vuln_path)\n",
        "process_directory(libpng_non_vuln_path, libpng_modified_non_vuln_path)\n",
        "process_directory(vlc_vuln_path, vlc_modified_vuln_path)\n",
        "process_directory(vlc_non_vuln_path, vlc_modified_non_vuln_path)\n",
        "process_directory(pidgin_vuln_path, pidgin_modified_vuln_path)\n",
        "process_directory(pidgin_non_vuln_path, pidgin_modified_non_vuln_path)"
      ],
      "metadata": {
        "id": "CqKnDKBGloVC"
      },
      "execution_count": null,
      "outputs": []
    },
    {
      "cell_type": "markdown",
      "source": [
        "# Dataset preparation"
      ],
      "metadata": {
        "id": "dm5U2rLuQaow"
      }
    },
    {
      "cell_type": "code",
      "source": [
        "import os\n",
        "import numpy as np\n",
        "from collections import Counter\n",
        "from tabulate import tabulate\n",
        "import random\n",
        "import os\n",
        "import re"
      ],
      "metadata": {
        "id": "2SK_9iAc8pI-"
      },
      "execution_count": 7,
      "outputs": []
    },
    {
      "cell_type": "code",
      "source": [
        "# Load and label data\n",
        "def load_data_directoies(directories, label):\n",
        "    data = []\n",
        "    for directory in directories:  # Iteriamo sulle directory della lista\n",
        "        for filename in os.listdir(directory):  # Ora directory è una stringa\n",
        "            with open(os.path.join(directory, filename), 'r') as file:\n",
        "                data.append((file.read(), label))\n",
        "    return data\n",
        "vulnerable_files = load_data_directoies([libpng_modified_vuln_path, vlc_modified_vuln_path, pidgin_modified_vuln_path], label=1)\n",
        "non_vulnerable_files = load_data_directoies([libpng_modified_non_vuln_path, vlc_modified_non_vuln_path, pidgin_modified_non_vuln_path], label=0)\n",
        "\n",
        "# Combine and shuffle dataset\n",
        "dataset = vulnerable_files + non_vulnerable_files\n",
        "np.random.shuffle(dataset)\n",
        "\n",
        "texts, labels = zip(*dataset)"
      ],
      "metadata": {
        "id": "qrqqOl26TYbe"
      },
      "execution_count": 9,
      "outputs": []
    },
    {
      "cell_type": "markdown",
      "source": [
        "### Dataset info"
      ],
      "metadata": {
        "id": "HzUuTtbUxZ05"
      }
    },
    {
      "cell_type": "code",
      "source": [
        "print(\"Vulnerable files: \", len(vulnerable_files))\n",
        "print(\"Non Vulnerable files: \", len(non_vulnerable_files))\n",
        "print(\"Dataset files: \", len(dataset))"
      ],
      "metadata": {
        "colab": {
          "base_uri": "https://localhost:8080/"
        },
        "id": "kwD77zOi3sMu",
        "outputId": "bc6eda64-bd19-4c1e-ef5a-312536068703"
      },
      "execution_count": 10,
      "outputs": [
        {
          "output_type": "stream",
          "name": "stdout",
          "text": [
            "Vulnerable files:  118\n",
            "Non Vulnerable files:  15318\n",
            "Dataset files:  15436\n"
          ]
        }
      ]
    },
    {
      "cell_type": "code",
      "source": [
        "n = len(vulnerable_files) * 5\n",
        "\n",
        "non_vulnerable_files_selected = random.sample(non_vulnerable_files, min(n, len(non_vulnerable_files)))\n",
        "\n",
        "dataset = vulnerable_files + non_vulnerable_files_selected\n",
        "random.shuffle(dataset)\n",
        "\n",
        "texts, labels = zip(*dataset)\n"
      ],
      "metadata": {
        "id": "pCOTAxZP6alL"
      },
      "execution_count": 11,
      "outputs": []
    },
    {
      "cell_type": "code",
      "source": [
        "print(\"Vulnerable files: \", len(vulnerable_files))\n",
        "print(\"Non Vulnerable files: \", len(non_vulnerable_files_selected))\n",
        "print(\"Dataset files: \", len(dataset))"
      ],
      "metadata": {
        "colab": {
          "base_uri": "https://localhost:8080/"
        },
        "id": "nOQkFV1ByMLn",
        "outputId": "75cbb898-ce66-473a-c6d2-5a086a536316"
      },
      "execution_count": 12,
      "outputs": [
        {
          "output_type": "stream",
          "name": "stdout",
          "text": [
            "Vulnerable files:  118\n",
            "Non Vulnerable files:  590\n",
            "Dataset files:  708\n"
          ]
        }
      ]
    },
    {
      "cell_type": "markdown",
      "source": [
        "# Models"
      ],
      "metadata": {
        "id": "5HVkeHkAiXiO"
      }
    },
    {
      "cell_type": "code",
      "source": [
        "from sklearn.model_selection import train_test_split\n",
        "from tensorflow.keras.preprocessing.text import Tokenizer\n",
        "from tensorflow.keras.preprocessing.sequence import pad_sequences\n",
        "from tensorflow.keras.models import Sequential\n",
        "from tensorflow.keras.layers import Embedding, Bidirectional, LSTM, Dense, Dropout, GRU\n"
      ],
      "metadata": {
        "id": "I_vpja7HQvXW"
      },
      "execution_count": 13,
      "outputs": []
    },
    {
      "cell_type": "code",
      "source": [
        "# Tokenize the data\n",
        "tokenizer = Tokenizer()\n",
        "tokenizer.fit_on_texts(texts)\n",
        "sequences = tokenizer.texts_to_sequences(texts)\n",
        "word_index = tokenizer.word_index"
      ],
      "metadata": {
        "id": "oXXKaGGbQ1ZN"
      },
      "execution_count": 14,
      "outputs": []
    },
    {
      "cell_type": "code",
      "source": [
        "max_length = 500  # Adjust based on dataset\n",
        "data = pad_sequences(sequences, maxlen=max_length, padding='post')\n",
        "labels = np.array(labels)"
      ],
      "metadata": {
        "id": "IhPxDh3eJowy"
      },
      "execution_count": 15,
      "outputs": []
    },
    {
      "cell_type": "code",
      "source": [
        "# Split dataset into train, validation, and test sets\n",
        "X_train, X_test, y_train, y_test = train_test_split(data, labels, test_size=0.2, random_state=42)\n",
        "X_train, X_val, y_train, y_val = train_test_split(X_train, y_train, test_size=0.25, random_state=42)"
      ],
      "metadata": {
        "id": "Vo0yCMFYK9oC"
      },
      "execution_count": 16,
      "outputs": []
    },
    {
      "cell_type": "code",
      "source": [
        "embedding_dim = 128\n",
        "batch_size = 32\n",
        "epochs = 5"
      ],
      "metadata": {
        "id": "B2mvNfTxNXhx"
      },
      "execution_count": 17,
      "outputs": []
    },
    {
      "cell_type": "markdown",
      "source": [
        "BLSTM Model"
      ],
      "metadata": {
        "id": "Y1OqNuBpMp9P"
      }
    },
    {
      "cell_type": "code",
      "source": [
        "# Model Creation\n",
        "blstm_model = Sequential([\n",
        "    Embedding(input_dim=len(word_index) + 1, output_dim=embedding_dim, input_length=max_length),\n",
        "    Bidirectional(LSTM(32, return_sequences=False, dropout=0.3, recurrent_dropout=0.1)),\n",
        "    Dense(1, activation='sigmoid')\n",
        "])\n",
        "\n",
        "blstm_model.compile(optimizer='adam', loss='binary_crossentropy', metrics=['accuracy'])\n",
        "\n",
        "# Train BLSTM model\n",
        "print(\"Training BLSTM Model...\")\n",
        "blstm_history = blstm_model.fit(X_train, y_train, epochs=epochs, batch_size=batch_size, validation_data=(X_val, y_val))\n",
        "\n",
        "# Evaluate BLSTM model\n",
        "blstm_loss, blstm_accuracy = blstm_model.evaluate(X_test, y_test)\n",
        "print(f\"BLSTM Test Loss: {blstm_loss}\")\n",
        "print(f\"BLSTM Test Accuracy: {blstm_accuracy}\")\n",
        "\n",
        "# Predict using BLSTM model\n",
        "blstm_predictions = blstm_model.predict(X_test)\n",
        "blstm_y_pred = (blstm_predictions > 0.5).astype(int)"
      ],
      "metadata": {
        "colab": {
          "base_uri": "https://localhost:8080/"
        },
        "id": "ScxPHUSJiZco",
        "outputId": "f5576d38-2aaa-48aa-bfe5-7448da79f536"
      },
      "execution_count": 18,
      "outputs": [
        {
          "output_type": "stream",
          "name": "stdout",
          "text": [
            "Training BLSTM Model...\n",
            "Epoch 1/5\n"
          ]
        },
        {
          "output_type": "stream",
          "name": "stderr",
          "text": [
            "/usr/local/lib/python3.11/dist-packages/keras/src/layers/core/embedding.py:90: UserWarning: Argument `input_length` is deprecated. Just remove it.\n",
            "  warnings.warn(\n"
          ]
        },
        {
          "output_type": "stream",
          "name": "stdout",
          "text": [
            "\u001b[1m14/14\u001b[0m \u001b[32m━━━━━━━━━━━━━━━━━━━━\u001b[0m\u001b[37m\u001b[0m \u001b[1m27s\u001b[0m 1s/step - accuracy: 0.7858 - loss: 0.5615 - val_accuracy: 0.8732 - val_loss: 0.3693\n",
            "Epoch 2/5\n",
            "\u001b[1m14/14\u001b[0m \u001b[32m━━━━━━━━━━━━━━━━━━━━\u001b[0m\u001b[37m\u001b[0m \u001b[1m22s\u001b[0m 1s/step - accuracy: 0.8218 - loss: 0.4382 - val_accuracy: 0.8732 - val_loss: 0.3664\n",
            "Epoch 3/5\n",
            "\u001b[1m14/14\u001b[0m \u001b[32m━━━━━━━━━━━━━━━━━━━━\u001b[0m\u001b[37m\u001b[0m \u001b[1m17s\u001b[0m 1s/step - accuracy: 0.8506 - loss: 0.3703 - val_accuracy: 0.8662 - val_loss: 0.3660\n",
            "Epoch 4/5\n",
            "\u001b[1m14/14\u001b[0m \u001b[32m━━━━━━━━━━━━━━━━━━━━\u001b[0m\u001b[37m\u001b[0m \u001b[1m20s\u001b[0m 1s/step - accuracy: 0.8400 - loss: 0.4117 - val_accuracy: 0.8662 - val_loss: 0.3650\n",
            "Epoch 5/5\n",
            "\u001b[1m14/14\u001b[0m \u001b[32m━━━━━━━━━━━━━━━━━━━━\u001b[0m\u001b[37m\u001b[0m \u001b[1m20s\u001b[0m 1s/step - accuracy: 0.8726 - loss: 0.3651 - val_accuracy: 0.8592 - val_loss: 0.3617\n",
            "\u001b[1m5/5\u001b[0m \u001b[32m━━━━━━━━━━━━━━━━━━━━\u001b[0m\u001b[37m\u001b[0m \u001b[1m1s\u001b[0m 138ms/step - accuracy: 0.7228 - loss: 0.6346\n",
            "BLSTM Test Loss: 0.5211753249168396\n",
            "BLSTM Test Accuracy: 0.7816901206970215\n",
            "\u001b[1m5/5\u001b[0m \u001b[32m━━━━━━━━━━━━━━━━━━━━\u001b[0m\u001b[37m\u001b[0m \u001b[1m2s\u001b[0m 350ms/step\n"
          ]
        }
      ]
    },
    {
      "cell_type": "markdown",
      "source": [
        "GRU Model"
      ],
      "metadata": {
        "id": "eh8tdaq5Mtx2"
      }
    },
    {
      "cell_type": "code",
      "source": [
        "# GRU Model Creation\n",
        "gru_model = Sequential([\n",
        "    Embedding(input_dim=len(word_index) + 1, output_dim=embedding_dim, input_length=max_length),\n",
        "    GRU(32, return_sequences=False, dropout=0.3, recurrent_dropout=0.1),\n",
        "    Dense(1, activation='sigmoid')\n",
        "])\n",
        "\n",
        "gru_model.compile(optimizer='adam', loss='binary_crossentropy', metrics=['accuracy'])\n",
        "\n",
        "# Train GRU model\n",
        "print(\"Training GRU Model...\")\n",
        "gru_history = gru_model.fit(X_train, y_train, epochs=epochs, batch_size=batch_size, validation_data=(X_val, y_val))\n",
        "\n",
        "# Evaluate GRU model\n",
        "gru_loss, gru_accuracy = gru_model.evaluate(X_test, y_test)\n",
        "print(f\"GRU Test Loss: {gru_loss}\")\n",
        "print(f\"GRU Test Accuracy: {gru_accuracy}\")\n",
        "\n",
        "# Predict using GRU model\n",
        "gru_predictions = gru_model.predict(X_test)\n",
        "gru_y_pred = (gru_predictions > 0.5).astype(int)"
      ],
      "metadata": {
        "colab": {
          "base_uri": "https://localhost:8080/"
        },
        "id": "MfeKtPxYKWBb",
        "outputId": "6c3e8516-e309-4bd7-9255-76af443f38bb"
      },
      "execution_count": 19,
      "outputs": [
        {
          "output_type": "stream",
          "name": "stdout",
          "text": [
            "Training GRU Model...\n",
            "Epoch 1/5\n",
            "\u001b[1m14/14\u001b[0m \u001b[32m━━━━━━━━━━━━━━━━━━━━\u001b[0m\u001b[37m\u001b[0m \u001b[1m14s\u001b[0m 622ms/step - accuracy: 0.7160 - loss: 0.5792 - val_accuracy: 0.8732 - val_loss: 0.3738\n",
            "Epoch 2/5\n",
            "\u001b[1m14/14\u001b[0m \u001b[32m━━━━━━━━━━━━━━━━━━━━\u001b[0m\u001b[37m\u001b[0m \u001b[1m10s\u001b[0m 645ms/step - accuracy: 0.8292 - loss: 0.3966 - val_accuracy: 0.8803 - val_loss: 0.3753\n",
            "Epoch 3/5\n",
            "\u001b[1m14/14\u001b[0m \u001b[32m━━━━━━━━━━━━━━━━━━━━\u001b[0m\u001b[37m\u001b[0m \u001b[1m8s\u001b[0m 484ms/step - accuracy: 0.8744 - loss: 0.3743 - val_accuracy: 0.8662 - val_loss: 0.3760\n",
            "Epoch 4/5\n",
            "\u001b[1m14/14\u001b[0m \u001b[32m━━━━━━━━━━━━━━━━━━━━\u001b[0m\u001b[37m\u001b[0m \u001b[1m11s\u001b[0m 507ms/step - accuracy: 0.8813 - loss: 0.3825 - val_accuracy: 0.8451 - val_loss: 0.3772\n",
            "Epoch 5/5\n",
            "\u001b[1m14/14\u001b[0m \u001b[32m━━━━━━━━━━━━━━━━━━━━\u001b[0m\u001b[37m\u001b[0m \u001b[1m11s\u001b[0m 538ms/step - accuracy: 0.8982 - loss: 0.3776 - val_accuracy: 0.8310 - val_loss: 0.3782\n",
            "\u001b[1m5/5\u001b[0m \u001b[32m━━━━━━━━━━━━━━━━━━━━\u001b[0m\u001b[37m\u001b[0m \u001b[1m0s\u001b[0m 88ms/step - accuracy: 0.7470 - loss: 0.6313\n",
            "GRU Test Loss: 0.5230332612991333\n",
            "GRU Test Accuracy: 0.7957746386528015\n",
            "\u001b[1m5/5\u001b[0m \u001b[32m━━━━━━━━━━━━━━━━━━━━\u001b[0m\u001b[37m\u001b[0m \u001b[1m1s\u001b[0m 180ms/step\n"
          ]
        }
      ]
    },
    {
      "cell_type": "markdown",
      "source": [
        "### Comparison"
      ],
      "metadata": {
        "id": "HIv5yEs3Mv5y"
      }
    },
    {
      "cell_type": "code",
      "source": [
        "import matplotlib.pyplot as plt"
      ],
      "metadata": {
        "id": "1JxQpghQT3tg"
      },
      "execution_count": 20,
      "outputs": []
    },
    {
      "cell_type": "code",
      "source": [
        "# Accuracy comparison\n",
        "plt.plot(blstm_history.history['accuracy'], label='BLSTM Accuracy')\n",
        "plt.plot(blstm_history.history['val_accuracy'], label='BLSTM Val Accuracy')\n",
        "plt.plot(gru_history.history['accuracy'], label='GRU Accuracy')\n",
        "plt.plot(gru_history.history['val_accuracy'], label='GRU Val Accuracy')\n",
        "plt.title('Accuracy Comparison')\n",
        "plt.xlabel('Epochs')\n",
        "plt.ylabel('Accuracy')\n",
        "plt.xticks(ticks=range(0, epochs), labels=range(1, epochs + 1))\n",
        "plt.legend()\n",
        "plt.show()\n"
      ],
      "metadata": {
        "colab": {
          "base_uri": "https://localhost:8080/",
          "height": 472
        },
        "id": "9OixV15bN0CO",
        "outputId": "dc514861-111b-42df-fbb5-9380aad114b6"
      },
      "execution_count": 21,
      "outputs": [
        {
          "output_type": "display_data",
          "data": {
            "text/plain": [
              "<Figure size 640x480 with 1 Axes>"
            ],
            "image/png": "[encoded data removed]"
          },
          "metadata": {}
        }
      ]
    },
    {
      "cell_type": "code",
      "source": [
        "# Loss comparison\n",
        "plt.plot(blstm_history.history['loss'], label='BLSTM Loss')\n",
        "plt.plot(blstm_history.history['val_loss'], label='BLSTM Val Loss')\n",
        "plt.plot(gru_history.history['loss'], label='GRU Loss')\n",
        "plt.plot(gru_history.history['val_loss'], label='GRU Val Loss')\n",
        "plt.title('Loss Comparison')\n",
        "plt.xlabel('Epochs')\n",
        "plt.ylabel('Loss')\n",
        "plt.xticks(ticks=range(0, epochs), labels=range(1, epochs + 1))\n",
        "plt.legend()\n",
        "plt.show()"
      ],
      "metadata": {
        "colab": {
          "base_uri": "https://localhost:8080/",
          "height": 472
        },
        "id": "n_n7PWPRRgYL",
        "outputId": "ab78a1c1-0f89-4e8e-a901-6037bb99bb15"
      },
      "execution_count": 22,
      "outputs": [
        {
          "output_type": "display_data",
          "data": {
            "text/plain": [
              "<Figure size 640x480 with 1 Axes>"
            ],
            "image/png": "[encoded data removed]"
          },
          "metadata": {}
        }
      ]
    },
    {
      "cell_type": "markdown",
      "source": [
        "## **Cross Validation** with K-Fold"
      ],
      "metadata": {
        "id": "cyrSzBrbyQpu"
      }
    },
    {
      "cell_type": "code",
      "source": [
        "from sklearn.model_selection import KFold\n",
        "\n",
        "# Define K-Fold Cross-Validation\n",
        "k_folds = 5\n",
        "kf = KFold(n_splits=k_folds, shuffle=True, random_state=42)\n",
        "\n",
        "embedding_dim = 128\n",
        "batch_size = 32\n",
        "epochs = 5\n",
        "\n",
        "folds_indices = list(kf.split(data))"
      ],
      "metadata": {
        "id": "kkq_9emGWLNG"
      },
      "execution_count": 23,
      "outputs": []
    },
    {
      "cell_type": "code",
      "source": [
        "blstm_accuracies = []\n",
        "blstm_losses = []\n",
        "\n",
        "for fold, (train_index, test_index) in enumerate(folds_indices):\n",
        "    print(f\"Training on Fold {fold+1}/{k_folds}...\")\n",
        "\n",
        "    X_train, X_test = data[train_index], data[test_index]\n",
        "    y_train, y_test = labels[train_index], labels[test_index]\n",
        "\n",
        "    # Model Creation\n",
        "    blstm_model = Sequential([\n",
        "        Embedding(input_dim=len(word_index) + 1, output_dim=embedding_dim, input_length=max_length),\n",
        "        Bidirectional(LSTM(32, return_sequences=False, dropout=0.3, recurrent_dropout=0.1)),\n",
        "        Dense(1, activation='sigmoid')\n",
        "    ])\n",
        "\n",
        "\n",
        "    blstm_model.compile(optimizer='adam', loss='binary_crossentropy', metrics=['accuracy'])\n",
        "    blstm_model.fit(X_train, y_train, epochs=epochs, batch_size=batch_size, validation_split=0.2, verbose=1)\n",
        "\n",
        "    blstm_loss, blstm_accuracy = blstm_model.evaluate(X_test, y_test, verbose=0)\n",
        "    blstm_accuracies.append(blstm_accuracy)\n",
        "    blstm_losses.append(blstm_loss)\n",
        "    print(f\"BLSTM Fold {fold+1} - Test Loss: {blstm_loss:.4f}, Test Accuracy: {blstm_accuracy:.4f}\")\n",
        "\n",
        "print(f\"Average Accuracy: {np.mean(blstm_accuracies)}\")\n",
        "\n",
        "\n",
        "\n"
      ],
      "metadata": {
        "colab": {
          "base_uri": "https://localhost:8080/"
        },
        "id": "qQVQ3o_8KBNJ",
        "outputId": "802114dc-7f8e-4293-bea7-32c4be6a7135"
      },
      "execution_count": 24,
      "outputs": [
        {
          "output_type": "stream",
          "name": "stdout",
          "text": [
            "Training on Fold 1/5...\n",
            "Epoch 1/5\n"
          ]
        },
        {
          "output_type": "stream",
          "name": "stderr",
          "text": [
            "/usr/local/lib/python3.11/dist-packages/keras/src/layers/core/embedding.py:90: UserWarning: Argument `input_length` is deprecated. Just remove it.\n",
            "  warnings.warn(\n"
          ]
        },
        {
          "output_type": "stream",
          "name": "stdout",
          "text": [
            "\u001b[1m15/15\u001b[0m \u001b[32m━━━━━━━━━━━━━━━━━━━━\u001b[0m\u001b[37m\u001b[0m \u001b[1m27s\u001b[0m 1s/step - accuracy: 0.7819 - loss: 0.5703 - val_accuracy: 0.9298 - val_loss: 0.2375\n",
            "Epoch 2/5\n",
            "\u001b[1m15/15\u001b[0m \u001b[32m━━━━━━━━━━━━━━━━━━━━\u001b[0m\u001b[37m\u001b[0m \u001b[1m19s\u001b[0m 1s/step - accuracy: 0.8418 - loss: 0.4012 - val_accuracy: 0.9298 - val_loss: 0.2601\n",
            "Epoch 3/5\n",
            "\u001b[1m15/15\u001b[0m \u001b[32m━━━━━━━━━━━━━━━━━━━━\u001b[0m\u001b[37m\u001b[0m \u001b[1m17s\u001b[0m 1s/step - accuracy: 0.8305 - loss: 0.4080 - val_accuracy: 0.9298 - val_loss: 0.2524\n",
            "Epoch 4/5\n",
            "\u001b[1m15/15\u001b[0m \u001b[32m━━━━━━━━━━━━━━━━━━━━\u001b[0m\u001b[37m\u001b[0m \u001b[1m20s\u001b[0m 1s/step - accuracy: 0.8417 - loss: 0.3809 - val_accuracy: 0.9298 - val_loss: 0.2456\n",
            "Epoch 5/5\n",
            "\u001b[1m15/15\u001b[0m \u001b[32m━━━━━━━━━━━━━━━━━━━━\u001b[0m\u001b[37m\u001b[0m \u001b[1m20s\u001b[0m 1s/step - accuracy: 0.8386 - loss: 0.4013 - val_accuracy: 0.9211 - val_loss: 0.2389\n",
            "BLSTM Fold 1 - Test Loss: 0.4779, Test Accuracy: 0.7817\n",
            "Training on Fold 2/5...\n",
            "Epoch 1/5\n",
            "\u001b[1m15/15\u001b[0m \u001b[32m━━━━━━━━━━━━━━━━━━━━\u001b[0m\u001b[37m\u001b[0m \u001b[1m27s\u001b[0m 1s/step - accuracy: 0.7204 - loss: 0.5791 - val_accuracy: 0.9123 - val_loss: 0.2736\n",
            "Epoch 2/5\n",
            "\u001b[1m15/15\u001b[0m \u001b[32m━━━━━━━━━━━━━━━━━━━━\u001b[0m\u001b[37m\u001b[0m \u001b[1m16s\u001b[0m 1s/step - accuracy: 0.8092 - loss: 0.4641 - val_accuracy: 0.9123 - val_loss: 0.2874\n",
            "Epoch 3/5\n",
            "\u001b[1m15/15\u001b[0m \u001b[32m━━━━━━━━━━━━━━━━━━━━\u001b[0m\u001b[37m\u001b[0m \u001b[1m21s\u001b[0m 1s/step - accuracy: 0.7902 - loss: 0.4827 - val_accuracy: 0.9123 - val_loss: 0.2818\n",
            "Epoch 4/5\n",
            "\u001b[1m15/15\u001b[0m \u001b[32m━━━━━━━━━━━━━━━━━━━━\u001b[0m\u001b[37m\u001b[0m \u001b[1m20s\u001b[0m 1s/step - accuracy: 0.8140 - loss: 0.4286 - val_accuracy: 0.9123 - val_loss: 0.2784\n",
            "Epoch 5/5\n",
            "\u001b[1m15/15\u001b[0m \u001b[32m━━━━━━━━━━━━━━━━━━━━\u001b[0m\u001b[37m\u001b[0m \u001b[1m21s\u001b[0m 1s/step - accuracy: 0.8359 - loss: 0.4519 - val_accuracy: 0.8947 - val_loss: 0.2851\n",
            "BLSTM Fold 2 - Test Loss: 0.4192, Test Accuracy: 0.8521\n",
            "Training on Fold 3/5...\n",
            "Epoch 1/5\n",
            "\u001b[1m15/15\u001b[0m \u001b[32m━━━━━━━━━━━━━━━━━━━━\u001b[0m\u001b[37m\u001b[0m \u001b[1m26s\u001b[0m 1s/step - accuracy: 0.7183 - loss: 0.5790 - val_accuracy: 0.9035 - val_loss: 0.2950\n",
            "Epoch 2/5\n",
            "\u001b[1m15/15\u001b[0m \u001b[32m━━━━━━━━━━━━━━━━━━━━\u001b[0m\u001b[37m\u001b[0m \u001b[1m19s\u001b[0m 1s/step - accuracy: 0.8060 - loss: 0.4689 - val_accuracy: 0.9035 - val_loss: 0.3212\n",
            "Epoch 3/5\n",
            "\u001b[1m15/15\u001b[0m \u001b[32m━━━━━━━━━━━━━━━━━━━━\u001b[0m\u001b[37m\u001b[0m \u001b[1m21s\u001b[0m 1s/step - accuracy: 0.8105 - loss: 0.4579 - val_accuracy: 0.8772 - val_loss: 0.3104\n",
            "Epoch 4/5\n",
            "\u001b[1m15/15\u001b[0m \u001b[32m━━━━━━━━━━━━━━━━━━━━\u001b[0m\u001b[37m\u001b[0m \u001b[1m20s\u001b[0m 1s/step - accuracy: 0.8419 - loss: 0.4304 - val_accuracy: 0.8860 - val_loss: 0.2978\n",
            "Epoch 5/5\n",
            "\u001b[1m15/15\u001b[0m \u001b[32m━━━━━━━━━━━━━━━━━━━━\u001b[0m\u001b[37m\u001b[0m \u001b[1m22s\u001b[0m 1s/step - accuracy: 0.8434 - loss: 0.4239 - val_accuracy: 0.8860 - val_loss: 0.2950\n",
            "BLSTM Fold 3 - Test Loss: 0.3433, Test Accuracy: 0.8662\n",
            "Training on Fold 4/5...\n",
            "Epoch 1/5\n",
            "\u001b[1m15/15\u001b[0m \u001b[32m━━━━━━━━━━━━━━━━━━━━\u001b[0m\u001b[37m\u001b[0m \u001b[1m28s\u001b[0m 1s/step - accuracy: 0.6917 - loss: 0.5906 - val_accuracy: 0.9123 - val_loss: 0.2715\n",
            "Epoch 2/5\n",
            "\u001b[1m15/15\u001b[0m \u001b[32m━━━━━━━━━━━━━━━━━━━━\u001b[0m\u001b[37m\u001b[0m \u001b[1m18s\u001b[0m 1s/step - accuracy: 0.8232 - loss: 0.4340 - val_accuracy: 0.9123 - val_loss: 0.2964\n",
            "Epoch 3/5\n",
            "\u001b[1m15/15\u001b[0m \u001b[32m━━━━━━━━━━━━━━━━━━━━\u001b[0m\u001b[37m\u001b[0m \u001b[1m16s\u001b[0m 1s/step - accuracy: 0.7723 - loss: 0.4766 - val_accuracy: 0.9123 - val_loss: 0.2810\n",
            "Epoch 4/5\n",
            "\u001b[1m15/15\u001b[0m \u001b[32m━━━━━━━━━━━━━━━━━━━━\u001b[0m\u001b[37m\u001b[0m \u001b[1m21s\u001b[0m 1s/step - accuracy: 0.8136 - loss: 0.4615 - val_accuracy: 0.9123 - val_loss: 0.2731\n",
            "Epoch 5/5\n",
            "\u001b[1m15/15\u001b[0m \u001b[32m━━━━━━━━━━━━━━━━━━━━\u001b[0m\u001b[37m\u001b[0m \u001b[1m20s\u001b[0m 1s/step - accuracy: 0.8551 - loss: 0.3718 - val_accuracy: 0.9211 - val_loss: 0.2741\n",
            "BLSTM Fold 4 - Test Loss: 0.3967, Test Accuracy: 0.8369\n",
            "Training on Fold 5/5...\n",
            "Epoch 1/5\n",
            "\u001b[1m15/15\u001b[0m \u001b[32m━━━━━━━━━━━━━━━━━━━━\u001b[0m\u001b[37m\u001b[0m \u001b[1m27s\u001b[0m 1s/step - accuracy: 0.7449 - loss: 0.5800 - val_accuracy: 0.9386 - val_loss: 0.2664\n",
            "Epoch 2/5\n",
            "\u001b[1m15/15\u001b[0m \u001b[32m━━━━━━━━━━━━━━━━━━━━\u001b[0m\u001b[37m\u001b[0m \u001b[1m21s\u001b[0m 1s/step - accuracy: 0.8025 - loss: 0.4591 - val_accuracy: 0.9298 - val_loss: 0.2890\n",
            "Epoch 3/5\n",
            "\u001b[1m15/15\u001b[0m \u001b[32m━━━━━━━━━━━━━━━━━━━━\u001b[0m\u001b[37m\u001b[0m \u001b[1m16s\u001b[0m 1s/step - accuracy: 0.8451 - loss: 0.4242 - val_accuracy: 0.8860 - val_loss: 0.3135\n",
            "Epoch 4/5\n",
            "\u001b[1m15/15\u001b[0m \u001b[32m━━━━━━━━━━━━━━━━━━━━\u001b[0m\u001b[37m\u001b[0m \u001b[1m21s\u001b[0m 1s/step - accuracy: 0.8214 - loss: 0.4564 - val_accuracy: 0.8860 - val_loss: 0.2973\n",
            "Epoch 5/5\n",
            "\u001b[1m15/15\u001b[0m \u001b[32m━━━━━━━━━━━━━━━━━━━━\u001b[0m\u001b[37m\u001b[0m \u001b[1m20s\u001b[0m 1s/step - accuracy: 0.8097 - loss: 0.4519 - val_accuracy: 0.8860 - val_loss: 0.2844\n",
            "BLSTM Fold 5 - Test Loss: 0.3223, Test Accuracy: 0.8723\n",
            "Average Accuracy: 0.8418439626693726\n"
          ]
        }
      ]
    },
    {
      "cell_type": "code",
      "source": [
        "gru_accuracies = []\n",
        "gru_losses = []\n",
        "\n",
        "for fold, (train_index, test_index) in enumerate(folds_indices):\n",
        "    print(f\"Training on Fold {fold+1}/{k_folds}...\")\n",
        "\n",
        "    X_train, X_test = data[train_index], data[test_index]\n",
        "    y_train, y_test = labels[train_index], labels[test_index]\n",
        "\n",
        "    print(f\"\\nTraining GRU Model on Fold {fold+1}...\")\n",
        "    gru_model = Sequential([\n",
        "        Embedding(input_dim=len(word_index) + 1, output_dim=embedding_dim, input_length=max_length),\n",
        "        GRU(32, return_sequences=False, dropout=0.3, recurrent_dropout=0.1),\n",
        "        Dense(1, activation='sigmoid')\n",
        "    ])\n",
        "\n",
        "    gru_model.compile(optimizer='adam', loss='binary_crossentropy', metrics=['accuracy'])\n",
        "    gru_model.fit(X_train, y_train, epochs=epochs, batch_size=batch_size, validation_split=0.2, verbose=1)\n",
        "\n",
        "    gru_loss, gru_accuracy = gru_model.evaluate(X_test, y_test, verbose=0)\n",
        "    gru_accuracies.append(gru_accuracy)\n",
        "    gru_losses.append(gru_loss)\n",
        "    print(f\"GRU Fold {fold+1} - Test Loss: {gru_loss:.4f}, Test Accuracy: {gru_accuracy:.4f}\")\n",
        "\n",
        "print(f\"Average Accuracy: {np.mean(gru_accuracies)}\")\n",
        "\n"
      ],
      "metadata": {
        "id": "WC15BepCdVVQ",
        "colab": {
          "base_uri": "https://localhost:8080/"
        },
        "outputId": "8584e312-0bab-471f-8000-6b602ae6a079"
      },
      "execution_count": 25,
      "outputs": [
        {
          "output_type": "stream",
          "name": "stdout",
          "text": [
            "Training on Fold 1/5...\n",
            "\n",
            "Training GRU Model on Fold 1...\n",
            "Epoch 1/5\n",
            "\u001b[1m15/15\u001b[0m \u001b[32m━━━━━━━━━━━━━━━━━━━━\u001b[0m\u001b[37m\u001b[0m \u001b[1m17s\u001b[0m 781ms/step - accuracy: 0.8081 - loss: 0.5671 - val_accuracy: 0.9298 - val_loss: 0.2446\n",
            "Epoch 2/5\n",
            "\u001b[1m15/15\u001b[0m \u001b[32m━━━━━━━━━━━━━━━━━━━━\u001b[0m\u001b[37m\u001b[0m \u001b[1m8s\u001b[0m 552ms/step - accuracy: 0.8342 - loss: 0.4198 - val_accuracy: 0.9298 - val_loss: 0.2478\n",
            "Epoch 3/5\n",
            "\u001b[1m15/15\u001b[0m \u001b[32m━━━━━━━━━━━━━━━━━━━━\u001b[0m\u001b[37m\u001b[0m \u001b[1m10s\u001b[0m 556ms/step - accuracy: 0.8395 - loss: 0.4246 - val_accuracy: 0.9298 - val_loss: 0.2656\n",
            "Epoch 4/5\n",
            "\u001b[1m15/15\u001b[0m \u001b[32m━━━━━━━━━━━━━━━━━━━━\u001b[0m\u001b[37m\u001b[0m \u001b[1m12s\u001b[0m 648ms/step - accuracy: 0.8745 - loss: 0.4143 - val_accuracy: 0.9298 - val_loss: 0.2506\n",
            "Epoch 5/5\n",
            "\u001b[1m15/15\u001b[0m \u001b[32m━━━━━━━━━━━━━━━━━━━━\u001b[0m\u001b[37m\u001b[0m \u001b[1m10s\u001b[0m 664ms/step - accuracy: 0.8682 - loss: 0.4108 - val_accuracy: 0.9386 - val_loss: 0.2583\n",
            "GRU Fold 1 - Test Loss: 0.5151, Test Accuracy: 0.7746\n",
            "Training on Fold 2/5...\n",
            "\n",
            "Training GRU Model on Fold 2...\n",
            "Epoch 1/5\n",
            "\u001b[1m15/15\u001b[0m \u001b[32m━━━━━━━━━━━━━━━━━━━━\u001b[0m\u001b[37m\u001b[0m \u001b[1m15s\u001b[0m 680ms/step - accuracy: 0.6774 - loss: 0.5956 - val_accuracy: 0.9123 - val_loss: 0.2879\n",
            "Epoch 2/5\n",
            "\u001b[1m15/15\u001b[0m \u001b[32m━━━━━━━━━━━━━━━━━━━━\u001b[0m\u001b[37m\u001b[0m \u001b[1m8s\u001b[0m 521ms/step - accuracy: 0.8016 - loss: 0.4438 - val_accuracy: 0.9123 - val_loss: 0.2754\n",
            "Epoch 3/5\n",
            "\u001b[1m15/15\u001b[0m \u001b[32m━━━━━━━━━━━━━━━━━━━━\u001b[0m\u001b[37m\u001b[0m \u001b[1m10s\u001b[0m 497ms/step - accuracy: 0.8536 - loss: 0.3819 - val_accuracy: 0.9123 - val_loss: 0.3010\n",
            "Epoch 4/5\n",
            "\u001b[1m15/15\u001b[0m \u001b[32m━━━━━━━━━━━━━━━━━━━━\u001b[0m\u001b[37m\u001b[0m \u001b[1m12s\u001b[0m 602ms/step - accuracy: 0.8474 - loss: 0.4045 - val_accuracy: 0.9298 - val_loss: 0.3089\n",
            "Epoch 5/5\n",
            "\u001b[1m15/15\u001b[0m \u001b[32m━━━━━━━━━━━━━━━━━━━━\u001b[0m\u001b[37m\u001b[0m \u001b[1m10s\u001b[0m 649ms/step - accuracy: 0.8338 - loss: 0.4575 - val_accuracy: 0.9123 - val_loss: 0.2922\n",
            "GRU Fold 2 - Test Loss: 0.4412, Test Accuracy: 0.8169\n",
            "Training on Fold 3/5...\n",
            "\n",
            "Training GRU Model on Fold 3...\n",
            "Epoch 1/5\n",
            "\u001b[1m15/15\u001b[0m \u001b[32m━━━━━━━━━━━━━━━━━━━━\u001b[0m\u001b[37m\u001b[0m \u001b[1m14s\u001b[0m 666ms/step - accuracy: 0.6844 - loss: 0.5982 - val_accuracy: 0.9123 - val_loss: 0.3065\n",
            "Epoch 2/5\n",
            "\u001b[1m15/15\u001b[0m \u001b[32m━━━━━━━━━━━━━━━━━━━━\u001b[0m\u001b[37m\u001b[0m \u001b[1m10s\u001b[0m 665ms/step - accuracy: 0.8222 - loss: 0.4454 - val_accuracy: 0.8947 - val_loss: 0.3048\n",
            "Epoch 3/5\n",
            "\u001b[1m15/15\u001b[0m \u001b[32m━━━━━━━━━━━━━━━━━━━━\u001b[0m\u001b[37m\u001b[0m \u001b[1m9s\u001b[0m 567ms/step - accuracy: 0.8336 - loss: 0.4638 - val_accuracy: 0.8947 - val_loss: 0.3247\n",
            "Epoch 4/5\n",
            "\u001b[1m15/15\u001b[0m \u001b[32m━━━━━━━━━━━━━━━━━━━━\u001b[0m\u001b[37m\u001b[0m \u001b[1m9s\u001b[0m 617ms/step - accuracy: 0.8326 - loss: 0.4482 - val_accuracy: 0.8860 - val_loss: 0.3238\n",
            "Epoch 5/5\n",
            "\u001b[1m15/15\u001b[0m \u001b[32m━━━━━━━━━━━━━━━━━━━━\u001b[0m\u001b[37m\u001b[0m \u001b[1m9s\u001b[0m 497ms/step - accuracy: 0.8513 - loss: 0.4272 - val_accuracy: 0.8860 - val_loss: 0.3221\n",
            "GRU Fold 3 - Test Loss: 0.3696, Test Accuracy: 0.8521\n",
            "Training on Fold 4/5...\n",
            "\n",
            "Training GRU Model on Fold 4...\n",
            "Epoch 1/5\n",
            "\u001b[1m15/15\u001b[0m \u001b[32m━━━━━━━━━━━━━━━━━━━━\u001b[0m\u001b[37m\u001b[0m \u001b[1m14s\u001b[0m 679ms/step - accuracy: 0.8230 - loss: 0.5749 - val_accuracy: 0.9123 - val_loss: 0.2702\n",
            "Epoch 2/5\n",
            "\u001b[1m15/15\u001b[0m \u001b[32m━━━━━━━━━━━━━━━━━━━━\u001b[0m\u001b[37m\u001b[0m \u001b[1m8s\u001b[0m 525ms/step - accuracy: 0.8275 - loss: 0.4367 - val_accuracy: 0.9386 - val_loss: 0.2763\n",
            "Epoch 3/5\n",
            "\u001b[1m15/15\u001b[0m \u001b[32m━━━━━━━━━━━━━━━━━━━━\u001b[0m\u001b[37m\u001b[0m \u001b[1m11s\u001b[0m 564ms/step - accuracy: 0.8478 - loss: 0.4417 - val_accuracy: 0.9211 - val_loss: 0.2996\n",
            "Epoch 4/5\n",
            "\u001b[1m15/15\u001b[0m \u001b[32m━━━━━━━━━━━━━━━━━━━━\u001b[0m\u001b[37m\u001b[0m \u001b[1m11s\u001b[0m 654ms/step - accuracy: 0.8705 - loss: 0.4131 - val_accuracy: 0.9211 - val_loss: 0.2839\n",
            "Epoch 5/5\n",
            "\u001b[1m15/15\u001b[0m \u001b[32m━━━━━━━━━━━━━━━━━━━━\u001b[0m\u001b[37m\u001b[0m \u001b[1m9s\u001b[0m 559ms/step - accuracy: 0.8585 - loss: 0.4473 - val_accuracy: 0.9211 - val_loss: 0.2915\n",
            "GRU Fold 4 - Test Loss: 0.4176, Test Accuracy: 0.8227\n",
            "Training on Fold 5/5...\n",
            "\n",
            "Training GRU Model on Fold 5...\n",
            "Epoch 1/5\n",
            "\u001b[1m15/15\u001b[0m \u001b[32m━━━━━━━━━━━━━━━━━━━━\u001b[0m\u001b[37m\u001b[0m \u001b[1m17s\u001b[0m 782ms/step - accuracy: 0.8290 - loss: 0.5742 - val_accuracy: 0.9386 - val_loss: 0.2797\n",
            "Epoch 2/5\n",
            "\u001b[1m15/15\u001b[0m \u001b[32m━━━━━━━━━━━━━━━━━━━━\u001b[0m\u001b[37m\u001b[0m \u001b[1m18s\u001b[0m 640ms/step - accuracy: 0.8077 - loss: 0.4551 - val_accuracy: 0.9211 - val_loss: 0.2943\n",
            "Epoch 3/5\n",
            "\u001b[1m15/15\u001b[0m \u001b[32m━━━━━━━━━━━━━━━━━━━━\u001b[0m\u001b[37m\u001b[0m \u001b[1m11s\u001b[0m 635ms/step - accuracy: 0.8388 - loss: 0.4600 - val_accuracy: 0.9123 - val_loss: 0.2971\n",
            "Epoch 4/5\n",
            "\u001b[1m15/15\u001b[0m \u001b[32m━━━━━━━━━━━━━━━━━━━━\u001b[0m\u001b[37m\u001b[0m \u001b[1m11s\u001b[0m 711ms/step - accuracy: 0.8408 - loss: 0.4587 - val_accuracy: 0.9035 - val_loss: 0.2930\n",
            "Epoch 5/5\n",
            "\u001b[1m15/15\u001b[0m \u001b[32m━━━━━━━━━━━━━━━━━━━━\u001b[0m\u001b[37m\u001b[0m \u001b[1m11s\u001b[0m 714ms/step - accuracy: 0.8471 - loss: 0.4607 - val_accuracy: 0.8860 - val_loss: 0.2995\n",
            "GRU Fold 5 - Test Loss: 0.3493, Test Accuracy: 0.8865\n",
            "Average Accuracy: 0.8305763483047486\n"
          ]
        }
      ]
    },
    {
      "cell_type": "markdown",
      "source": [
        "### Comparison"
      ],
      "metadata": {
        "id": "TvU1jOSnfArK"
      }
    },
    {
      "cell_type": "code",
      "source": [
        "# Plot accuracy for each fold\n",
        "folds = range(1, k_folds + 1)\n",
        "\n",
        "plt.figure(figsize=(10, 6))\n",
        "plt.plot(folds, blstm_accuracies, marker='o', label='BLSTM Accuracy')\n",
        "plt.plot(folds, gru_accuracies, marker='s', label='GRU Accuracy')\n",
        "\n",
        "plt.title('Accuracy per Fold (BLSTM vs GRU)', fontsize=14)\n",
        "plt.xlabel('Fold', fontsize=12)\n",
        "plt.ylabel('Accuracy', fontsize=12)\n",
        "plt.xticks(folds)  # Ensure x-axis has integer fold numbers\n",
        "plt.ylim(0, 1)  # Accuracy ranges from 0 to 1\n",
        "plt.grid(True)\n",
        "plt.legend(fontsize=12)\n",
        "plt.show()\n"
      ],
      "metadata": {
        "id": "7iN-V3T8fACU",
        "colab": {
          "base_uri": "https://localhost:8080/",
          "height": 569
        },
        "outputId": "fc0e2736-0b30-41ad-b2ee-d5dca236cff1"
      },
      "execution_count": 26,
      "outputs": [
        {
          "output_type": "display_data",
          "data": {
            "text/plain": [
              "<Figure size 1000x600 with 1 Axes>"
            ],
            "image/png": "[encoded data removed]"
          },
          "metadata": {}
        }
      ]
    },
    {
      "cell_type": "code",
      "source": [
        "# Plot Losses for each fold\n",
        "folds = range(1, k_folds + 1)\n",
        "\n",
        "plt.figure(figsize=(10, 6))\n",
        "plt.plot(folds, blstm_losses, marker='o', label='BLSTM Losses')\n",
        "plt.plot(folds, gru_losses, marker='s', label='GRU Losses')\n",
        "\n",
        "plt.title('Losses per Fold (BLSTM vs GRU)', fontsize=14)\n",
        "plt.xlabel('Fold', fontsize=12)\n",
        "plt.ylabel('Losses', fontsize=12)\n",
        "plt.xticks(folds)  # Ensure x-axis has integer fold numbers\n",
        "plt.ylim(0, 1)  # Losses ranges from 0 to 1\n",
        "plt.grid(True)\n",
        "plt.legend(fontsize=12)\n",
        "plt.show()\n"
      ],
      "metadata": {
        "id": "zqE7or9Jtmtp",
        "colab": {
          "base_uri": "https://localhost:8080/",
          "height": 569
        },
        "outputId": "d3e7b3d3-ba09-4f3a-e814-82c14b6fa70e"
      },
      "execution_count": 27,
      "outputs": [
        {
          "output_type": "display_data",
          "data": {
            "text/plain": [
              "<Figure size 1000x600 with 1 Axes>"
            ],
            "image/png": "[encoded data removed]"
          },
          "metadata": {}
        }
      ]
    },
    {
      "cell_type": "markdown",
      "source": [
        "## CVE Details"
      ],
      "metadata": {
        "id": "jjplVO7X9ziY"
      }
    },
    {
      "cell_type": "markdown",
      "source": [
        " Files containing vulnerable code are named using their corresponding CVE ID. Information about the CVEs is retrieved by sending requests to the NDV (National Vulnerability Database - https://www.google.com/url?q=https%3A%2F%2Fnvd.nist.gov%2Fdevelopers%2Fvulnerabilities ) through its API.\n",
        "\n",
        " Vulnerabilities can be classified in:\n",
        " * CVSS:\n",
        "  * **Low**: CVSS score from 0.0 to 3.9\n",
        "  * **Medium**: CVSS score from 4.0 to 6.9\n",
        "  * **High**: CVSS score from 7.0 to 8.9\n",
        "  * **Critical**: CVSS score from 9.0 to 10.0\n",
        "\n",
        "* CWE"
      ],
      "metadata": {
        "id": "fgWb523Iq6iL"
      }
    },
    {
      "cell_type": "code",
      "source": [
        "cve_files = []\n",
        "\n",
        "directories = [libpng_modified_vuln_path, vlc_modified_vuln_path, pidgin_modified_vuln_path]\n",
        "\n",
        "pattern = re.compile(r\"(?i)(?:^|_)cve-(\\d{4})-(\\d{4,5})\")\n",
        "# Scan each directory\n",
        "for directory in directories:\n",
        "  for file in os.listdir(directory):\n",
        "    match = pattern.search(file)\n",
        "    if match:\n",
        "        formatted_name = f\"CVE-{match.group(1)}-{match.group(2)}\"\n",
        "        cve_files.append(formatted_name)\n",
        "\n",
        "\n",
        "print(f\"Vulnerable files: (CVE): {len(cve_files)}\")\n",
        "\n",
        "occurrences = Counter(cve_files)\n",
        "table_data = [(cve, count) for cve, count in occurrences.items()]\n",
        "print(tabulate(table_data, headers=[\"CVE\", \"Occorrenze\"], tablefmt=\"grid\"))\n"
      ],
      "metadata": {
        "colab": {
          "base_uri": "https://localhost:8080/"
        },
        "id": "sduXWVmiXdzg",
        "outputId": "3d38b875-5bc7-4a78-a5f1-bd59308002d9"
      },
      "execution_count": 28,
      "outputs": [
        {
          "output_type": "stream",
          "name": "stdout",
          "text": [
            "Vulnerable files: (CVE): 118\n",
            "+----------------+--------------+\n",
            "| CVE            |   Occorrenze |\n",
            "+================+==============+\n",
            "| CVE-2015-0973  |            1 |\n",
            "+----------------+--------------+\n",
            "| CVE-2004-0599  |            2 |\n",
            "+----------------+--------------+\n",
            "| CVE-2014-9495  |            1 |\n",
            "+----------------+--------------+\n",
            "| CVE-2011-3464  |            1 |\n",
            "+----------------+--------------+\n",
            "| CVE-2011-0408  |            2 |\n",
            "+----------------+--------------+\n",
            "| CVE-2004-0597  |            3 |\n",
            "+----------------+--------------+\n",
            "| CVE-2007-2445  |            1 |\n",
            "+----------------+--------------+\n",
            "| CVE-2006-0481  |            1 |\n",
            "+----------------+--------------+\n",
            "| CVE-2012-3425  |            1 |\n",
            "+----------------+--------------+\n",
            "| CVE-2008-5907  |            1 |\n",
            "+----------------+--------------+\n",
            "| CVE-2018-13785 |            1 |\n",
            "+----------------+--------------+\n",
            "| CVE-2011-3328  |            1 |\n",
            "+----------------+--------------+\n",
            "| CVE-2007-5269  |            2 |\n",
            "+----------------+--------------+\n",
            "| CVE-2015-8126  |            2 |\n",
            "+----------------+--------------+\n",
            "| CVE-2011-2501  |            1 |\n",
            "+----------------+--------------+\n",
            "| CVE-2006-3334  |            1 |\n",
            "+----------------+--------------+\n",
            "| CVE-2007-5629  |            1 |\n",
            "+----------------+--------------+\n",
            "| CVE-2008-6218  |            1 |\n",
            "+----------------+--------------+\n",
            "| CVE-2013-7354  |            2 |\n",
            "+----------------+--------------+\n",
            "| CVE-2015-8472  |            1 |\n",
            "+----------------+--------------+\n",
            "| CVE-2016-10087 |            1 |\n",
            "+----------------+--------------+\n",
            "| CVE-2009-5063  |            1 |\n",
            "+----------------+--------------+\n",
            "| CVE-2013-6954  |            1 |\n",
            "+----------------+--------------+\n",
            "| CVE-2014-0333  |            1 |\n",
            "+----------------+--------------+\n",
            "| CVE-2004-0598  |            1 |\n",
            "+----------------+--------------+\n",
            "| CVE-2007-5267  |            1 |\n",
            "+----------------+--------------+\n",
            "| CVE-2015-7981  |            1 |\n",
            "+----------------+--------------+\n",
            "| CVE-2018-14048 |            1 |\n",
            "+----------------+--------------+\n",
            "| CVE-2015-8540  |            1 |\n",
            "+----------------+--------------+\n",
            "| CVE-2013-7353  |            1 |\n",
            "+----------------+--------------+\n",
            "| CVE-2010-0205  |            1 |\n",
            "+----------------+--------------+\n",
            "| CVE-2006-5793  |            1 |\n",
            "+----------------+--------------+\n",
            "| CVE-2011-3048  |            1 |\n",
            "+----------------+--------------+\n",
            "| CVE-2011-2692  |            1 |\n",
            "+----------------+--------------+\n",
            "| CVE-2009-0040  |            1 |\n",
            "+----------------+--------------+\n",
            "| CVE-2006-7244  |            1 |\n",
            "+----------------+--------------+\n",
            "| CVE-2007-5266  |            1 |\n",
            "+----------------+--------------+\n",
            "| CVE-2011-3045  |            1 |\n",
            "+----------------+--------------+\n",
            "| CVE-2011-3623  |            3 |\n",
            "+----------------+--------------+\n",
            "| CVE-2008-5276  |            1 |\n",
            "+----------------+--------------+\n",
            "| CVE-2008-1489  |            1 |\n",
            "+----------------+--------------+\n",
            "| CVE-2016-3941  |            1 |\n",
            "+----------------+--------------+\n",
            "| CVE-2011-0522  |            2 |\n",
            "+----------------+--------------+\n",
            "| CVE-2010-2062  |            1 |\n",
            "+----------------+--------------+\n",
            "| CVE-2007-6682  |            1 |\n",
            "+----------------+--------------+\n",
            "| CVE-2008-5036  |            1 |\n",
            "+----------------+--------------+\n",
            "| CVE-2011-1684  |            1 |\n",
            "+----------------+--------------+\n",
            "| CVE-2017-8313  |            1 |\n",
            "+----------------+--------------+\n",
            "| CVE-2010-3907  |            2 |\n",
            "+----------------+--------------+\n",
            "| CVE-2017-8310  |            1 |\n",
            "+----------------+--------------+\n",
            "| CVE-2008-1881  |            1 |\n",
            "+----------------+--------------+\n",
            "| CVE-2011-2587  |            1 |\n",
            "+----------------+--------------+\n",
            "| CVE-2018-19857 |            1 |\n",
            "+----------------+--------------+\n",
            "| CVE-2007-0017  |            3 |\n",
            "+----------------+--------------+\n",
            "| CVE-2014-9598  |            1 |\n",
            "+----------------+--------------+\n",
            "| CVE-2014-1684  |            1 |\n",
            "+----------------+--------------+\n",
            "| CVE-2010-1443  |            1 |\n",
            "+----------------+--------------+\n",
            "| CVE-2010-1444  |            1 |\n",
            "+----------------+--------------+\n",
            "| CVE-2008-4654  |            1 |\n",
            "+----------------+--------------+\n",
            "| CVE-2008-3732  |            1 |\n",
            "+----------------+--------------+\n",
            "| CVE-2018-11516 |            1 |\n",
            "+----------------+--------------+\n",
            "| CVE-2010-3124  |            1 |\n",
            "+----------------+--------------+\n",
            "| CVE-2012-0023  |            1 |\n",
            "+----------------+--------------+\n",
            "| CVE-2008-3794  |            1 |\n",
            "+----------------+--------------+\n",
            "| CVE-2013-1954  |            1 |\n",
            "+----------------+--------------+\n",
            "| CVE-2016-5108  |            1 |\n",
            "+----------------+--------------+\n",
            "| CVE-2013-4388  |            1 |\n",
            "+----------------+--------------+\n",
            "| CVE-2009-2484  |            1 |\n",
            "+----------------+--------------+\n",
            "| CVE-2008-0984  |            1 |\n",
            "+----------------+--------------+\n",
            "| CVE-2014-9597  |            1 |\n",
            "+----------------+--------------+\n",
            "| CVE-2011-2588  |            1 |\n",
            "+----------------+--------------+\n",
            "| CVE-2010-2937  |            1 |\n",
            "+----------------+--------------+\n",
            "| CVE-2014-9743  |            1 |\n",
            "+----------------+--------------+\n",
            "| CVE-2008-2430  |            1 |\n",
            "+----------------+--------------+\n",
            "| CVE-2015-5949  |            1 |\n",
            "+----------------+--------------+\n",
            "| CVE-2017-8311  |            1 |\n",
            "+----------------+--------------+\n",
            "| CVE-2016-2380  |            1 |\n",
            "+----------------+--------------+\n",
            "| CVE-2010-1624  |            1 |\n",
            "+----------------+--------------+\n",
            "| CVE-2013-0273  |            1 |\n",
            "+----------------+--------------+\n",
            "| CVE-2013-6481  |            1 |\n",
            "+----------------+--------------+\n",
            "| CVE-2009-1376  |            1 |\n",
            "+----------------+--------------+\n",
            "| CVE-2011-2943  |            1 |\n",
            "+----------------+--------------+\n",
            "| CVE-2016-2375  |            1 |\n",
            "+----------------+--------------+\n",
            "| CVE-2014-3697  |            1 |\n",
            "+----------------+--------------+\n",
            "| CVE-2016-2376  |            1 |\n",
            "+----------------+--------------+\n",
            "| CVE-2011-3184  |            1 |\n",
            "+----------------+--------------+\n",
            "| CVE-2012-3374  |            1 |\n",
            "+----------------+--------------+\n",
            "| CVE-2011-4603  |            1 |\n",
            "+----------------+--------------+\n",
            "| CVE-2014-3698  |            1 |\n",
            "+----------------+--------------+\n",
            "| CVE-2009-2694  |            1 |\n",
            "+----------------+--------------+\n",
            "| CVE-2013-0272  |            1 |\n",
            "+----------------+--------------+\n",
            "| CVE-2016-2371  |            1 |\n",
            "+----------------+--------------+\n",
            "| CVE-2011-4939  |            1 |\n",
            "+----------------+--------------+\n",
            "| CVE-2013-6482  |            1 |\n",
            "+----------------+--------------+\n",
            "| CVE-2016-2374  |            1 |\n",
            "+----------------+--------------+\n",
            "| CVE-2013-6487  |            1 |\n",
            "+----------------+--------------+\n",
            "| CVE-2016-2377  |            1 |\n",
            "+----------------+--------------+\n",
            "| CVE-2013-6489  |            1 |\n",
            "+----------------+--------------+\n",
            "| CVE-2009-3083  |            1 |\n",
            "+----------------+--------------+\n",
            "| CVE-2010-2528  |            1 |\n",
            "+----------------+--------------+\n",
            "| CVE-2011-3594  |            1 |\n",
            "+----------------+--------------+\n",
            "| CVE-2009-3084  |            1 |\n",
            "+----------------+--------------+\n",
            "| CVE-2012-1178  |            1 |\n",
            "+----------------+--------------+\n",
            "| CVE-2008-2927  |            1 |\n",
            "+----------------+--------------+\n",
            "| CVE-2016-2366  |            1 |\n",
            "+----------------+--------------+\n"
          ]
        }
      ]
    },
    {
      "cell_type": "code",
      "source": [
        "import requests\n",
        "import time\n",
        "\n",
        "def get_cve_details(cve_id):\n",
        "    # URL to obtain vulnerability details from the NVD in JSON format\n",
        "    url = f'https://services.nvd.nist.gov/rest/json/cves/2.0/?cveId={cve_id}'\n",
        "\n",
        "    response = requests.get(url)\n",
        "    if response.status_code == 200:\n",
        "        data = response.json()\n",
        "        return data\n",
        "    elif response.status_code == 403:\n",
        "        time.sleep(30)\n",
        "        return get_cve_details(cve_id)\n",
        "    else:\n",
        "        print(f\"Error fetching data for {cve_id}: {response.status_code}\")\n",
        "        return None"
      ],
      "metadata": {
        "id": "mqJjlyXN-eem"
      },
      "execution_count": 29,
      "outputs": []
    },
    {
      "cell_type": "code",
      "source": [
        "def get_cve_cvss_cwe(cve_id):\n",
        "    data_cve = get_cve_details(cve_id)\n",
        "    if data_cve is None:\n",
        "        return None\n",
        "    try:\n",
        "      cvss_score = data_cve[\"vulnerabilities\"][0][\"cve\"][\"metrics\"][\"cvssMetricV2\"][0][\"cvssData\"][\"baseScore\"]\n",
        "    except KeyError:\n",
        "      print(f\"CVSS score not found for {cve_id}\")\n",
        "      cvss_score = None\n",
        "    try:\n",
        "      cvss_severity = data_cve[\"vulnerabilities\"][0][\"cve\"][\"metrics\"][\"cvssMetricV2\"][0][\"baseSeverity\"]\n",
        "    except KeyError:\n",
        "      print(f\"CVSS severity not found for {cve_id}\")\n",
        "      cvss_severity = None\n",
        "    try:\n",
        "      cwe_value = data_cve[\"vulnerabilities\"][0][\"cve\"][\"weaknesses\"][0][\"description\"][0][\"value\"]\n",
        "    except KeyError:\n",
        "      print(f\"CWE not found for {cve_id}\")\n",
        "      cwe_value = None\n",
        "    return cvss_score, cvss_severity, cwe_value\n",
        "\n",
        "cvss = []\n",
        "severity = []\n",
        "cwe = []\n",
        "\n",
        "for cve in cve_files:\n",
        "    cve_cvss, cve_severity, cve_cwe = get_cve_cvss_cwe(cve)\n",
        "    print(f\"{cve}: CVSS Score = {cve_cvss} Severity = {cve_severity}, CWE = {cve_cwe}\")\n",
        "    cvss.append(cve_cvss)\n",
        "    severity.append(cve_severity)\n",
        "    cwe.append(cve_cwe)\n"
      ],
      "metadata": {
        "colab": {
          "base_uri": "https://localhost:8080/"
        },
        "id": "L8NR05Se0xaK",
        "outputId": "da92ec38-da14-4677-a881-9041b488b773"
      },
      "execution_count": 30,
      "outputs": [
        {
          "output_type": "stream",
          "name": "stdout",
          "text": [
            "CVE-2015-0973: CVSS Score = 7.5 Severity = HIGH, CWE = CWE-119\n",
            "CVE-2004-0599: CVSS Score = 5.0 Severity = MEDIUM, CWE = NVD-CWE-Other\n",
            "CVE-2014-9495: CVSS Score = 10.0 Severity = HIGH, CWE = CWE-119\n",
            "CVE-2011-3464: CVSS Score = 7.5 Severity = HIGH, CWE = CWE-189\n",
            "CVE-2011-0408: CVSS Score = 6.8 Severity = MEDIUM, CWE = CWE-119\n",
            "CVE-2004-0597: CVSS Score = 10.0 Severity = HIGH, CWE = NVD-CWE-Other\n",
            "CVE-2004-0597: CVSS Score = 10.0 Severity = HIGH, CWE = NVD-CWE-Other\n",
            "CVE-2007-2445: CVSS Score = 5.0 Severity = MEDIUM, CWE = NVD-CWE-noinfo\n",
            "CVE-2006-0481: CVSS Score = 5.0 Severity = MEDIUM, CWE = CWE-119\n",
            "CVE-2012-3425: CVSS Score = 4.3 Severity = MEDIUM, CWE = CWE-119\n",
            "CVE-2008-5907: CVSS Score = 5.0 Severity = MEDIUM, CWE = NVD-CWE-noinfo\n",
            "CVE-2018-13785: CVSS Score = 4.3 Severity = MEDIUM, CWE = CWE-190\n",
            "CVE-2004-0599: CVSS Score = 5.0 Severity = MEDIUM, CWE = NVD-CWE-Other\n",
            "CVE-2011-3328: CVSS Score = 2.6 Severity = LOW, CWE = NVD-CWE-Other\n",
            "CVE-2007-5269: CVSS Score = 5.0 Severity = MEDIUM, CWE = CWE-20\n",
            "CVE-2004-0597: CVSS Score = 10.0 Severity = HIGH, CWE = NVD-CWE-Other\n",
            "CVE-2015-8126: CVSS Score = 7.5 Severity = HIGH, CWE = CWE-120\n",
            "CVE-2011-2501: CVSS Score = 4.3 Severity = MEDIUM, CWE = CWE-125\n",
            "CVE-2006-3334: CVSS Score = 7.5 Severity = HIGH, CWE = NVD-CWE-Other\n",
            "CVE-2007-5629: CVSS Score = 4.3 Severity = MEDIUM, CWE = CWE-79\n",
            "CVE-2008-6218: CVSS Score = 7.1 Severity = HIGH, CWE = CWE-399\n",
            "CVE-2011-0408: CVSS Score = 6.8 Severity = MEDIUM, CWE = CWE-119\n",
            "CVE-2013-7354: CVSS Score = 5.0 Severity = MEDIUM, CWE = CWE-189\n",
            "CVE-2015-8126: CVSS Score = 7.5 Severity = HIGH, CWE = CWE-120\n",
            "CVE-2015-8472: CVSS Score = 7.5 Severity = HIGH, CWE = CWE-119\n",
            "CVE-2016-10087: CVSS Score = 5.0 Severity = MEDIUM, CWE = CWE-476\n",
            "CVE-2009-5063: CVSS Score = 5.0 Severity = MEDIUM, CWE = CWE-401\n",
            "CVE-2013-6954: CVSS Score = 5.0 Severity = MEDIUM, CWE = NVD-CWE-Other\n",
            "CVE-2014-0333: CVSS Score = 5.0 Severity = MEDIUM, CWE = CWE-189\n",
            "CVE-2004-0598: CVSS Score = 5.0 Severity = MEDIUM, CWE = NVD-CWE-Other\n",
            "CVE-2007-5267: CVSS Score = 4.3 Severity = MEDIUM, CWE = CWE-189\n",
            "CVE-2015-7981: CVSS Score = 5.0 Severity = MEDIUM, CWE = CWE-200\n",
            "CVE-2013-7354: CVSS Score = 5.0 Severity = MEDIUM, CWE = CWE-189\n",
            "CVE-2018-14048: CVSS Score = 4.3 Severity = MEDIUM, CWE = NVD-CWE-noinfo\n",
            "CVE-2015-8540: CVSS Score = 9.3 Severity = HIGH, CWE = CWE-189\n",
            "CVE-2013-7353: CVSS Score = 5.0 Severity = MEDIUM, CWE = CWE-189\n",
            "CVE-2010-0205: CVSS Score = 4.3 Severity = MEDIUM, CWE = CWE-400\n",
            "CVE-2006-5793: CVSS Score = 2.6 Severity = LOW, CWE = CWE-20\n",
            "CVE-2011-3048: CVSS Score = 6.8 Severity = MEDIUM, CWE = CWE-119\n",
            "CVE-2011-2692: CVSS Score = 6.8 Severity = MEDIUM, CWE = CWE-119\n",
            "CVE-2009-0040: CVSS Score = 6.8 Severity = MEDIUM, CWE = CWE-824\n",
            "CVE-2007-5269: CVSS Score = 5.0 Severity = MEDIUM, CWE = CWE-20\n",
            "CVE-2006-7244: CVSS Score = 5.0 Severity = MEDIUM, CWE = CWE-399\n",
            "CVE-2007-5266: CVSS Score = 4.3 Severity = MEDIUM, CWE = CWE-189\n",
            "CVE-2011-3045: CVSS Score = 6.8 Severity = MEDIUM, CWE = CWE-190\n",
            "CVE-2011-3623: CVSS Score = 7.5 Severity = HIGH, CWE = CWE-119\n",
            "CVE-2008-5276: CVSS Score = 9.3 Severity = HIGH, CWE = CWE-189\n",
            "CVE-2008-1489: CVSS Score = 6.8 Severity = MEDIUM, CWE = CWE-189\n",
            "CVE-2016-3941: CVSS Score = 4.3 Severity = MEDIUM, CWE = CWE-119\n",
            "CVE-2011-0522: CVSS Score = 6.8 Severity = MEDIUM, CWE = CWE-119\n",
            "CVE-2010-2062: CVSS Score = 7.5 Severity = HIGH, CWE = CWE-189\n",
            "CVE-2007-6682: CVSS Score = 7.5 Severity = HIGH, CWE = NVD-CWE-Other\n",
            "CVE-2008-5036: CVSS Score = 9.3 Severity = HIGH, CWE = CWE-119\n",
            "CVE-2011-1684: CVSS Score = 6.8 Severity = MEDIUM, CWE = CWE-119\n",
            "CVE-2011-0522: CVSS Score = 6.8 Severity = MEDIUM, CWE = CWE-119\n",
            "CVE-2017-8313: CVSS Score = 4.3 Severity = MEDIUM, CWE = CWE-125\n",
            "CVE-2010-3907: CVSS Score = 9.3 Severity = HIGH, CWE = CWE-189\n",
            "CVE-2017-8310: CVSS Score = 4.3 Severity = MEDIUM, CWE = CWE-125\n",
            "CVE-2008-1881: CVSS Score = 6.8 Severity = MEDIUM, CWE = CWE-119\n",
            "CVE-2011-2587: CVSS Score = 6.8 Severity = MEDIUM, CWE = CWE-119\n",
            "CVE-2018-19857: CVSS Score = 6.4 Severity = MEDIUM, CWE = CWE-824\n",
            "CVE-2007-0017: CVSS Score = 6.8 Severity = MEDIUM, CWE = CWE-134\n",
            "CVE-2011-3623: CVSS Score = 7.5 Severity = HIGH, CWE = CWE-119\n",
            "CVE-2014-9598: CVSS Score = 6.8 Severity = MEDIUM, CWE = CWE-20\n",
            "CVE-2014-1684: CVSS Score = 4.3 Severity = MEDIUM, CWE = CWE-189\n",
            "CVE-2010-1443: CVSS Score = 5.0 Severity = MEDIUM, CWE = NVD-CWE-Other\n",
            "CVE-2010-1444: CVSS Score = 7.5 Severity = HIGH, CWE = CWE-119\n",
            "CVE-2008-4654: CVSS Score = 9.3 Severity = HIGH, CWE = CWE-119\n",
            "CVE-2008-3732: CVSS Score = 9.3 Severity = HIGH, CWE = CWE-189\n",
            "CVE-2018-11516: CVSS Score = 6.8 Severity = MEDIUM, CWE = CWE-416\n",
            "CVE-2010-3124: CVSS Score = 9.3 Severity = HIGH, CWE = NVD-CWE-Other\n",
            "CVE-2012-0023: CVSS Score = 9.3 Severity = HIGH, CWE = CWE-399\n",
            "CVE-2008-3794: CVSS Score = 6.8 Severity = MEDIUM, CWE = CWE-189\n",
            "CVE-2013-1954: CVSS Score = 6.8 Severity = MEDIUM, CWE = CWE-119\n",
            "CVE-2016-5108: CVSS Score = 7.5 Severity = HIGH, CWE = CWE-119\n",
            "CVE-2013-4388: CVSS Score = 6.8 Severity = MEDIUM, CWE = CWE-119\n",
            "CVE-2009-2484: CVSS Score = 9.3 Severity = HIGH, CWE = CWE-119\n",
            "CVE-2008-0984: CVSS Score = 9.3 Severity = HIGH, CWE = CWE-399\n",
            "CVE-2014-9597: CVSS Score = 6.8 Severity = MEDIUM, CWE = CWE-20\n",
            "CVE-2011-3623: CVSS Score = 7.5 Severity = HIGH, CWE = CWE-119\n",
            "CVE-2011-2588: CVSS Score = 6.8 Severity = MEDIUM, CWE = CWE-119\n",
            "CVE-2010-2937: CVSS Score = 5.0 Severity = MEDIUM, CWE = CWE-20\n",
            "CVE-2014-9743: CVSS Score = 4.3 Severity = MEDIUM, CWE = CWE-79\n",
            "CVE-2007-0017: CVSS Score = 6.8 Severity = MEDIUM, CWE = CWE-134\n",
            "CVE-2010-3907: CVSS Score = 9.3 Severity = HIGH, CWE = CWE-189\n",
            "CVE-2008-2430: CVSS Score = 9.3 Severity = HIGH, CWE = CWE-189\n",
            "CVE-2015-5949: CVSS Score = 6.8 Severity = MEDIUM, CWE = CWE-119\n",
            "CVE-2007-0017: CVSS Score = 6.8 Severity = MEDIUM, CWE = CWE-134\n",
            "CVE-2017-8311: CVSS Score = 6.8 Severity = MEDIUM, CWE = CWE-119\n",
            "CVE-2016-2380: CVSS Score = 4.3 Severity = MEDIUM, CWE = CWE-125\n",
            "CVE-2010-1624: CVSS Score = 5.0 Severity = MEDIUM, CWE = CWE-20\n",
            "CVE-2013-0273: CVSS Score = 5.0 Severity = MEDIUM, CWE = NVD-CWE-noinfo\n",
            "CVE-2013-6481: CVSS Score = 5.0 Severity = MEDIUM, CWE = CWE-119\n",
            "CVE-2009-1376: CVSS Score = 9.3 Severity = HIGH, CWE = CWE-189\n",
            "CVE-2011-2943: CVSS Score = 4.3 Severity = MEDIUM, CWE = NVD-CWE-Other\n",
            "CVE-2016-2375: CVSS Score = 5.0 Severity = MEDIUM, CWE = CWE-125\n",
            "CVE-2014-3697: CVSS Score = 6.4 Severity = MEDIUM, CWE = CWE-22\n",
            "CVE-2016-2376: CVSS Score = 6.8 Severity = MEDIUM, CWE = CWE-119\n",
            "CVE-2011-3184: CVSS Score = 4.3 Severity = MEDIUM, CWE = CWE-399\n",
            "CVE-2012-3374: CVSS Score = 7.5 Severity = HIGH, CWE = CWE-119\n",
            "CVE-2011-4603: CVSS Score = 5.0 Severity = MEDIUM, CWE = CWE-20\n",
            "CVE-2014-3698: CVSS Score = 5.0 Severity = MEDIUM, CWE = CWE-200\n",
            "CVE-2009-2694: CVSS Score = 10.0 Severity = HIGH, CWE = CWE-399\n",
            "CVE-2013-0272: CVSS Score = 6.8 Severity = MEDIUM, CWE = CWE-119\n",
            "CVE-2016-2371: CVSS Score = 6.8 Severity = MEDIUM, CWE = CWE-787\n",
            "CVE-2011-4939: CVSS Score = 6.4 Severity = MEDIUM, CWE = CWE-264\n",
            "CVE-2013-6482: CVSS Score = 5.0 Severity = MEDIUM, CWE = CWE-20\n",
            "CVE-2016-2374: CVSS Score = 6.8 Severity = MEDIUM, CWE = CWE-125\n",
            "CVE-2013-6487: CVSS Score = 7.5 Severity = HIGH, CWE = CWE-189\n",
            "CVE-2016-2377: CVSS Score = 6.8 Severity = MEDIUM, CWE = CWE-119\n",
            "CVE-2013-6489: CVSS Score = 5.0 Severity = MEDIUM, CWE = CWE-189\n",
            "CVE-2009-3083: CVSS Score = 5.0 Severity = MEDIUM, CWE = CWE-119\n",
            "CVE-2010-2528: CVSS Score = 4.0 Severity = MEDIUM, CWE = CWE-399\n",
            "CVE-2011-3594: CVSS Score = 4.3 Severity = MEDIUM, CWE = CWE-119\n",
            "CVE-2009-3084: CVSS Score = 5.0 Severity = MEDIUM, CWE = CWE-20\n",
            "CVE-2012-1178: CVSS Score = 5.0 Severity = MEDIUM, CWE = CWE-399\n",
            "CVE-2008-2927: CVSS Score = 6.8 Severity = MEDIUM, CWE = CWE-189\n",
            "CVE-2016-2366: CVSS Score = 4.3 Severity = MEDIUM, CWE = CWE-125\n"
          ]
        }
      ]
    },
    {
      "cell_type": "code",
      "source": [
        "title = [\"CVE\", \"CVSS\", \"Severity\", \"CWE\"]\n",
        "cves_info = np.vstack([title, np.column_stack([cve_files, cvss, severity, cwe])])\n",
        "np.savetxt(f\"{drive_path}/cves_info.csv\", cves_info, delimiter=\",\", fmt=\"%s\")"
      ],
      "metadata": {
        "id": "ShvwPUKaqBTZ"
      },
      "execution_count": 31,
      "outputs": []
    },
    {
      "cell_type": "code",
      "source": [
        "column_index = title.index(\"Severity\")\n",
        "severity_column = cves_info[1:, column_index]\n",
        "occurrences = Counter(severity_column)\n",
        "print(f\"Severity: {occurrences}\")"
      ],
      "metadata": {
        "colab": {
          "base_uri": "https://localhost:8080/"
        },
        "id": "s5KCfEEZugr_",
        "outputId": "aca207c5-36a7-42be-ef2c-9e52c53b9f61"
      },
      "execution_count": 32,
      "outputs": [
        {
          "output_type": "stream",
          "name": "stdout",
          "text": [
            "Severity: Counter({'MEDIUM': 82, 'HIGH': 34, 'LOW': 2})\n"
          ]
        }
      ]
    },
    {
      "cell_type": "code",
      "source": [
        "column_index = title.index(\"CWE\")\n",
        "cwe_column = cves_info[1:, column_index]\n",
        "occurrences = Counter(cwe_column)\n",
        "print(f\"CWE: {occurrences}\")"
      ],
      "metadata": {
        "colab": {
          "base_uri": "https://localhost:8080/"
        },
        "id": "4ysW8Oih1c71",
        "outputId": "464d5932-9b84-453f-b20b-b04056c53b74"
      },
      "execution_count": 33,
      "outputs": [
        {
          "output_type": "stream",
          "name": "stdout",
          "text": [
            "CWE: Counter({'CWE-119': 35, 'CWE-189': 21, 'NVD-CWE-Other': 13, 'CWE-20': 10, 'CWE-399': 8, 'CWE-125': 7, 'NVD-CWE-noinfo': 4, 'CWE-134': 3, 'CWE-190': 2, 'CWE-120': 2, 'CWE-79': 2, 'CWE-200': 2, 'CWE-824': 2, 'CWE-476': 1, 'CWE-401': 1, 'CWE-400': 1, 'CWE-416': 1, 'CWE-22': 1, 'CWE-787': 1, 'CWE-264': 1})\n"
          ]
        }
      ]
    },
    {
      "cell_type": "markdown",
      "source": [
        "## Dataset preparation"
      ],
      "metadata": {
        "id": "4wbqNS8K2GiG"
      }
    },
    {
      "cell_type": "code",
      "source": [
        "def get_cwe_category(cve_name, cves_info):\n",
        "    return cves_info[cves_info[:, 0] == cve_name, 3][0]"
      ],
      "metadata": {
        "id": "NNijJlVLKZFT"
      },
      "execution_count": 34,
      "outputs": []
    },
    {
      "cell_type": "code",
      "source": [
        "get_cwe_category(\"CVE-2015-0973\", cves_info)"
      ],
      "metadata": {
        "colab": {
          "base_uri": "https://localhost:8080/",
          "height": 35
        },
        "id": "Bt8hU3uyKaqF",
        "outputId": "0621c99b-abb0-42e0-84e3-9746b3004e98"
      },
      "execution_count": 36,
      "outputs": [
        {
          "output_type": "execute_result",
          "data": {
            "text/plain": [
              "'CWE-119'"
            ],
            "application/vnd.google.colaboratory.intrinsic+json": {
              "type": "string"
            }
          },
          "metadata": {},
          "execution_count": 36
        }
      ]
    },
    {
      "cell_type": "code",
      "source": [
        "def get_label_cwe(cwe_value):\n",
        "    if cwe_value == \"CWE-119\":\n",
        "        return 1\n",
        "    elif cwe_value == \"CWE-189\":\n",
        "        return 2\n",
        "    elif cwe_value == \"NVD-CWE-Other\":\n",
        "        return 3\n",
        "    else:\n",
        "        return 4"
      ],
      "metadata": {
        "id": "i8ItFwyBLbqo"
      },
      "execution_count": 41,
      "outputs": []
    },
    {
      "cell_type": "code",
      "source": [
        "# Load and label data\n",
        "def load_data_directoies_multi_classes(directories):\n",
        "    data = []\n",
        "    pattern = re.compile(r\"(?i)(?:^|_)cve-(\\d{4})-(\\d{4,5})\")\n",
        "    for directory in directories:\n",
        "        for filename in os.listdir(directory):\n",
        "            label = 0\n",
        "            match = pattern.search(filename)\n",
        "            if match:\n",
        "              cve_name = f\"CVE-{match.group(1)}-{match.group(2)}\"\n",
        "              cwe_value = get_cwe_category(cve_name, cves_info)\n",
        "              label = get_label_cwe(cwe_value)\n",
        "            with open(os.path.join(directory, filename), 'r') as file:\n",
        "\n",
        "                data.append((file.read(), label))\n",
        "    return data\n",
        "\n"
      ],
      "metadata": {
        "id": "UnxPwP5KR3cM"
      },
      "execution_count": 46,
      "outputs": []
    },
    {
      "cell_type": "code",
      "source": [
        "vulnerable_files = load_data_directoies_multi_classes([libpng_modified_vuln_path, vlc_modified_vuln_path, pidgin_modified_vuln_path])\n",
        "non_vulnerable_files = load_data_directoies_multi_classes([libpng_modified_non_vuln_path, vlc_modified_non_vuln_path, pidgin_modified_non_vuln_path])"
      ],
      "metadata": {
        "id": "D3awVxXEVqPK"
      },
      "execution_count": null,
      "outputs": []
    },
    {
      "cell_type": "code",
      "source": [
        "# Combine and shuffle dataset\n",
        "n = len(vulnerable_files) * 5\n",
        "\n",
        "non_vulnerable_files_selected = random.sample(non_vulnerable_files, min(n, len(non_vulnerable_files)))\n",
        "\n",
        "dataset = vulnerable_files + non_vulnerable_files_selected\n",
        "random.shuffle(dataset)\n",
        "\n",
        "texts, labels = zip(*dataset)"
      ],
      "metadata": {
        "id": "qYmE6oeRGDrL"
      },
      "execution_count": null,
      "outputs": []
    }
  ]
}